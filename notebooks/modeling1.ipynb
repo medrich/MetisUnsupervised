{
 "cells": [
  {
   "cell_type": "code",
   "execution_count": 1,
   "id": "9086a7a9-aa6e-4fe3-a96f-244c4b915bde",
   "metadata": {},
   "outputs": [],
   "source": [
    "#imports\n",
    "\n",
    "import PyPDF2\n",
    "import re\n",
    "import glob\n",
    "import pandas as pd\n",
    "from sklearn.feature_extraction.text import TfidfVectorizer, CountVectorizer\n",
    "import nltk\n",
    "from nltk.tokenize import word_tokenize\n",
    "from nltk.stem import WordNetLemmatizer, PorterStemmer\n",
    "from sklearn.metrics.pairwise import cosine_similarity\n",
    "from sklearn.decomposition import PCA, TruncatedSVD, NMF\n",
    "from gensim import corpora, models, matutils\n",
    "import matplotlib.pyplot as plt\n",
    "import seaborn as sns\n",
    "from mpl_toolkits.mplot3d import Axes3D\n",
    "import pickle\n",
    "\n",
    "sns.set(style = \"darkgrid\")\n",
    "%matplotlib inline"
   ]
  },
  {
   "cell_type": "code",
   "execution_count": 2,
   "id": "4ba1f64b-591e-4b9d-8d44-20d4dffebf9b",
   "metadata": {},
   "outputs": [],
   "source": [
    "unpickle_speeches = open(\"speech_tokens.txt\", \"rb\")\n",
    "speech_tokens = pickle.load(unpickle_speeches)\n",
    "\n",
    "unpickle_reports = open(\"report_tokens.txt\", \"rb\")\n",
    "report_tokens = pickle.load(unpickle_reports)"
   ]
  },
  {
   "cell_type": "markdown",
   "id": "8a564a66-e701-4745-bd51-0ca4e8ffcb73",
   "metadata": {},
   "source": [
    "### Pre-Modeling Work:\n",
    "\n",
    "- [x] Create raw text corpus\n",
    "- [x] Create corpus with \\n's removed\n",
    "- [x] Convert both corpi into dataframes\n",
    "- [x] Tokenize documents on paragraphs\n",
    "  - [x] 3+ \\n's for speeches? seems pretty good!\n",
    "  - [x] roman numerals and numbers for reports? I think I've got it where I want it for now...\n",
    "- [x] Preprocess corpi:\n",
    "  - [x] remove stop words\n",
    "  - [x] lemmatize\n",
    "  - [x] stem\n",
    "  - [x] min_df value?\n",
    "  - [x] max_df value?\n",
    "- [x] CountVectorize both corpi\n",
    "- [x] TfidfVectorize both corpi\n",
    "- [ ] Named Entity Recognition?"
   ]
  },
  {
   "cell_type": "code",
   "execution_count": 3,
   "id": "6780ae05-7b99-44c2-aee3-5811010e302a",
   "metadata": {},
   "outputs": [
    {
     "name": "stderr",
     "output_type": "stream",
     "text": [
      "[nltk_data] Downloading package wordnet to /home/mattiboi/nltk_data...\n",
      "[nltk_data]   Package wordnet is already up-to-date!\n"
     ]
    },
    {
     "data": {
      "text/plain": [
       "True"
      ]
     },
     "execution_count": 3,
     "metadata": {},
     "output_type": "execute_result"
    }
   ],
   "source": [
    "nltk.download('wordnet')"
   ]
  },
  {
   "cell_type": "code",
   "execution_count": 4,
   "id": "cae31381-4cd2-4fcf-9a86-efada199138e",
   "metadata": {},
   "outputs": [],
   "source": [
    "lemmatizer = WordNetLemmatizer()\n",
    "word_stemmer = PorterStemmer()\n",
    "\n",
    "speeches_lem = []\n",
    "speeches_stem = []\n",
    "\n",
    "lem = map(lemmatizer.lemmatize, speech_tokens)\n",
    "stem = map(word_stemmer.stem, speech_tokens)\n",
    "\n",
    "for word in lem:\n",
    "    speeches_lem.append(word)\n",
    "    \n",
    "for word in stem:\n",
    "    speeches_stem.append(word)"
   ]
  },
  {
   "cell_type": "code",
   "execution_count": 5,
   "id": "4ca53dbb-4711-4699-a141-6fd7936db81e",
   "metadata": {},
   "outputs": [],
   "source": [
    "#speeches_lem[:40]"
   ]
  },
  {
   "cell_type": "code",
   "execution_count": 6,
   "id": "70543f35-c150-410f-97f4-f801c723f8f0",
   "metadata": {},
   "outputs": [],
   "source": [
    "#speeches_stem[:40]"
   ]
  },
  {
   "cell_type": "code",
   "execution_count": 5,
   "id": "5bf92a3d-31b4-4b41-87aa-62b70d779647",
   "metadata": {},
   "outputs": [
    {
     "name": "stderr",
     "output_type": "stream",
     "text": [
      "/home/mattiboi/anaconda3/lib/python3.8/site-packages/sklearn/utils/deprecation.py:87: FutureWarning: Function get_feature_names is deprecated; get_feature_names is deprecated in 1.0 and will be removed in 1.2. Please use get_feature_names_out instead.\n",
      "  warnings.warn(msg, category=FutureWarning)\n"
     ]
    }
   ],
   "source": [
    "speeches_cv = CountVectorizer(stop_words='english', min_df=.01, max_df=.99, preprocessor=lambda x: re.sub(r'(\\d[\\d\\.])+', '', x.lower()), ngram_range=(1,3))\n",
    "sfx = speeches_cv.fit_transform(speeches_lem)\n",
    "\n",
    "speech_cvdf = pd.DataFrame(sfx.toarray(), columns=speeches_cv.get_feature_names())"
   ]
  },
  {
   "cell_type": "code",
   "execution_count": 6,
   "id": "45611435-1cf6-4ea7-9a3d-0be3a2e6b7d2",
   "metadata": {},
   "outputs": [
    {
     "data": {
      "text/html": [
       "<div>\n",
       "<style scoped>\n",
       "    .dataframe tbody tr th:only-of-type {\n",
       "        vertical-align: middle;\n",
       "    }\n",
       "\n",
       "    .dataframe tbody tr th {\n",
       "        vertical-align: top;\n",
       "    }\n",
       "\n",
       "    .dataframe thead th {\n",
       "        text-align: right;\n",
       "    }\n",
       "</style>\n",
       "<table border=\"1\" class=\"dataframe\">\n",
       "  <thead>\n",
       "    <tr style=\"text-align: right;\">\n",
       "      <th></th>\n",
       "      <th>access</th>\n",
       "      <th>achieve</th>\n",
       "      <th>achieving</th>\n",
       "      <th>act</th>\n",
       "      <th>action</th>\n",
       "      <th>actions</th>\n",
       "      <th>adaptation</th>\n",
       "      <th>address</th>\n",
       "      <th>agenda</th>\n",
       "      <th>agreement</th>\n",
       "      <th>...</th>\n",
       "      <th>warming</th>\n",
       "      <th>water</th>\n",
       "      <th>way</th>\n",
       "      <th>work</th>\n",
       "      <th>working</th>\n",
       "      <th>world</th>\n",
       "      <th>world leaders</th>\n",
       "      <th>year</th>\n",
       "      <th>years</th>\n",
       "      <th>zero</th>\n",
       "    </tr>\n",
       "  </thead>\n",
       "  <tbody>\n",
       "    <tr>\n",
       "      <th>0</th>\n",
       "      <td>0</td>\n",
       "      <td>0</td>\n",
       "      <td>0</td>\n",
       "      <td>0</td>\n",
       "      <td>0</td>\n",
       "      <td>0</td>\n",
       "      <td>0</td>\n",
       "      <td>0</td>\n",
       "      <td>0</td>\n",
       "      <td>0</td>\n",
       "      <td>...</td>\n",
       "      <td>0</td>\n",
       "      <td>0</td>\n",
       "      <td>0</td>\n",
       "      <td>0</td>\n",
       "      <td>0</td>\n",
       "      <td>0</td>\n",
       "      <td>0</td>\n",
       "      <td>0</td>\n",
       "      <td>0</td>\n",
       "      <td>0</td>\n",
       "    </tr>\n",
       "    <tr>\n",
       "      <th>1</th>\n",
       "      <td>0</td>\n",
       "      <td>0</td>\n",
       "      <td>0</td>\n",
       "      <td>0</td>\n",
       "      <td>0</td>\n",
       "      <td>0</td>\n",
       "      <td>0</td>\n",
       "      <td>0</td>\n",
       "      <td>0</td>\n",
       "      <td>0</td>\n",
       "      <td>...</td>\n",
       "      <td>0</td>\n",
       "      <td>0</td>\n",
       "      <td>0</td>\n",
       "      <td>0</td>\n",
       "      <td>0</td>\n",
       "      <td>0</td>\n",
       "      <td>0</td>\n",
       "      <td>0</td>\n",
       "      <td>0</td>\n",
       "      <td>0</td>\n",
       "    </tr>\n",
       "    <tr>\n",
       "      <th>2</th>\n",
       "      <td>0</td>\n",
       "      <td>0</td>\n",
       "      <td>0</td>\n",
       "      <td>0</td>\n",
       "      <td>0</td>\n",
       "      <td>0</td>\n",
       "      <td>0</td>\n",
       "      <td>0</td>\n",
       "      <td>0</td>\n",
       "      <td>0</td>\n",
       "      <td>...</td>\n",
       "      <td>0</td>\n",
       "      <td>0</td>\n",
       "      <td>0</td>\n",
       "      <td>0</td>\n",
       "      <td>0</td>\n",
       "      <td>0</td>\n",
       "      <td>0</td>\n",
       "      <td>0</td>\n",
       "      <td>0</td>\n",
       "      <td>0</td>\n",
       "    </tr>\n",
       "    <tr>\n",
       "      <th>3</th>\n",
       "      <td>0</td>\n",
       "      <td>0</td>\n",
       "      <td>0</td>\n",
       "      <td>0</td>\n",
       "      <td>0</td>\n",
       "      <td>0</td>\n",
       "      <td>0</td>\n",
       "      <td>0</td>\n",
       "      <td>0</td>\n",
       "      <td>0</td>\n",
       "      <td>...</td>\n",
       "      <td>0</td>\n",
       "      <td>0</td>\n",
       "      <td>0</td>\n",
       "      <td>0</td>\n",
       "      <td>1</td>\n",
       "      <td>0</td>\n",
       "      <td>0</td>\n",
       "      <td>0</td>\n",
       "      <td>0</td>\n",
       "      <td>0</td>\n",
       "    </tr>\n",
       "    <tr>\n",
       "      <th>4</th>\n",
       "      <td>0</td>\n",
       "      <td>0</td>\n",
       "      <td>0</td>\n",
       "      <td>0</td>\n",
       "      <td>0</td>\n",
       "      <td>0</td>\n",
       "      <td>0</td>\n",
       "      <td>0</td>\n",
       "      <td>0</td>\n",
       "      <td>0</td>\n",
       "      <td>...</td>\n",
       "      <td>0</td>\n",
       "      <td>0</td>\n",
       "      <td>0</td>\n",
       "      <td>0</td>\n",
       "      <td>0</td>\n",
       "      <td>0</td>\n",
       "      <td>0</td>\n",
       "      <td>0</td>\n",
       "      <td>0</td>\n",
       "      <td>0</td>\n",
       "    </tr>\n",
       "  </tbody>\n",
       "</table>\n",
       "<p>5 rows × 343 columns</p>\n",
       "</div>"
      ],
      "text/plain": [
       "   access  achieve  achieving  act  action  actions  adaptation  address  \\\n",
       "0       0        0          0    0       0        0           0        0   \n",
       "1       0        0          0    0       0        0           0        0   \n",
       "2       0        0          0    0       0        0           0        0   \n",
       "3       0        0          0    0       0        0           0        0   \n",
       "4       0        0          0    0       0        0           0        0   \n",
       "\n",
       "   agenda  agreement  ...  warming  water  way  work  working  world  \\\n",
       "0       0          0  ...        0      0    0     0        0      0   \n",
       "1       0          0  ...        0      0    0     0        0      0   \n",
       "2       0          0  ...        0      0    0     0        0      0   \n",
       "3       0          0  ...        0      0    0     0        1      0   \n",
       "4       0          0  ...        0      0    0     0        0      0   \n",
       "\n",
       "   world leaders  year  years  zero  \n",
       "0              0     0      0     0  \n",
       "1              0     0      0     0  \n",
       "2              0     0      0     0  \n",
       "3              0     0      0     0  \n",
       "4              0     0      0     0  \n",
       "\n",
       "[5 rows x 343 columns]"
      ]
     },
     "execution_count": 6,
     "metadata": {},
     "output_type": "execute_result"
    }
   ],
   "source": [
    "speech_cvdf.head()"
   ]
  },
  {
   "cell_type": "code",
   "execution_count": 7,
   "id": "145a38ba-c330-4d54-a8f3-a6032f71c333",
   "metadata": {},
   "outputs": [
    {
     "data": {
      "text/plain": [
       "array([[1.        , 0.42008403, 0.        , ..., 0.        , 0.        ,\n",
       "        0.        ],\n",
       "       [0.42008403, 1.        , 0.14002801, ..., 0.        , 0.        ,\n",
       "        0.        ],\n",
       "       [0.        , 0.14002801, 1.        , ..., 0.        , 0.        ,\n",
       "        0.        ],\n",
       "       ...,\n",
       "       [0.        , 0.        , 0.        , ..., 1.        , 0.16222142,\n",
       "        0.        ],\n",
       "       [0.        , 0.        , 0.        , ..., 0.16222142, 1.        ,\n",
       "        0.        ],\n",
       "       [0.        , 0.        , 0.        , ..., 0.        , 0.        ,\n",
       "        1.        ]])"
      ]
     },
     "execution_count": 7,
     "metadata": {},
     "output_type": "execute_result"
    }
   ],
   "source": [
    "cosine_similarity(speech_cvdf)"
   ]
  },
  {
   "cell_type": "code",
   "execution_count": 8,
   "id": "e8f8f5e3-dbe1-4507-a7ef-76c2cfb4ea18",
   "metadata": {},
   "outputs": [
    {
     "name": "stderr",
     "output_type": "stream",
     "text": [
      "/home/mattiboi/anaconda3/lib/python3.8/site-packages/sklearn/utils/deprecation.py:87: FutureWarning: Function get_feature_names is deprecated; get_feature_names is deprecated in 1.0 and will be removed in 1.2. Please use get_feature_names_out instead.\n",
      "  warnings.warn(msg, category=FutureWarning)\n"
     ]
    }
   ],
   "source": [
    "speeches_tfidf = TfidfVectorizer(stop_words='english', min_df=.01, max_df=.99, preprocessor=lambda x: re.sub(r'(\\d[\\d\\.])+', '', x.lower()), ngram_range=(1,3))\n",
    "sfx2 = speeches_tfidf.fit_transform(speeches_lem)\n",
    "\n",
    "speech_tfidf_df = pd.DataFrame(sfx2.toarray(), columns=speeches_tfidf.get_feature_names())"
   ]
  },
  {
   "cell_type": "code",
   "execution_count": 9,
   "id": "ba1558c3-9d12-491e-a2f5-30e4e9ea9dcb",
   "metadata": {},
   "outputs": [
    {
     "data": {
      "text/html": [
       "<div>\n",
       "<style scoped>\n",
       "    .dataframe tbody tr th:only-of-type {\n",
       "        vertical-align: middle;\n",
       "    }\n",
       "\n",
       "    .dataframe tbody tr th {\n",
       "        vertical-align: top;\n",
       "    }\n",
       "\n",
       "    .dataframe thead th {\n",
       "        text-align: right;\n",
       "    }\n",
       "</style>\n",
       "<table border=\"1\" class=\"dataframe\">\n",
       "  <thead>\n",
       "    <tr style=\"text-align: right;\">\n",
       "      <th></th>\n",
       "      <th>access</th>\n",
       "      <th>achieve</th>\n",
       "      <th>achieving</th>\n",
       "      <th>act</th>\n",
       "      <th>action</th>\n",
       "      <th>actions</th>\n",
       "      <th>adaptation</th>\n",
       "      <th>address</th>\n",
       "      <th>agenda</th>\n",
       "      <th>agreement</th>\n",
       "      <th>...</th>\n",
       "      <th>warming</th>\n",
       "      <th>water</th>\n",
       "      <th>way</th>\n",
       "      <th>work</th>\n",
       "      <th>working</th>\n",
       "      <th>world</th>\n",
       "      <th>world leaders</th>\n",
       "      <th>year</th>\n",
       "      <th>years</th>\n",
       "      <th>zero</th>\n",
       "    </tr>\n",
       "  </thead>\n",
       "  <tbody>\n",
       "    <tr>\n",
       "      <th>0</th>\n",
       "      <td>0.0</td>\n",
       "      <td>0.0</td>\n",
       "      <td>0.0</td>\n",
       "      <td>0.0</td>\n",
       "      <td>0.0</td>\n",
       "      <td>0.0</td>\n",
       "      <td>0.0</td>\n",
       "      <td>0.0</td>\n",
       "      <td>0.0</td>\n",
       "      <td>0.0</td>\n",
       "      <td>...</td>\n",
       "      <td>0.0</td>\n",
       "      <td>0.0</td>\n",
       "      <td>0.0</td>\n",
       "      <td>0.0</td>\n",
       "      <td>0.000000</td>\n",
       "      <td>0.0</td>\n",
       "      <td>0.0</td>\n",
       "      <td>0.0</td>\n",
       "      <td>0.0</td>\n",
       "      <td>0.0</td>\n",
       "    </tr>\n",
       "    <tr>\n",
       "      <th>1</th>\n",
       "      <td>0.0</td>\n",
       "      <td>0.0</td>\n",
       "      <td>0.0</td>\n",
       "      <td>0.0</td>\n",
       "      <td>0.0</td>\n",
       "      <td>0.0</td>\n",
       "      <td>0.0</td>\n",
       "      <td>0.0</td>\n",
       "      <td>0.0</td>\n",
       "      <td>0.0</td>\n",
       "      <td>...</td>\n",
       "      <td>0.0</td>\n",
       "      <td>0.0</td>\n",
       "      <td>0.0</td>\n",
       "      <td>0.0</td>\n",
       "      <td>0.000000</td>\n",
       "      <td>0.0</td>\n",
       "      <td>0.0</td>\n",
       "      <td>0.0</td>\n",
       "      <td>0.0</td>\n",
       "      <td>0.0</td>\n",
       "    </tr>\n",
       "    <tr>\n",
       "      <th>2</th>\n",
       "      <td>0.0</td>\n",
       "      <td>0.0</td>\n",
       "      <td>0.0</td>\n",
       "      <td>0.0</td>\n",
       "      <td>0.0</td>\n",
       "      <td>0.0</td>\n",
       "      <td>0.0</td>\n",
       "      <td>0.0</td>\n",
       "      <td>0.0</td>\n",
       "      <td>0.0</td>\n",
       "      <td>...</td>\n",
       "      <td>0.0</td>\n",
       "      <td>0.0</td>\n",
       "      <td>0.0</td>\n",
       "      <td>0.0</td>\n",
       "      <td>0.000000</td>\n",
       "      <td>0.0</td>\n",
       "      <td>0.0</td>\n",
       "      <td>0.0</td>\n",
       "      <td>0.0</td>\n",
       "      <td>0.0</td>\n",
       "    </tr>\n",
       "    <tr>\n",
       "      <th>3</th>\n",
       "      <td>0.0</td>\n",
       "      <td>0.0</td>\n",
       "      <td>0.0</td>\n",
       "      <td>0.0</td>\n",
       "      <td>0.0</td>\n",
       "      <td>0.0</td>\n",
       "      <td>0.0</td>\n",
       "      <td>0.0</td>\n",
       "      <td>0.0</td>\n",
       "      <td>0.0</td>\n",
       "      <td>...</td>\n",
       "      <td>0.0</td>\n",
       "      <td>0.0</td>\n",
       "      <td>0.0</td>\n",
       "      <td>0.0</td>\n",
       "      <td>0.432454</td>\n",
       "      <td>0.0</td>\n",
       "      <td>0.0</td>\n",
       "      <td>0.0</td>\n",
       "      <td>0.0</td>\n",
       "      <td>0.0</td>\n",
       "    </tr>\n",
       "    <tr>\n",
       "      <th>4</th>\n",
       "      <td>0.0</td>\n",
       "      <td>0.0</td>\n",
       "      <td>0.0</td>\n",
       "      <td>0.0</td>\n",
       "      <td>0.0</td>\n",
       "      <td>0.0</td>\n",
       "      <td>0.0</td>\n",
       "      <td>0.0</td>\n",
       "      <td>0.0</td>\n",
       "      <td>0.0</td>\n",
       "      <td>...</td>\n",
       "      <td>0.0</td>\n",
       "      <td>0.0</td>\n",
       "      <td>0.0</td>\n",
       "      <td>0.0</td>\n",
       "      <td>0.000000</td>\n",
       "      <td>0.0</td>\n",
       "      <td>0.0</td>\n",
       "      <td>0.0</td>\n",
       "      <td>0.0</td>\n",
       "      <td>0.0</td>\n",
       "    </tr>\n",
       "  </tbody>\n",
       "</table>\n",
       "<p>5 rows × 343 columns</p>\n",
       "</div>"
      ],
      "text/plain": [
       "   access  achieve  achieving  act  action  actions  adaptation  address  \\\n",
       "0     0.0      0.0        0.0  0.0     0.0      0.0         0.0      0.0   \n",
       "1     0.0      0.0        0.0  0.0     0.0      0.0         0.0      0.0   \n",
       "2     0.0      0.0        0.0  0.0     0.0      0.0         0.0      0.0   \n",
       "3     0.0      0.0        0.0  0.0     0.0      0.0         0.0      0.0   \n",
       "4     0.0      0.0        0.0  0.0     0.0      0.0         0.0      0.0   \n",
       "\n",
       "   agenda  agreement  ...  warming  water  way  work   working  world  \\\n",
       "0     0.0        0.0  ...      0.0    0.0  0.0   0.0  0.000000    0.0   \n",
       "1     0.0        0.0  ...      0.0    0.0  0.0   0.0  0.000000    0.0   \n",
       "2     0.0        0.0  ...      0.0    0.0  0.0   0.0  0.000000    0.0   \n",
       "3     0.0        0.0  ...      0.0    0.0  0.0   0.0  0.432454    0.0   \n",
       "4     0.0        0.0  ...      0.0    0.0  0.0   0.0  0.000000    0.0   \n",
       "\n",
       "   world leaders  year  years  zero  \n",
       "0            0.0   0.0    0.0   0.0  \n",
       "1            0.0   0.0    0.0   0.0  \n",
       "2            0.0   0.0    0.0   0.0  \n",
       "3            0.0   0.0    0.0   0.0  \n",
       "4            0.0   0.0    0.0   0.0  \n",
       "\n",
       "[5 rows x 343 columns]"
      ]
     },
     "execution_count": 9,
     "metadata": {},
     "output_type": "execute_result"
    }
   ],
   "source": [
    "speech_tfidf_df.head()"
   ]
  },
  {
   "cell_type": "code",
   "execution_count": 10,
   "id": "d1cfeb4d-b463-4382-9368-744546b5b23f",
   "metadata": {},
   "outputs": [
    {
     "data": {
      "text/plain": [
       "array([[1.        , 0.46028806, 0.        , ..., 0.        , 0.        ,\n",
       "        0.        ],\n",
       "       [0.46028806, 1.        , 0.0959707 , ..., 0.        , 0.        ,\n",
       "        0.        ],\n",
       "       [0.        , 0.0959707 , 1.        , ..., 0.        , 0.        ,\n",
       "        0.        ],\n",
       "       ...,\n",
       "       [0.        , 0.        , 0.        , ..., 1.        , 0.16631194,\n",
       "        0.        ],\n",
       "       [0.        , 0.        , 0.        , ..., 0.16631194, 1.        ,\n",
       "        0.        ],\n",
       "       [0.        , 0.        , 0.        , ..., 0.        , 0.        ,\n",
       "        1.        ]])"
      ]
     },
     "execution_count": 10,
     "metadata": {},
     "output_type": "execute_result"
    }
   ],
   "source": [
    "cosine_similarity(speech_tfidf_df)"
   ]
  },
  {
   "cell_type": "code",
   "execution_count": 11,
   "id": "63107af5-511a-4543-b219-e02826bf3c9d",
   "metadata": {},
   "outputs": [],
   "source": [
    "n3 = PCA(n_components=3)\n",
    "n4 = PCA(n_components=4)\n",
    "n18 = PCA(n_components=18)"
   ]
  },
  {
   "cell_type": "code",
   "execution_count": 12,
   "id": "2a611526-8023-4c8b-8f8a-e57bd7f4eda8",
   "metadata": {},
   "outputs": [],
   "source": [
    "n3_fit = n3.fit(speech_tfidf_df)\n",
    "n4_fit = n4.fit(speech_tfidf_df)\n",
    "n18_fit = n18.fit(speech_tfidf_df)"
   ]
  },
  {
   "cell_type": "code",
   "execution_count": 13,
   "id": "d5b346fd-e3ac-460d-9a16-ac88803453f4",
   "metadata": {},
   "outputs": [],
   "source": [
    "#n3.components_\n",
    "#n4.components_\n",
    "#n18.components_"
   ]
  },
  {
   "cell_type": "code",
   "execution_count": 14,
   "id": "ad151270-6b39-4896-9409-3b5efa70dd3d",
   "metadata": {},
   "outputs": [],
   "source": [
    "n3_xform = n3.transform(speech_tfidf_df)\n",
    "n4_xform = n4.transform(speech_tfidf_df)\n",
    "n18_xform = n18.transform(speech_tfidf_df)"
   ]
  },
  {
   "cell_type": "code",
   "execution_count": 15,
   "id": "7d9346bd-eab4-478f-a300-93ce61c8c249",
   "metadata": {},
   "outputs": [],
   "source": [
    "n3_explain = n3_fit.explained_variance_ratio_\n",
    "n4_explain = n4_fit.explained_variance_ratio_\n",
    "n18_explain = n18_fit.explained_variance_ratio_"
   ]
  },
  {
   "cell_type": "code",
   "execution_count": 16,
   "id": "33f1d82d-13e8-4ac9-a6f3-ff1bfb5dec4a",
   "metadata": {},
   "outputs": [
    {
     "data": {
      "text/plain": [
       "array([[-0.03220029,  0.00466138, -0.07731275],\n",
       "       [ 0.06095789, -0.03549434, -0.11655248],\n",
       "       [ 0.92009213, -0.14132155,  0.13409426],\n",
       "       ...,\n",
       "       [-0.06983503, -0.02528391, -0.01005605],\n",
       "       [-0.11571412, -0.0916927 ,  0.18447431],\n",
       "       [ 0.06342169,  0.95066285,  0.20434573]])"
      ]
     },
     "execution_count": 16,
     "metadata": {},
     "output_type": "execute_result"
    }
   ],
   "source": [
    "n3_xform\n",
    "#n4_xform\n",
    "#n18_xform"
   ]
  },
  {
   "cell_type": "code",
   "execution_count": 17,
   "id": "0af4b72e-6142-4775-b465-628642fb9a08",
   "metadata": {},
   "outputs": [],
   "source": [
    "speech_coords_3d = n3.fit_transform(speech_tfidf_df)\n",
    "speech_coords_4d = n4.fit_transform(speech_tfidf_df)\n",
    "speech_coords_18d = n18.fit_transform(speech_tfidf_df)"
   ]
  },
  {
   "cell_type": "code",
   "execution_count": 18,
   "id": "1020ba20-65a2-4454-879c-16fb3cc8097f",
   "metadata": {},
   "outputs": [],
   "source": [
    "speeches_3d_df = pd.DataFrame(speech_coords_3d, columns = ['pc1','pc2','pc3'])"
   ]
  },
  {
   "cell_type": "code",
   "execution_count": 19,
   "id": "0de0f9d5-3585-43ac-92f4-6024f3ddffef",
   "metadata": {},
   "outputs": [
    {
     "data": {
      "image/png": "[encoded data removed]",
      "text/plain": [
       "<Figure size 1080x720 with 1 Axes>"
      ]
     },
     "metadata": {
      "needs_background": "light"
     },
     "output_type": "display_data"
    }
   ],
   "source": [
    "fig = plt.figure(figsize = (15, 10))\n",
    "ax = plt.axes(projection =\"3d\")\n",
    "\n",
    "x = speeches_3d_df['pc1']\n",
    "y = speeches_3d_df['pc2']\n",
    "z = speeches_3d_df['pc3']\n",
    "\n",
    "ax.scatter3D(x, y, z, color = \"purple\")\n",
    "plt.title(\"Speeches w/ 3 Components\")\n",
    "\n",
    "ax.set_xlabel(\"pc1\")\n",
    "ax.set_ylabel(\"pc2\")\n",
    "ax.set_zlabel(\"pc3\")\n",
    "\n",
    "ax.scatter(x, y, z)\n",
    "\n",
    "plt.show()"
   ]
  },
  {
   "cell_type": "code",
   "execution_count": 20,
   "id": "1487d7d1-7cc5-4a50-837f-aa97a77960fa",
   "metadata": {},
   "outputs": [
    {
     "data": {
      "text/plain": [
       "0.11009193310090715"
      ]
     },
     "execution_count": 20,
     "metadata": {},
     "output_type": "execute_result"
    }
   ],
   "source": [
    "sum(n3_explain)"
   ]
  },
  {
   "cell_type": "code",
   "execution_count": 21,
   "id": "b099dabb-2b1b-4167-985f-1438ede851db",
   "metadata": {},
   "outputs": [
    {
     "data": {
      "text/plain": [
       "0.13280078518767846"
      ]
     },
     "execution_count": 21,
     "metadata": {},
     "output_type": "execute_result"
    }
   ],
   "source": [
    "sum(n4_explain)"
   ]
  },
  {
   "cell_type": "code",
   "execution_count": 22,
   "id": "ed167cec-728c-43f8-aaa0-c9e0016a6bc7",
   "metadata": {},
   "outputs": [
    {
     "data": {
      "text/plain": [
       "0.3122602598351112"
      ]
     },
     "execution_count": 22,
     "metadata": {},
     "output_type": "execute_result"
    }
   ],
   "source": [
    "sum(n18_explain)"
   ]
  },
  {
   "cell_type": "code",
   "execution_count": 23,
   "id": "9d0edefd-8395-4346-a57a-633d8369764f",
   "metadata": {},
   "outputs": [],
   "source": [
    "reports_lem = []\n",
    "reports_stem = []\n",
    "\n",
    "lem = map(lemmatizer.lemmatize, report_tokens)\n",
    "stem = map(word_stemmer.stem, report_tokens)\n",
    "\n",
    "for word in lem:\n",
    "    reports_lem.append(word)\n",
    "    \n",
    "for word in stem:\n",
    "    reports_stem.append(word)"
   ]
  },
  {
   "cell_type": "code",
   "execution_count": 24,
   "id": "64d1c310-c0f5-4665-905b-fb2f2f1ba823",
   "metadata": {},
   "outputs": [
    {
     "name": "stderr",
     "output_type": "stream",
     "text": [
      "/home/mattiboi/anaconda3/lib/python3.8/site-packages/sklearn/utils/deprecation.py:87: FutureWarning: Function get_feature_names is deprecated; get_feature_names is deprecated in 1.0 and will be removed in 1.2. Please use get_feature_names_out instead.\n",
      "  warnings.warn(msg, category=FutureWarning)\n"
     ]
    }
   ],
   "source": [
    "reports_cv = CountVectorizer(stop_words='english', min_df=.01, max_df=.99)\n",
    "rfx = reports_cv.fit_transform(reports_lem)\n",
    "\n",
    "report_cvdf = pd.DataFrame(rfx.toarray(), columns=reports_cv.get_feature_names())"
   ]
  },
  {
   "cell_type": "code",
   "execution_count": 25,
   "id": "01570b05-78cd-476b-8173-fa93bd21f8ae",
   "metadata": {},
   "outputs": [
    {
     "data": {
      "text/plain": [
       "array([[1.        , 0.        , 0.05357143, ..., 0.04718771, 0.09832103,\n",
       "        0.04030947],\n",
       "       [0.        , 1.        , 0.1118034 , ..., 0.10743337, 0.20519567,\n",
       "        0.15142634],\n",
       "       [0.05357143, 0.1118034 , 1.        , ..., 0.06381065, 0.10036938,\n",
       "        0.10228529],\n",
       "       ...,\n",
       "       [0.04718771, 0.10743337, 0.06381065, ..., 1.        , 0.74745864,\n",
       "        0.48042153],\n",
       "       [0.09832103, 0.20519567, 0.10036938, ..., 0.74745864, 1.        ,\n",
       "        0.44827876],\n",
       "       [0.04030947, 0.15142634, 0.10228529, ..., 0.48042153, 0.44827876,\n",
       "        1.        ]])"
      ]
     },
     "execution_count": 25,
     "metadata": {},
     "output_type": "execute_result"
    }
   ],
   "source": [
    "cosine_similarity(report_cvdf)"
   ]
  },
  {
   "cell_type": "code",
   "execution_count": 26,
   "id": "f7dd02f8-96da-4432-8244-6288ccca071e",
   "metadata": {},
   "outputs": [
    {
     "name": "stderr",
     "output_type": "stream",
     "text": [
      "/home/mattiboi/anaconda3/lib/python3.8/site-packages/sklearn/utils/deprecation.py:87: FutureWarning: Function get_feature_names is deprecated; get_feature_names is deprecated in 1.0 and will be removed in 1.2. Please use get_feature_names_out instead.\n",
      "  warnings.warn(msg, category=FutureWarning)\n"
     ]
    }
   ],
   "source": [
    "reports_tfidf = TfidfVectorizer(stop_words='english', min_df=.01, max_df=.99)\n",
    "rfx2 = reports_tfidf.fit_transform(reports_lem)\n",
    "\n",
    "report_tfidf_df = pd.DataFrame(rfx2.toarray(), columns=reports_tfidf.get_feature_names())"
   ]
  },
  {
   "cell_type": "code",
   "execution_count": 27,
   "id": "e23bae54-d3ae-4547-875f-f93aaad74f5c",
   "metadata": {},
   "outputs": [
    {
     "data": {
      "text/plain": [
       "array([[1.        , 0.46028806, 0.        , ..., 0.        , 0.        ,\n",
       "        0.        ],\n",
       "       [0.46028806, 1.        , 0.0959707 , ..., 0.        , 0.        ,\n",
       "        0.        ],\n",
       "       [0.        , 0.0959707 , 1.        , ..., 0.        , 0.        ,\n",
       "        0.        ],\n",
       "       ...,\n",
       "       [0.        , 0.        , 0.        , ..., 1.        , 0.16631194,\n",
       "        0.        ],\n",
       "       [0.        , 0.        , 0.        , ..., 0.16631194, 1.        ,\n",
       "        0.        ],\n",
       "       [0.        , 0.        , 0.        , ..., 0.        , 0.        ,\n",
       "        1.        ]])"
      ]
     },
     "execution_count": 27,
     "metadata": {},
     "output_type": "execute_result"
    }
   ],
   "source": [
    "cosine_similarity(speech_tfidf_df)"
   ]
  },
  {
   "cell_type": "code",
   "execution_count": 28,
   "id": "63a18ed1-43ff-4724-aee0-e38c01147f79",
   "metadata": {},
   "outputs": [],
   "source": [
    "n3_fit_reports = n3.fit(report_tfidf_df)\n",
    "n4_fit_reports = n4.fit(report_tfidf_df)\n",
    "n18_fit_reports = n18.fit(report_tfidf_df)\n",
    "\n",
    "n3_xform_report = n3.transform(report_tfidf_df)\n",
    "n4_xform_report = n4.transform(report_tfidf_df)\n",
    "n18_xform_report = n18.transform(report_tfidf_df)\n",
    "\n",
    "n3_explain_report = n3_fit_reports.explained_variance_ratio_\n",
    "n4_explain_report = n4_fit_reports.explained_variance_ratio_\n",
    "n18_explain_report = n18_fit_reports.explained_variance_ratio_\n",
    "\n",
    "report_coords_3d = n3_fit_reports.fit_transform(report_tfidf_df)\n",
    "report_coords_4d = n4_fit_reports.fit_transform(report_tfidf_df)\n",
    "report_coords_18d = n18_fit_reports.fit_transform(report_tfidf_df)\n",
    "\n",
    "reports_3d_df = pd.DataFrame(report_coords_3d, columns = ['pc1','pc2','pc3'])"
   ]
  },
  {
   "cell_type": "code",
   "execution_count": 29,
   "id": "fc0de308-4bfd-4381-9e5e-07266b8ee512",
   "metadata": {},
   "outputs": [
    {
     "data": {
      "image/png": "[encoded data removed]",
      "text/plain": [
       "<Figure size 1080x720 with 1 Axes>"
      ]
     },
     "metadata": {
      "needs_background": "light"
     },
     "output_type": "display_data"
    }
   ],
   "source": [
    "fig = plt.figure(figsize = (15, 10))\n",
    "ax = plt.axes(projection =\"3d\")\n",
    "\n",
    "x = reports_3d_df['pc1']\n",
    "y = reports_3d_df['pc2']\n",
    "z = reports_3d_df['pc3']\n",
    "\n",
    "ax.scatter3D(x, y, z, color = \"purple\")\n",
    "plt.title(\"Reports w/ 3 Components\")\n",
    "\n",
    "ax.set_xlabel(\"pc1\")\n",
    "ax.set_ylabel(\"pc2\")\n",
    "ax.set_zlabel(\"pc3\")\n",
    "\n",
    "ax.scatter(x, y, z)\n",
    "\n",
    "plt.show()"
   ]
  },
  {
   "cell_type": "code",
   "execution_count": 30,
   "id": "f755d118-c334-4354-94f6-7109d156694e",
   "metadata": {},
   "outputs": [],
   "source": [
    "#Whoa^^"
   ]
  },
  {
   "cell_type": "code",
   "execution_count": 31,
   "id": "4613bb0a-2297-4327-9684-050d41b6ba34",
   "metadata": {},
   "outputs": [],
   "source": [
    "lsa = TruncatedSVD(18)\n",
    "\n",
    "lsa_tfidf_speech = lsa.fit(sfx)"
   ]
  },
  {
   "cell_type": "code",
   "execution_count": 32,
   "id": "d8672c48-ac19-46fd-ae29-562d3c335f27",
   "metadata": {},
   "outputs": [
    {
     "data": {
      "text/plain": [
       "array([[ 3.25842382e-02,  4.87190608e-02,  1.17691768e-02, ...,\n",
       "         3.38570353e-02,  1.35925785e-02,  2.71107319e-02],\n",
       "       [ 3.75900138e-02,  4.73671719e-02, -6.87505157e-03, ...,\n",
       "        -1.77525527e-02, -1.18483528e-03, -5.85223555e-03],\n",
       "       [ 2.79246100e-02,  4.25761891e-02,  1.00725693e-02, ...,\n",
       "         4.31259299e-02,  7.03331644e-03,  4.29070731e-02],\n",
       "       ...,\n",
       "       [-2.25701424e-02, -4.13815266e-02, -8.14165741e-03, ...,\n",
       "         4.44709275e-03, -1.53740858e-05, -1.61330605e-01],\n",
       "       [ 1.56237645e-02,  3.74124073e-02,  5.00631981e-03, ...,\n",
       "         2.02262908e-02, -1.07815289e-02, -4.19796703e-03],\n",
       "       [-3.66754058e-02,  7.43459880e-03,  5.17375064e-03, ...,\n",
       "        -1.10121183e-01, -2.38835834e-02, -3.05744262e-02]])"
      ]
     },
     "execution_count": 32,
     "metadata": {},
     "output_type": "execute_result"
    }
   ],
   "source": [
    "lsa_tfidf_speech.components_"
   ]
  },
  {
   "cell_type": "code",
   "execution_count": 33,
   "id": "abb811eb-a696-4217-bc2d-afc404bb4664",
   "metadata": {},
   "outputs": [],
   "source": [
    "#speeches_tfidf.get_feature_names()"
   ]
  },
  {
   "cell_type": "code",
   "execution_count": 34,
   "id": "f0ce0c26-37dc-4a25-9c0b-79fcc16edcf2",
   "metadata": {},
   "outputs": [
    {
     "data": {
      "text/plain": [
       "array([[ 0.07793871, -0.01166904, -0.01709908, ..., -0.00741277,\n",
       "        -0.05035944,  0.10019073],\n",
       "       [ 0.55191488,  0.02155848, -0.42145468, ..., -0.02663297,\n",
       "        -0.4012577 ,  0.10975735],\n",
       "       [ 0.24826609, -0.1505813 , -0.18855481, ...,  0.04546702,\n",
       "        -0.07935118, -0.04971098],\n",
       "       ...,\n",
       "       [ 0.66256099,  0.01898142,  0.52051006, ..., -0.48040764,\n",
       "         0.04900646, -0.03422554],\n",
       "       [ 2.60057571, -0.16437832, -0.11395306, ..., -0.38951279,\n",
       "         0.10562187,  0.81333963],\n",
       "       [ 0.03466416,  0.00346956, -0.00986407, ..., -0.07442937,\n",
       "         0.06039143,  0.04545295]])"
      ]
     },
     "execution_count": 34,
     "metadata": {},
     "output_type": "execute_result"
    }
   ],
   "source": [
    "lsa_tfidf_speech.transform(sfx)"
   ]
  },
  {
   "cell_type": "code",
   "execution_count": 35,
   "id": "f8852112-9069-4993-9682-4e3cac2f0649",
   "metadata": {},
   "outputs": [],
   "source": [
    "nmf = NMF(18)\n",
    "\n",
    "nmf_tfidf_speech = lsa.fit(sfx)"
   ]
  },
  {
   "cell_type": "code",
   "execution_count": 36,
   "id": "3778c874-914e-4f30-8325-d820cce05c88",
   "metadata": {},
   "outputs": [
    {
     "data": {
      "text/plain": [
       "array([[ 3.25842382e-02,  4.87190609e-02,  1.17691767e-02, ...,\n",
       "         3.38570353e-02,  1.35925786e-02,  2.71107321e-02],\n",
       "       [ 3.75899648e-02,  4.73669288e-02, -6.87509007e-03, ...,\n",
       "        -1.77524630e-02, -1.18480529e-03, -5.85221945e-03],\n",
       "       [ 2.79244341e-02,  4.25772359e-02,  1.00728115e-02, ...,\n",
       "         4.31252901e-02,  7.03347751e-03,  4.29066919e-02],\n",
       "       ...,\n",
       "       [-2.48345533e-02, -4.72042706e-02, -8.26321776e-03, ...,\n",
       "         4.36599542e-03, -2.97637786e-03, -1.64266311e-01],\n",
       "       [ 1.02620175e-02,  3.78896964e-02,  7.69033267e-03, ...,\n",
       "         1.61960785e-02, -1.41894848e-02, -2.33777971e-02],\n",
       "       [-3.64239246e-02,  8.43957627e-05,  3.68027881e-03, ...,\n",
       "        -9.59029077e-02, -1.48195458e-02, -6.88375467e-03]])"
      ]
     },
     "execution_count": 36,
     "metadata": {},
     "output_type": "execute_result"
    }
   ],
   "source": [
    "nmf_tfidf_speech.components_"
   ]
  },
  {
   "cell_type": "code",
   "execution_count": 37,
   "id": "a1002fae-ad06-4c2c-8b40-a630b4042be6",
   "metadata": {},
   "outputs": [
    {
     "data": {
      "text/plain": [
       "array([[ 0.07793871, -0.01166877, -0.01710036, ...,  0.01220609,\n",
       "        -0.06844481,  0.14347591],\n",
       "       [ 0.55191488,  0.02155962, -0.42146447, ...,  0.05786789,\n",
       "        -0.43011745,  0.2519942 ],\n",
       "       [ 0.24826609, -0.15058149, -0.18855257, ...,  0.03525752,\n",
       "        -0.052645  , -0.14032634],\n",
       "       ...,\n",
       "       [ 0.66256099,  0.01898256,  0.5204984 , ..., -0.45462057,\n",
       "        -0.03729269,  0.13677463],\n",
       "       [ 2.60057571, -0.16437798, -0.11395474, ..., -0.36118965,\n",
       "         0.10118401,  0.77505471],\n",
       "       [ 0.03466416,  0.00346956, -0.00986189, ..., -0.07899717,\n",
       "         0.05558265,  0.04444913]])"
      ]
     },
     "execution_count": 37,
     "metadata": {},
     "output_type": "execute_result"
    }
   ],
   "source": [
    "nmf_tfidf_speech.transform(sfx)"
   ]
  },
  {
   "cell_type": "code",
   "execution_count": 38,
   "id": "3522a27d-d2d7-4553-ae09-2aff38f75751",
   "metadata": {},
   "outputs": [],
   "source": [
    "sfx_xpose = speeches_tfidf.fit_transform(speech_tokens).transpose()"
   ]
  },
  {
   "cell_type": "code",
   "execution_count": 39,
   "id": "7fc1dff7-932d-4e7b-97ec-981b20db2683",
   "metadata": {},
   "outputs": [
    {
     "data": {
      "text/plain": [
       "[(0,\n",
       "  '0.085*\"nature\" + 0.047*\"dr\" + 0.042*\"general\" + 0.038*\"state\" + 0.037*\"level segment\" + 0.037*\"high level segment\" + 0.037*\"statement\" + 0.037*\"solutions\" + 0.037*\"segment\" + 0.036*\"high level\"'),\n",
       " (1,\n",
       "  '0.086*\"including\" + 0.066*\"needs\" + 0.059*\"financing\" + 0.043*\"united kingdom\" + 0.041*\"kingdom\" + 0.040*\"fossil\" + 0.040*\"funding\" + 0.039*\"scale\" + 0.038*\"thank\" + 0.038*\"united\"'),\n",
       " (2,\n",
       "  '0.088*\"cop\" + 0.079*\"islands\" + 0.070*\"low\" + 0.070*\"small\" + 0.068*\"states\" + 0.058*\"warming\" + 0.056*\"countries\" + 0.055*\"impacts\" + 0.042*\"commitments\" + 0.028*\"actions\"'),\n",
       " (3,\n",
       "  '0.088*\"uk\" + 0.072*\"november\" + 0.069*\"glasgow\" + 0.051*\"consequences\" + 0.051*\"way\" + 0.046*\"deliver\" + 0.043*\"effective\" + 0.040*\"ambitious\" + 0.032*\"world\" + 0.029*\"address\"'),\n",
       " (4,\n",
       "  '0.073*\"based\" + 0.060*\"emissions\" + 0.045*\"policies\" + 0.040*\"fuel\" + 0.036*\"reduction\" + 0.036*\"fossil\" + 0.032*\"ambitious\" + 0.028*\"current\" + 0.026*\"sector\" + 0.017*\"contribution\"'),\n",
       " (5,\n",
       "  '0.021*\"need\" + 0.018*\"climate\" + 0.018*\"president\" + 0.014*\"mr\" + 0.014*\"mr president\" + 0.011*\"global\" + 0.011*\"adaptation\" + 0.010*\"november\" + 0.009*\"paris\" + 0.009*\"excellencies\"'),\n",
       " (6,\n",
       "  '0.085*\"work\" + 0.061*\"crucial\" + 0.060*\"come\" + 0.059*\"urgent\" + 0.058*\"opportunity\" + 0.051*\"based\" + 0.049*\"solutions\" + 0.038*\"nature\" + 0.031*\"believe\" + 0.031*\"potential\"'),\n",
       " (7,\n",
       "  '0.091*\"nature\" + 0.071*\"biodiversity\" + 0.069*\"climate\" + 0.066*\"million\" + 0.064*\"sids\" + 0.061*\"climate finance\" + 0.061*\"today\" + 0.055*\"finance\" + 0.049*\"world\" + 0.031*\"importance\"'),\n",
       " (8,\n",
       "  '0.160*\"end\" + 0.151*\"come\" + 0.123*\"time\" + 0.014*\"carbon\" + 0.010*\"climate\" + 0.007*\"action\" + 0.007*\"planet\" + 0.006*\"need\" + 0.006*\"climate change\" + 0.006*\"change\"'),\n",
       " (9,\n",
       "  '0.027*\"excellency\" + 0.023*\"thank\" + 0.021*\"statement\" + 0.017*\"minister\" + 0.015*\"climate\" + 0.014*\"excellency mr\" + 0.012*\"mr\" + 0.011*\"gentlemen\" + 0.011*\"ladies gentlemen\" + 0.011*\"ladies\"'),\n",
       " (10,\n",
       "  '0.197*\"november\" + 0.070*\"build\" + 0.052*\"today\" + 0.042*\"nature\" + 0.039*\"need\" + 0.020*\"cop\" + 0.018*\"page\" + 0.017*\"support\" + 0.016*\"parties\" + 0.011*\"solutions\"'),\n",
       " (11,\n",
       "  '0.060*\"developing states\" + 0.060*\"island developing states\" + 0.059*\"small island developing\" + 0.059*\"island developing\" + 0.055*\"small island\" + 0.053*\"island\" + 0.049*\"small\" + 0.049*\"states\" + 0.045*\"developing\" + 0.040*\"right\"'),\n",
       " (12,\n",
       "  '0.058*\"mr president\" + 0.057*\"mr\" + 0.057*\"president\" + 0.049*\"social\" + 0.043*\"plan\" + 0.041*\"far\" + 0.040*\"economic\" + 0.035*\"potential\" + 0.034*\"development\" + 0.029*\"increase\"'),\n",
       " (13,\n",
       "  '0.469*\"thank\" + 0.014*\"climate\" + 0.009*\"action\" + 0.007*\"carbon\" + 0.007*\"climate change\" + 0.007*\"change\" + 0.006*\"sustainable\" + 0.006*\"finance\" + 0.005*\"development\" + 0.005*\"summit\"'),\n",
       " (14,\n",
       "  '0.103*\"loss damage\" + 0.100*\"damage\" + 0.091*\"loss\" + 0.048*\"countries\" + 0.036*\"adaptation\" + 0.027*\"united nations\" + 0.025*\"nations\" + 0.024*\"united\" + 0.024*\"international\" + 0.022*\"provide\"'),\n",
       " (15,\n",
       "  '0.066*\"distinguished delegates\" + 0.064*\"delegates\" + 0.062*\"distinguished\" + 0.062*\"excellencies\" + 0.055*\"gentlemen\" + 0.055*\"ladies gentlemen\" + 0.054*\"ladies\" + 0.043*\"developed countries\" + 0.032*\"developed\" + 0.030*\"climate finance\"'),\n",
       " (16,\n",
       "  '0.075*\"climate change conference\" + 0.074*\"change conference\" + 0.065*\"united nations\" + 0.059*\"nations\" + 0.058*\"united\" + 0.056*\"conference\" + 0.045*\"climate change\" + 0.044*\"change\" + 0.040*\"climate\" + 0.009*\"mr\"'),\n",
       " (17,\n",
       "  '0.018*\"mr\" + 0.015*\"president\" + 0.015*\"mr president\" + 0.013*\"climate\" + 0.012*\"countries\" + 0.012*\"conference\" + 0.010*\"national\" + 0.010*\"agreement\" + 0.010*\"paris\" + 0.010*\"conference parties\"')]"
      ]
     },
     "execution_count": 39,
     "metadata": {},
     "output_type": "execute_result"
    }
   ],
   "source": [
    "speech_corpus = matutils.Sparse2Corpus(sfx_xpose)\n",
    "speech_id2word = dict((v,k) for k,v in speeches_tfidf.vocabulary_.items())\n",
    "speech_lda = models.LdaModel(corpus=speech_corpus, num_topics=18, id2word=speech_id2word)\n",
    "\n",
    "speech_lda.print_topics()"
   ]
  },
  {
   "cell_type": "code",
   "execution_count": 40,
   "id": "83fd5173-590c-472a-806c-9c4dd56e043e",
   "metadata": {},
   "outputs": [],
   "source": [
    "#[doc for doc in speech_lda[speech_corpus]]"
   ]
  },
  {
   "cell_type": "code",
   "execution_count": null,
   "id": "765f529a-4e58-4431-ba36-a4b4a9476d1d",
   "metadata": {},
   "outputs": [],
   "source": []
  },
  {
   "cell_type": "code",
   "execution_count": null,
   "id": "744d2535-d2bd-4b00-8800-684ae26f42d3",
   "metadata": {},
   "outputs": [],
   "source": []
  }
 ],
 "metadata": {
  "kernelspec": {
   "display_name": "Python 3 (ipykernel)",
   "language": "python",
   "name": "python3"
  },
  "language_info": {
   "codemirror_mode": {
    "name": "ipython",
    "version": 3
   },
   "file_extension": ".py",
   "mimetype": "text/x-python",
   "name": "python",
   "nbconvert_exporter": "python",
   "pygments_lexer": "ipython3",
   "version": "3.8.11"
  }
 },
 "nbformat": 4,
 "nbformat_minor": 5
}
