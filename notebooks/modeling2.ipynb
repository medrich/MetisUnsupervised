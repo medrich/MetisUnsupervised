{
 "cells": [
  {
   "cell_type": "code",
   "execution_count": 67,
   "id": "b9326146-4568-49e6-ad0b-b1f3537f4c69",
   "metadata": {},
   "outputs": [
    {
     "name": "stderr",
     "output_type": "stream",
     "text": [
      "[nltk_data] Downloading package wordnet to /home/mattiboi/nltk_data...\n",
      "[nltk_data]   Package wordnet is already up-to-date!\n"
     ]
    }
   ],
   "source": [
    "# imports\n",
    "\n",
    "import PyPDF2\n",
    "import re\n",
    "import glob\n",
    "import pandas as pd\n",
    "import numpy as np\n",
    "from sklearn.feature_extraction import text\n",
    "from sklearn.feature_extraction.text import TfidfVectorizer, CountVectorizer, TfidfTransformer\n",
    "from sklearn.pipeline import Pipeline\n",
    "import nltk\n",
    "from nltk.tokenize import word_tokenize\n",
    "from nltk.stem import WordNetLemmatizer, PorterStemmer\n",
    "from sklearn.metrics.pairwise import cosine_similarity\n",
    "from sklearn.decomposition import PCA, TruncatedSVD, NMF, LatentDirichletAllocation\n",
    "from gensim import corpora, models, matutils\n",
    "import matplotlib.pyplot as plt\n",
    "import seaborn as sns\n",
    "from mpl_toolkits.mplot3d import Axes3D\n",
    "import pickle\n",
    "from corextopic import corextopic as ct\n",
    "import scattertext as st\n",
    "import spacy\n",
    "from IPython.display import IFrame\n",
    "from IPython.core.display import display, HTML\n",
    "\n",
    "sns.set(style = \"darkgrid\")\n",
    "%matplotlib inline\n",
    "nltk.download('wordnet')\n",
    "\n",
    "# unpickle corpora\n",
    "\n",
    "unpickle_speeches = open(\"speech_tokens.txt\", \"rb\")\n",
    "speech_tokens = pickle.load(unpickle_speeches)\n",
    "\n",
    "unpickle_reports = open(\"report_tokens.txt\", \"rb\")\n",
    "report_tokens = pickle.load(unpickle_reports)"
   ]
  },
  {
   "cell_type": "code",
   "execution_count": 2,
   "id": "ab5bba99-eeba-45ce-9d39-eb0271882a95",
   "metadata": {},
   "outputs": [],
   "source": [
    "# lemmatize speeches\n",
    "lemmatizer = WordNetLemmatizer()\n",
    "speeches_lem = []\n",
    "lem = map(lemmatizer.lemmatize, speech_tokens)\n",
    "for word in lem:\n",
    "    speeches_lem.append(word)"
   ]
  },
  {
   "cell_type": "code",
   "execution_count": 3,
   "id": "b103a63a-dd1e-4c20-b9ee-c1e2a785a232",
   "metadata": {},
   "outputs": [
    {
     "name": "stderr",
     "output_type": "stream",
     "text": [
      "/home/mattiboi/anaconda3/lib/python3.8/site-packages/sklearn/utils/deprecation.py:87: FutureWarning: Function get_feature_names is deprecated; get_feature_names is deprecated in 1.0 and will be removed in 1.2. Please use get_feature_names_out instead.\n",
      "  warnings.warn(msg, category=FutureWarning)\n",
      "/home/mattiboi/anaconda3/lib/python3.8/site-packages/sklearn/utils/deprecation.py:87: FutureWarning: Function get_feature_names is deprecated; get_feature_names is deprecated in 1.0 and will be removed in 1.2. Please use get_feature_names_out instead.\n",
      "  warnings.warn(msg, category=FutureWarning)\n"
     ]
    }
   ],
   "source": [
    "# apply CountVectorizer and TfidfVectorizer to speeches, with more aggressive min/max_df\n",
    "\n",
    "speeches_cv = CountVectorizer(stop_words='english', min_df=.015, max_df=.24, preprocessor=lambda x: re.sub(r'(\\d[\\d\\.])+', '', x.lower()), ngram_range=(1,3))\n",
    "sfx = speeches_cv.fit_transform(speeches_lem)\n",
    "\n",
    "speech_cvdf = pd.DataFrame(sfx.toarray(), columns=speeches_cv.get_feature_names())\n",
    "\n",
    "speeches_tfidf = TfidfVectorizer(stop_words='english', min_df=.05, max_df=.95, preprocessor=lambda x: re.sub(r'(\\d[\\d\\.])+', '', x.lower()), ngram_range=(1,3))\n",
    "sfx2 = speeches_tfidf.fit_transform(speeches_lem)\n",
    "\n",
    "speech_tfidf_df = pd.DataFrame(sfx2.toarray(), columns=speeches_tfidf.get_feature_names())"
   ]
  },
  {
   "cell_type": "code",
   "execution_count": 4,
   "id": "ccdf9a60-b251-4941-a555-92df17fa7cc8",
   "metadata": {},
   "outputs": [
    {
     "data": {
      "text/html": [
       "<div>\n",
       "<style scoped>\n",
       "    .dataframe tbody tr th:only-of-type {\n",
       "        vertical-align: middle;\n",
       "    }\n",
       "\n",
       "    .dataframe tbody tr th {\n",
       "        vertical-align: top;\n",
       "    }\n",
       "\n",
       "    .dataframe thead th {\n",
       "        text-align: right;\n",
       "    }\n",
       "</style>\n",
       "<table border=\"1\" class=\"dataframe\">\n",
       "  <thead>\n",
       "    <tr style=\"text-align: right;\">\n",
       "      <th></th>\n",
       "      <th>achieve</th>\n",
       "      <th>act</th>\n",
       "      <th>action</th>\n",
       "      <th>actions</th>\n",
       "      <th>adaptation</th>\n",
       "      <th>address</th>\n",
       "      <th>agreement</th>\n",
       "      <th>ambition</th>\n",
       "      <th>ambitious</th>\n",
       "      <th>based</th>\n",
       "      <th>...</th>\n",
       "      <th>united nations</th>\n",
       "      <th>united nations framework</th>\n",
       "      <th>use</th>\n",
       "      <th>vulnerable</th>\n",
       "      <th>warming</th>\n",
       "      <th>work</th>\n",
       "      <th>world</th>\n",
       "      <th>year</th>\n",
       "      <th>years</th>\n",
       "      <th>zero</th>\n",
       "    </tr>\n",
       "  </thead>\n",
       "  <tbody>\n",
       "    <tr>\n",
       "      <th>0</th>\n",
       "      <td>0</td>\n",
       "      <td>0</td>\n",
       "      <td>0</td>\n",
       "      <td>0</td>\n",
       "      <td>0</td>\n",
       "      <td>0</td>\n",
       "      <td>0</td>\n",
       "      <td>0</td>\n",
       "      <td>0</td>\n",
       "      <td>0</td>\n",
       "      <td>...</td>\n",
       "      <td>0</td>\n",
       "      <td>0</td>\n",
       "      <td>0</td>\n",
       "      <td>0</td>\n",
       "      <td>0</td>\n",
       "      <td>0</td>\n",
       "      <td>0</td>\n",
       "      <td>0</td>\n",
       "      <td>0</td>\n",
       "      <td>0</td>\n",
       "    </tr>\n",
       "    <tr>\n",
       "      <th>1</th>\n",
       "      <td>0</td>\n",
       "      <td>0</td>\n",
       "      <td>0</td>\n",
       "      <td>0</td>\n",
       "      <td>0</td>\n",
       "      <td>0</td>\n",
       "      <td>0</td>\n",
       "      <td>0</td>\n",
       "      <td>0</td>\n",
       "      <td>0</td>\n",
       "      <td>...</td>\n",
       "      <td>0</td>\n",
       "      <td>0</td>\n",
       "      <td>0</td>\n",
       "      <td>0</td>\n",
       "      <td>0</td>\n",
       "      <td>0</td>\n",
       "      <td>0</td>\n",
       "      <td>0</td>\n",
       "      <td>0</td>\n",
       "      <td>0</td>\n",
       "    </tr>\n",
       "    <tr>\n",
       "      <th>2</th>\n",
       "      <td>0</td>\n",
       "      <td>0</td>\n",
       "      <td>0</td>\n",
       "      <td>0</td>\n",
       "      <td>0</td>\n",
       "      <td>0</td>\n",
       "      <td>0</td>\n",
       "      <td>0</td>\n",
       "      <td>0</td>\n",
       "      <td>0</td>\n",
       "      <td>...</td>\n",
       "      <td>0</td>\n",
       "      <td>0</td>\n",
       "      <td>0</td>\n",
       "      <td>0</td>\n",
       "      <td>0</td>\n",
       "      <td>0</td>\n",
       "      <td>0</td>\n",
       "      <td>0</td>\n",
       "      <td>0</td>\n",
       "      <td>0</td>\n",
       "    </tr>\n",
       "    <tr>\n",
       "      <th>3</th>\n",
       "      <td>0</td>\n",
       "      <td>0</td>\n",
       "      <td>0</td>\n",
       "      <td>0</td>\n",
       "      <td>0</td>\n",
       "      <td>0</td>\n",
       "      <td>0</td>\n",
       "      <td>0</td>\n",
       "      <td>0</td>\n",
       "      <td>0</td>\n",
       "      <td>...</td>\n",
       "      <td>0</td>\n",
       "      <td>0</td>\n",
       "      <td>0</td>\n",
       "      <td>0</td>\n",
       "      <td>0</td>\n",
       "      <td>0</td>\n",
       "      <td>0</td>\n",
       "      <td>0</td>\n",
       "      <td>0</td>\n",
       "      <td>0</td>\n",
       "    </tr>\n",
       "    <tr>\n",
       "      <th>4</th>\n",
       "      <td>0</td>\n",
       "      <td>0</td>\n",
       "      <td>0</td>\n",
       "      <td>0</td>\n",
       "      <td>0</td>\n",
       "      <td>0</td>\n",
       "      <td>0</td>\n",
       "      <td>0</td>\n",
       "      <td>0</td>\n",
       "      <td>0</td>\n",
       "      <td>...</td>\n",
       "      <td>0</td>\n",
       "      <td>0</td>\n",
       "      <td>0</td>\n",
       "      <td>0</td>\n",
       "      <td>0</td>\n",
       "      <td>0</td>\n",
       "      <td>0</td>\n",
       "      <td>0</td>\n",
       "      <td>0</td>\n",
       "      <td>0</td>\n",
       "    </tr>\n",
       "  </tbody>\n",
       "</table>\n",
       "<p>5 rows × 204 columns</p>\n",
       "</div>"
      ],
      "text/plain": [
       "   achieve  act  action  actions  adaptation  address  agreement  ambition  \\\n",
       "0        0    0       0        0           0        0          0         0   \n",
       "1        0    0       0        0           0        0          0         0   \n",
       "2        0    0       0        0           0        0          0         0   \n",
       "3        0    0       0        0           0        0          0         0   \n",
       "4        0    0       0        0           0        0          0         0   \n",
       "\n",
       "   ambitious  based  ...  united nations  united nations framework  use  \\\n",
       "0          0      0  ...               0                         0    0   \n",
       "1          0      0  ...               0                         0    0   \n",
       "2          0      0  ...               0                         0    0   \n",
       "3          0      0  ...               0                         0    0   \n",
       "4          0      0  ...               0                         0    0   \n",
       "\n",
       "   vulnerable  warming  work  world  year  years  zero  \n",
       "0           0        0     0      0     0      0     0  \n",
       "1           0        0     0      0     0      0     0  \n",
       "2           0        0     0      0     0      0     0  \n",
       "3           0        0     0      0     0      0     0  \n",
       "4           0        0     0      0     0      0     0  \n",
       "\n",
       "[5 rows x 204 columns]"
      ]
     },
     "execution_count": 4,
     "metadata": {},
     "output_type": "execute_result"
    }
   ],
   "source": [
    "# as long as max_df >= .24, the number of terms is not reduced\n",
    "\n",
    "speech_cvdf.head()"
   ]
  },
  {
   "cell_type": "code",
   "execution_count": 5,
   "id": "bc12511f-a3b8-48e4-9690-7592e2567448",
   "metadata": {},
   "outputs": [],
   "source": [
    "# transpose speech corpus\n",
    "\n",
    "sfx_xpose_cv = speeches_cv.fit_transform(speech_tokens).transpose()\n",
    "sfx_xpose_tfidf = speeches_tfidf.fit_transform(speech_tokens).transpose()"
   ]
  },
  {
   "cell_type": "code",
   "execution_count": 6,
   "id": "71b10c2a-430c-406c-8199-205988983109",
   "metadata": {},
   "outputs": [
    {
     "data": {
      "text/plain": [
       "[(0,\n",
       "  '0.051*\"united\" + 0.039*\"cop\" + 0.037*\"kingdom\" + 0.037*\"general\" + 0.037*\"secretary\" + 0.035*\"united kingdom\" + 0.034*\"thank\" + 0.033*\"statement\" + 0.033*\"paris\" + 0.030*\"agreement\"'),\n",
       " (1,\n",
       "  '0.084*\"countries\" + 0.062*\"loss\" + 0.061*\"damage\" + 0.060*\"loss damage\" + 0.035*\"paris\" + 0.035*\"agreement\" + 0.034*\"paris agreement\" + 0.029*\"support\" + 0.028*\"long\" + 0.028*\"including\"'),\n",
       " (2,\n",
       "  '0.082*\"climate\" + 0.072*\"adaptation\" + 0.067*\"mitigation\" + 0.035*\"emissions\" + 0.034*\"global\" + 0.033*\"finance\" + 0.029*\"climate finance\" + 0.027*\"financing\" + 0.026*\"address\" + 0.026*\"including\"'),\n",
       " (3,\n",
       "  '0.079*\"cop\" + 0.076*\"high\" + 0.075*\"high level\" + 0.075*\"level\" + 0.074*\"high level segment\" + 0.074*\"segment\" + 0.074*\"level segment\" + 0.037*\"glasgow\" + 0.036*\"statement\" + 0.036*\"general\"'),\n",
       " (4,\n",
       "  '0.068*\"emissions\" + 0.047*\"climate\" + 0.038*\"ambitious\" + 0.037*\"reduction\" + 0.030*\"increase\" + 0.025*\"action\" + 0.025*\"energy\" + 0.023*\"climate action\" + 0.023*\"president\" + 0.021*\"sector\"'),\n",
       " (5,\n",
       "  '0.073*\"small\" + 0.056*\"states\" + 0.055*\"island\" + 0.055*\"small island\" + 0.045*\"emissions\" + 0.042*\"cop\" + 0.038*\"developing\" + 0.031*\"climate\" + 0.025*\"change\" + 0.025*\"carbon\"'),\n",
       " (6,\n",
       "  '0.120*\"nature\" + 0.109*\"climate\" + 0.064*\"based\" + 0.063*\"solutions\" + 0.049*\"thank\" + 0.047*\"change\" + 0.046*\"climate change\" + 0.033*\"state\" + 0.020*\"need\" + 0.020*\"world\"'),\n",
       " (7,\n",
       "  '0.075*\"climate\" + 0.054*\"change\" + 0.049*\"climate change\" + 0.042*\"united\" + 0.041*\"conference\" + 0.038*\"nations\" + 0.038*\"november\" + 0.037*\"united nations\" + 0.018*\"energy\" + 0.013*\"cop\"'),\n",
       " (8,\n",
       "  '0.114*\"cop\" + 0.096*\"nature\" + 0.073*\"based\" + 0.054*\"support\" + 0.045*\"solutions\" + 0.038*\"time\" + 0.035*\"glasgow\" + 0.034*\"commitments\" + 0.031*\"need\" + 0.030*\"parties\"'),\n",
       " (9,\n",
       "  '0.057*\"countries\" + 0.048*\"climate\" + 0.042*\"world\" + 0.039*\"opportunity\" + 0.039*\"actions\" + 0.038*\"warming\" + 0.036*\"global\" + 0.032*\"impacts\" + 0.028*\"developed\" + 0.023*\"cop\"')]"
      ]
     },
     "execution_count": 6,
     "metadata": {},
     "output_type": "execute_result"
    }
   ],
   "source": [
    "# find topics for speeches_cv\n",
    "\n",
    "speech_corpus_cv = matutils.Sparse2Corpus(sfx_xpose_cv)\n",
    "speech_id2word = dict((v,k) for k,v in speeches_cv.vocabulary_.items())\n",
    "speech_lda_cv = models.LdaModel(corpus=speech_corpus_cv, num_topics=10, id2word=speech_id2word)\n",
    "\n",
    "speech_lda_cv.print_topics()"
   ]
  },
  {
   "cell_type": "code",
   "execution_count": 7,
   "id": "bf45a67d-3d36-468f-ba2d-8f91ac9d6164",
   "metadata": {},
   "outputs": [
    {
     "data": {
      "text/plain": [
       "[(0,\n",
       "  '0.164*\"world\" + 0.155*\"countries\" + 0.151*\"paris\" + 0.125*\"emissions\" + 0.123*\"climate\" + 0.121*\"cop\" + 0.027*\"carbon\" + 0.020*\"adaptation\" + 0.019*\"action\" + 0.016*\"president\"'),\n",
       " (1,\n",
       "  '0.674*\"thank\" + 0.072*\"cop\" + 0.056*\"united\" + 0.027*\"conference\" + 0.024*\"climate\" + 0.021*\"paris\" + 0.016*\"global\" + 0.011*\"president\" + 0.011*\"action\" + 0.009*\"national\"'),\n",
       " (2,\n",
       "  '0.214*\"president\" + 0.209*\"mr president\" + 0.201*\"mr\" + 0.081*\"climate\" + 0.052*\"thank\" + 0.050*\"change\" + 0.038*\"climate change\" + 0.031*\"world\" + 0.024*\"need\" + 0.019*\"cop\"'),\n",
       " (3,\n",
       "  '0.245*\"countries\" + 0.118*\"emissions\" + 0.102*\"support\" + 0.097*\"paris\" + 0.090*\"carbon\" + 0.062*\"global\" + 0.055*\"change\" + 0.054*\"climate change\" + 0.054*\"climate\" + 0.029*\"mr\"'),\n",
       " (4,\n",
       "  '0.350*\"cop\" + 0.307*\"adaptation\" + 0.066*\"climate\" + 0.060*\"support\" + 0.055*\"global\" + 0.052*\"emissions\" + 0.015*\"change\" + 0.013*\"climate change\" + 0.011*\"president\" + 0.010*\"mr\"'),\n",
       " (5,\n",
       "  '0.245*\"emissions\" + 0.134*\"development\" + 0.112*\"support\" + 0.093*\"energy\" + 0.092*\"climate\" + 0.074*\"action\" + 0.069*\"need\" + 0.039*\"carbon\" + 0.038*\"climate change\" + 0.037*\"change\"'),\n",
       " (6,\n",
       "  '0.122*\"climate\" + 0.090*\"emissions\" + 0.088*\"action\" + 0.080*\"need\" + 0.076*\"global\" + 0.070*\"world\" + 0.056*\"countries\" + 0.053*\"change\" + 0.052*\"climate change\" + 0.039*\"united\"'),\n",
       " (7,\n",
       "  '0.205*\"world\" + 0.194*\"global\" + 0.182*\"cop\" + 0.078*\"energy\" + 0.046*\"action\" + 0.034*\"carbon\" + 0.031*\"adaptation\" + 0.026*\"countries\" + 0.026*\"climate\" + 0.025*\"national\"'),\n",
       " (8,\n",
       "  '0.219*\"glasgow\" + 0.208*\"united\" + 0.109*\"cop\" + 0.077*\"conference\" + 0.075*\"countries\" + 0.068*\"climate\" + 0.067*\"change\" + 0.067*\"climate change\" + 0.024*\"mr\" + 0.015*\"global\"'),\n",
       " (9,\n",
       "  '0.423*\"climate\" + 0.145*\"climate change\" + 0.143*\"change\" + 0.092*\"need\" + 0.065*\"countries\" + 0.034*\"national\" + 0.013*\"cop\" + 0.012*\"thank\" + 0.010*\"world\" + 0.008*\"conference\"')]"
      ]
     },
     "execution_count": 7,
     "metadata": {},
     "output_type": "execute_result"
    }
   ],
   "source": [
    "# find topics for speeches_tfidf\n",
    "\n",
    "speech_corpus_tfidf = matutils.Sparse2Corpus(sfx_xpose_tfidf)\n",
    "speech_id2word = dict((v,k) for k,v in speeches_tfidf.vocabulary_.items())\n",
    "speech_lda_tfidf = models.LdaModel(corpus=speech_corpus_tfidf, num_topics=10, id2word=speech_id2word)\n",
    "\n",
    "speech_lda_tfidf.print_topics()"
   ]
  },
  {
   "cell_type": "code",
   "execution_count": 8,
   "id": "8672b969-d193-47d1-aa9f-0b53bea1d91b",
   "metadata": {},
   "outputs": [],
   "source": [
    "# lemmatize reports\n",
    "\n",
    "reports_lem = []\n",
    "lem = map(lemmatizer.lemmatize, report_tokens)\n",
    "for word in lem:\n",
    "    reports_lem.append(word)"
   ]
  },
  {
   "cell_type": "code",
   "execution_count": 9,
   "id": "bf493cc4-ddee-4762-822a-11c13c97ba43",
   "metadata": {},
   "outputs": [
    {
     "name": "stderr",
     "output_type": "stream",
     "text": [
      "/home/mattiboi/anaconda3/lib/python3.8/site-packages/sklearn/utils/deprecation.py:87: FutureWarning: Function get_feature_names is deprecated; get_feature_names is deprecated in 1.0 and will be removed in 1.2. Please use get_feature_names_out instead.\n",
      "  warnings.warn(msg, category=FutureWarning)\n",
      "/home/mattiboi/anaconda3/lib/python3.8/site-packages/sklearn/utils/deprecation.py:87: FutureWarning: Function get_feature_names is deprecated; get_feature_names is deprecated in 1.0 and will be removed in 1.2. Please use get_feature_names_out instead.\n",
      "  warnings.warn(msg, category=FutureWarning)\n"
     ]
    }
   ],
   "source": [
    "# apply CountVectorizer and TfidfVectorizer to reports\n",
    "\n",
    "reports_cv = CountVectorizer(stop_words='english', min_df=.01, max_df=.15, preprocessor=lambda x: re.sub(r'(\\d[\\d\\.])+', '', x.lower()), ngram_range=(1,3))\n",
    "rfx = reports_cv.fit_transform(reports_lem)\n",
    "\n",
    "report_cvdf = pd.DataFrame(rfx.toarray(), columns=reports_cv.get_feature_names())\n",
    "\n",
    "reports_tfidf = TfidfVectorizer(stop_words='english', min_df=.01, max_df=.95, preprocessor=lambda x: re.sub(r'(\\d[\\d\\.])+', '', x.lower()), ngram_range=(1,3))\n",
    "rfx2 = reports_tfidf.fit_transform(reports_lem)\n",
    "\n",
    "reports_tfidf_df = pd.DataFrame(rfx2.toarray(), columns=reports_tfidf.get_feature_names())"
   ]
  },
  {
   "cell_type": "code",
   "execution_count": 10,
   "id": "37d21872-9c8a-418b-9b39-a6f7eb3e8c6f",
   "metadata": {},
   "outputs": [
    {
     "data": {
      "text/html": [
       "<div>\n",
       "<style scoped>\n",
       "    .dataframe tbody tr th:only-of-type {\n",
       "        vertical-align: middle;\n",
       "    }\n",
       "\n",
       "    .dataframe tbody tr th {\n",
       "        vertical-align: top;\n",
       "    }\n",
       "\n",
       "    .dataframe thead th {\n",
       "        text-align: right;\n",
       "    }\n",
       "</style>\n",
       "<table border=\"1\" class=\"dataframe\">\n",
       "  <thead>\n",
       "    <tr style=\"text-align: right;\">\n",
       "      <th></th>\n",
       "      <th>ac</th>\n",
       "      <th>access</th>\n",
       "      <th>accordance</th>\n",
       "      <th>account</th>\n",
       "      <th>account expiry</th>\n",
       "      <th>action</th>\n",
       "      <th>actions</th>\n",
       "      <th>activities</th>\n",
       "      <th>activity</th>\n",
       "      <th>adaptation</th>\n",
       "      <th>...</th>\n",
       "      <th>water</th>\n",
       "      <th>women</th>\n",
       "      <th>work</th>\n",
       "      <th>work programme</th>\n",
       "      <th>working</th>\n",
       "      <th>workplan</th>\n",
       "      <th>world</th>\n",
       "      <th>year</th>\n",
       "      <th>years</th>\n",
       "      <th>youth</th>\n",
       "    </tr>\n",
       "  </thead>\n",
       "  <tbody>\n",
       "    <tr>\n",
       "      <th>0</th>\n",
       "      <td>0</td>\n",
       "      <td>0</td>\n",
       "      <td>0</td>\n",
       "      <td>0</td>\n",
       "      <td>0</td>\n",
       "      <td>3</td>\n",
       "      <td>0</td>\n",
       "      <td>0</td>\n",
       "      <td>0</td>\n",
       "      <td>0</td>\n",
       "      <td>...</td>\n",
       "      <td>0</td>\n",
       "      <td>0</td>\n",
       "      <td>0</td>\n",
       "      <td>0</td>\n",
       "      <td>0</td>\n",
       "      <td>0</td>\n",
       "      <td>0</td>\n",
       "      <td>0</td>\n",
       "      <td>0</td>\n",
       "      <td>0</td>\n",
       "    </tr>\n",
       "    <tr>\n",
       "      <th>1</th>\n",
       "      <td>0</td>\n",
       "      <td>0</td>\n",
       "      <td>0</td>\n",
       "      <td>0</td>\n",
       "      <td>0</td>\n",
       "      <td>0</td>\n",
       "      <td>0</td>\n",
       "      <td>0</td>\n",
       "      <td>0</td>\n",
       "      <td>0</td>\n",
       "      <td>...</td>\n",
       "      <td>0</td>\n",
       "      <td>0</td>\n",
       "      <td>0</td>\n",
       "      <td>0</td>\n",
       "      <td>0</td>\n",
       "      <td>0</td>\n",
       "      <td>0</td>\n",
       "      <td>0</td>\n",
       "      <td>0</td>\n",
       "      <td>0</td>\n",
       "    </tr>\n",
       "    <tr>\n",
       "      <th>2</th>\n",
       "      <td>0</td>\n",
       "      <td>0</td>\n",
       "      <td>0</td>\n",
       "      <td>0</td>\n",
       "      <td>0</td>\n",
       "      <td>1</td>\n",
       "      <td>0</td>\n",
       "      <td>0</td>\n",
       "      <td>0</td>\n",
       "      <td>0</td>\n",
       "      <td>...</td>\n",
       "      <td>0</td>\n",
       "      <td>0</td>\n",
       "      <td>0</td>\n",
       "      <td>0</td>\n",
       "      <td>0</td>\n",
       "      <td>0</td>\n",
       "      <td>0</td>\n",
       "      <td>0</td>\n",
       "      <td>0</td>\n",
       "      <td>0</td>\n",
       "    </tr>\n",
       "    <tr>\n",
       "      <th>3</th>\n",
       "      <td>0</td>\n",
       "      <td>0</td>\n",
       "      <td>0</td>\n",
       "      <td>0</td>\n",
       "      <td>0</td>\n",
       "      <td>0</td>\n",
       "      <td>0</td>\n",
       "      <td>0</td>\n",
       "      <td>0</td>\n",
       "      <td>0</td>\n",
       "      <td>...</td>\n",
       "      <td>0</td>\n",
       "      <td>0</td>\n",
       "      <td>0</td>\n",
       "      <td>0</td>\n",
       "      <td>0</td>\n",
       "      <td>0</td>\n",
       "      <td>0</td>\n",
       "      <td>0</td>\n",
       "      <td>0</td>\n",
       "      <td>0</td>\n",
       "    </tr>\n",
       "    <tr>\n",
       "      <th>4</th>\n",
       "      <td>0</td>\n",
       "      <td>0</td>\n",
       "      <td>0</td>\n",
       "      <td>0</td>\n",
       "      <td>0</td>\n",
       "      <td>0</td>\n",
       "      <td>0</td>\n",
       "      <td>0</td>\n",
       "      <td>0</td>\n",
       "      <td>0</td>\n",
       "      <td>...</td>\n",
       "      <td>0</td>\n",
       "      <td>0</td>\n",
       "      <td>0</td>\n",
       "      <td>0</td>\n",
       "      <td>0</td>\n",
       "      <td>0</td>\n",
       "      <td>0</td>\n",
       "      <td>0</td>\n",
       "      <td>0</td>\n",
       "      <td>0</td>\n",
       "    </tr>\n",
       "  </tbody>\n",
       "</table>\n",
       "<p>5 rows × 494 columns</p>\n",
       "</div>"
      ],
      "text/plain": [
       "   ac  access  accordance  account  account expiry  action  actions  \\\n",
       "0   0       0           0        0               0       3        0   \n",
       "1   0       0           0        0               0       0        0   \n",
       "2   0       0           0        0               0       1        0   \n",
       "3   0       0           0        0               0       0        0   \n",
       "4   0       0           0        0               0       0        0   \n",
       "\n",
       "   activities  activity  adaptation  ...  water  women  work  work programme  \\\n",
       "0           0         0           0  ...      0      0     0               0   \n",
       "1           0         0           0  ...      0      0     0               0   \n",
       "2           0         0           0  ...      0      0     0               0   \n",
       "3           0         0           0  ...      0      0     0               0   \n",
       "4           0         0           0  ...      0      0     0               0   \n",
       "\n",
       "   working  workplan  world  year  years  youth  \n",
       "0        0         0      0     0      0      0  \n",
       "1        0         0      0     0      0      0  \n",
       "2        0         0      0     0      0      0  \n",
       "3        0         0      0     0      0      0  \n",
       "4        0         0      0     0      0      0  \n",
       "\n",
       "[5 rows x 494 columns]"
      ]
     },
     "execution_count": 10,
     "metadata": {},
     "output_type": "execute_result"
    }
   ],
   "source": [
    "# as long as max_df >= .15, the results will be the same\n",
    "\n",
    "report_cvdf.head()"
   ]
  },
  {
   "cell_type": "code",
   "execution_count": 11,
   "id": "e703c89c-94b8-4162-83aa-5a40424c44f2",
   "metadata": {},
   "outputs": [],
   "source": [
    "# transpose reports corpus\n",
    "\n",
    "rfx_xpose_cv = reports_cv.fit_transform(report_tokens).transpose()\n",
    "rfx_xpose_tfidf = reports_tfidf.fit_transform(report_tokens).transpose()"
   ]
  },
  {
   "cell_type": "code",
   "execution_count": 12,
   "id": "62d64d7e-ea60-409e-ae2a-2c47b3505a29",
   "metadata": {},
   "outputs": [
    {
     "data": {
      "text/plain": [
       "[(0,\n",
       "  '0.057*\"parties\" + 0.031*\"conference\" + 0.030*\"session\" + 0.026*\"conference parties\" + 0.024*\"meeting\" + 0.024*\"agreement\" + 0.023*\"paris\" + 0.023*\"report\" + 0.022*\"paris agreement\" + 0.018*\"cop\"'),\n",
       " (1,\n",
       "  '0.104*\"united\" + 0.089*\"republic\" + 0.046*\"nations\" + 0.045*\"united nations\" + 0.045*\"kingdom\" + 0.043*\"united kingdom\" + 0.041*\"member\" + 0.038*\"european\" + 0.038*\"state\" + 0.032*\"body\"'),\n",
       " (2,\n",
       "  '0.140*\"mr\" + 0.058*\"ministry\" + 0.046*\"climate\" + 0.038*\"environment\" + 0.026*\"director\" + 0.025*\"affairs\" + 0.022*\"change\" + 0.021*\"climate change\" + 0.020*\"office\" + 0.019*\"government\"'),\n",
       " (3,\n",
       "  '0.156*\"submission\" + 0.106*\"account\" + 0.089*\"non\" + 0.065*\"co2\" + 0.047*\"eq\" + 0.047*\"cancellation\" + 0.044*\"co2 eq\" + 0.035*\"compliance\" + 0.031*\"initial\" + 0.029*\"cers\"'),\n",
       " (4,\n",
       "  '0.025*\"committee\" + 0.024*\"gender\" + 0.019*\"work\" + 0.015*\"bodies\" + 0.015*\"action\" + 0.014*\"technical\" + 0.014*\"capacity\" + 0.014*\"expert\" + 0.013*\"including\" + 0.013*\"building\"'),\n",
       " (5,\n",
       "  '0.317*\"ms\" + 0.074*\"mr\" + 0.036*\"fccc\" + 0.035*\"https\" + 0.031*\"sbi\" + 0.029*\"unfccc\" + 0.028*\"int\" + 0.026*\"unfccc int\" + 0.024*\"fccc sbi\" + 0.023*\"https unfccc\"'),\n",
       " (6,\n",
       "  '0.028*\"usd\" + 0.026*\"approved\" + 0.026*\"parties\" + 0.026*\"project\" + 0.022*\"date\" + 0.021*\"information\" + 0.018*\"funding\" + 0.017*\"million\" + 0.016*\"reporting\" + 0.016*\"support\"'),\n",
       " (7,\n",
       "  '0.044*\"protocol\" + 0.039*\"paragraph\" + 0.038*\"emissions\" + 0.037*\"annex\" + 0.036*\"article\" + 0.035*\"kyoto\" + 0.035*\"kyoto protocol\" + 0.032*\"cmp\" + 0.029*\"party\" + 0.028*\"parties\"'),\n",
       " (8,\n",
       "  '0.138*\"cp\" + 0.121*\"fccc\" + 0.109*\"foreign\" + 0.079*\"fccc cp\" + 0.063*\"decision\" + 0.052*\"inf\" + 0.050*\"para\" + 0.049*\"cma\" + 0.041*\"fccc cp inf\" + 0.041*\"cp inf\"'),\n",
       " (9,\n",
       "  '0.054*\"climate\" + 0.026*\"change\" + 0.026*\"adaptation\" + 0.023*\"climate change\" + 0.020*\"finance\" + 0.017*\"mitigation\" + 0.015*\"parties\" + 0.014*\"including\" + 0.013*\"national\" + 0.012*\"implementation\"')]"
      ]
     },
     "execution_count": 12,
     "metadata": {},
     "output_type": "execute_result"
    }
   ],
   "source": [
    "# find topics for reports_cv\n",
    "\n",
    "report_corpus_cv = matutils.Sparse2Corpus(rfx_xpose_cv)\n",
    "report_id2word = dict((v,k) for k,v in reports_cv.vocabulary_.items())\n",
    "report_lda_cv = models.LdaModel(corpus=report_corpus_cv, num_topics=10, id2word=report_id2word)\n",
    "\n",
    "report_lda_cv.print_topics()"
   ]
  },
  {
   "cell_type": "code",
   "execution_count": 13,
   "id": "e2f3a444-99b3-4463-b4fd-fa73abf8d396",
   "metadata": {},
   "outputs": [
    {
     "data": {
      "text/plain": [
       "[(0,\n",
       "  '0.038*\"mr\" + 0.017*\"climate\" + 0.011*\"ministry\" + 0.009*\"parties\" + 0.009*\"change\" + 0.009*\"information\" + 0.009*\"climate change\" + 0.009*\"cop\" + 0.009*\"national\" + 0.008*\"action\"'),\n",
       " (1,\n",
       "  '0.037*\"parties\" + 0.023*\"session\" + 0.021*\"completed\" + 0.021*\"conference\" + 0.021*\"article\" + 0.021*\"agenda\" + 0.020*\"conference parties\" + 0.020*\"kyoto\" + 0.020*\"kyoto protocol\" + 0.019*\"agreement\"'),\n",
       " (2,\n",
       "  '0.070*\"https\" + 0.068*\"int\" + 0.061*\"cma\" + 0.059*\"unfccc int\" + 0.057*\"unfccc\" + 0.057*\"english\" + 0.049*\"https unfccc\" + 0.049*\"https unfccc int\" + 0.043*\"pa cma\" + 0.043*\"pa\"'),\n",
       " (3,\n",
       "  '0.156*\"ms\" + 0.058*\"director\" + 0.040*\"general\" + 0.039*\"energy\" + 0.037*\"ghg\" + 0.032*\"emissions\" + 0.026*\"officer\" + 0.025*\"head\" + 0.025*\"co2\" + 0.020*\"european\"'),\n",
       " (4,\n",
       "  '0.131*\"kp\" + 0.129*\"fccc kp\" + 0.120*\"kp cmp\" + 0.119*\"fccc kp cmp\" + 0.118*\"cmp\" + 0.070*\"fccc\" + 0.032*\"cancellation\" + 0.024*\"lcer\" + 0.023*\"account\" + 0.018*\"add\"'),\n",
       " (5,\n",
       "  '0.155*\"decision\" + 0.142*\"para\" + 0.129*\"decision cp\" + 0.127*\"cp\" + 0.099*\"cp para\" + 0.086*\"decision cp para\" + 0.052*\"annex\" + 0.038*\"cmp\" + 0.031*\"paras\" + 0.025*\"decisions\"'),\n",
       " (6,\n",
       "  '0.080*\"republic\" + 0.070*\"united\" + 0.064*\"ministry\" + 0.053*\"kingdom\" + 0.052*\"united kingdom\" + 0.044*\"state\" + 0.041*\"states\" + 0.032*\"member\" + 0.032*\"emission\" + 0.030*\"government\"'),\n",
       " (7,\n",
       "  '0.223*\"november\" + 0.177*\"compliance\" + 0.157*\"limited\" + 0.050*\"committee\" + 0.041*\"expiry\" + 0.036*\"account\" + 0.035*\"account expiry\" + 0.032*\"net\" + 0.025*\"cancellation\" + 0.023*\"cancellation account\"'),\n",
       " (8,\n",
       "  '0.066*\"document\" + 0.064*\"afb\" + 0.054*\"total\" + 0.052*\"usd\" + 0.038*\"june\" + 0.037*\"approved\" + 0.035*\"table\" + 0.035*\"fund\" + 0.032*\"million\" + 0.031*\"september\"'),\n",
       " (9,\n",
       "  '0.173*\"fccc\" + 0.131*\"fccc cp\" + 0.114*\"cp\" + 0.092*\"inf\" + 0.078*\"cp inf\" + 0.078*\"fccc cp inf\" + 0.061*\"fccc sbi\" + 0.060*\"sbi\" + 0.027*\"fccc sb\" + 0.027*\"sb\"')]"
      ]
     },
     "execution_count": 13,
     "metadata": {},
     "output_type": "execute_result"
    }
   ],
   "source": [
    "# find topics for reports_cv\n",
    "\n",
    "report_corpus_tfidf = matutils.Sparse2Corpus(rfx_xpose_tfidf)\n",
    "report_id2word = dict((v,k) for k,v in reports_tfidf.vocabulary_.items())\n",
    "report_lda_tfidf = models.LdaModel(corpus=report_corpus_tfidf, num_topics=10, id2word=report_id2word)\n",
    "\n",
    "report_lda_tfidf.print_topics()"
   ]
  },
  {
   "cell_type": "code",
   "execution_count": 14,
   "id": "1d01e036-0236-4f4c-ad7b-0df90ae3c961",
   "metadata": {},
   "outputs": [],
   "source": [
    "# merge the two corpora\n",
    "\n",
    "full_tokens = speech_tokens + report_tokens"
   ]
  },
  {
   "cell_type": "code",
   "execution_count": 15,
   "id": "683d3989-cd55-461c-96ec-b3e28ca5061e",
   "metadata": {},
   "outputs": [
    {
     "data": {
      "text/plain": [
       "22957"
      ]
     },
     "execution_count": 15,
     "metadata": {},
     "output_type": "execute_result"
    }
   ],
   "source": [
    "len(full_tokens)"
   ]
  },
  {
   "cell_type": "code",
   "execution_count": 16,
   "id": "5fae658d-a007-4e5b-a4f7-9a9a2a7f66dc",
   "metadata": {},
   "outputs": [],
   "source": [
    "# lemmatize the whole corpus\n",
    "\n",
    "full_lem = []\n",
    "lem = map(lemmatizer.lemmatize, full_tokens)\n",
    "for word in lem:\n",
    "    full_lem.append(word)"
   ]
  },
  {
   "cell_type": "code",
   "execution_count": 17,
   "id": "b92bf068-dd17-423b-bf2d-c5f55fffe0e1",
   "metadata": {},
   "outputs": [
    {
     "name": "stderr",
     "output_type": "stream",
     "text": [
      "/home/mattiboi/anaconda3/lib/python3.8/site-packages/sklearn/utils/deprecation.py:87: FutureWarning: Function get_feature_names is deprecated; get_feature_names is deprecated in 1.0 and will be removed in 1.2. Please use get_feature_names_out instead.\n",
      "  warnings.warn(msg, category=FutureWarning)\n",
      "/home/mattiboi/anaconda3/lib/python3.8/site-packages/sklearn/utils/deprecation.py:87: FutureWarning: Function get_feature_names is deprecated; get_feature_names is deprecated in 1.0 and will be removed in 1.2. Please use get_feature_names_out instead.\n",
      "  warnings.warn(msg, category=FutureWarning)\n"
     ]
    }
   ],
   "source": [
    "# apply CountVectorizer and TfidfVectorizer to corpus, with more aggressive min/max_df\n",
    "\n",
    "my_stops = ['fccc','ctcn','unfccc','gef','ndcs','sbsta','lcer','sbi','pccb','cma',\n",
    "            'lenvironnen','cers','scf','lulucf','ldcf','mme','nwp','cge','ldcs','paras',\n",
    "            'cop', 'cp', 'cmp', 'www', 'http', 'https', 'mr', 'president', 'mrs', 'ms', 'madam',\n",
    "            'afb', 'mme', 'et', 'la', 'aaus', 'sb', 'unedited', 'ac', 'sr', 'ministry', 'article',\n",
    "            'minister', 'para', 'parties', 'annex', 'deputy', 'october', 'december' ,'june', 'july',\n",
    "            'april', 'paragraph', 'org', 'committee', 'bur', 'subsidiary', 'office', 'bodies', 'conference',\n",
    "            'meetong', 'agenda', 'officer', 'kingdom', 'ambassador', 'meeting', 'submission', 'amendment' ,'secretary',\n",
    "            'november' ,'iceland', 'germany', 'int', 'rev']\n",
    "roman = ['II','III','IV','V','VI','VII','VIII','IX','X','XI','XII','XIII','XIV','XV',\n",
    "         'XVI','XVII','XVIII','XIX','XX','XXI','XXII','XXIII','XXIV','XXV','XXVI','XXVII','XXVIII','XXIX','XXX']\n",
    "\n",
    "little_roman = []\n",
    "\n",
    "for num in roman:\n",
    "    little_roman.append(num.lower())\n",
    "\n",
    "all_stops = text.ENGLISH_STOP_WORDS.union(my_stops)\n",
    "all_stops = all_stops.union(roman)\n",
    "all_stops = all_stops.union(little_roman)\n",
    "\n",
    "corpus_cv = CountVectorizer(stop_words=all_stops, min_df=.005, max_df=.24, preprocessor=lambda x: re.sub(r'(\\d[\\d\\.])+', '', x.lower()), ngram_range=(1,3))\n",
    "cfx = corpus_cv.fit_transform(full_lem)\n",
    "\n",
    "corpus_cvdf = pd.DataFrame(cfx.toarray(), columns=corpus_cv.get_feature_names())\n",
    "\n",
    "corpus_tfidf = TfidfVectorizer(stop_words=all_stops, min_df=.005, max_df=.95, preprocessor=lambda x: re.sub(r'(\\d[\\d\\.])+', '', x.lower()), ngram_range=(1,3))\n",
    "cfx2 = corpus_tfidf.fit_transform(full_lem)\n",
    "\n",
    "corpus_tfidf_df = pd.DataFrame(cfx2.toarray(), columns=corpus_tfidf.get_feature_names())"
   ]
  },
  {
   "cell_type": "code",
   "execution_count": 18,
   "id": "7de22b77-d93b-4542-bd96-a8544ab3ec5b",
   "metadata": {},
   "outputs": [],
   "source": [
    "# transpose full corpus\n",
    "\n",
    "cfx_xpose_cv = corpus_cv.fit_transform(full_tokens).transpose()\n",
    "cfx_xpose_tfidf = corpus_tfidf.fit_transform(full_tokens).transpose()"
   ]
  },
  {
   "cell_type": "code",
   "execution_count": 19,
   "id": "2e837f9f-81b2-40ba-9ca0-a0a521a6a640",
   "metadata": {},
   "outputs": [],
   "source": [
    "# function provided by Jason Palumbo to check top texts in each topic\n",
    "\n",
    "def top_text(text_matrix_df, topic, n_text):\n",
    "    '''\n",
    "    This function returns the top texts per topic\n",
    "    '''\n",
    "    return (text_matrix_df\n",
    "            .sort_values(by=topic, ascending=False)\n",
    "            .head(n_text)\n",
    "            .values) "
   ]
  },
  {
   "cell_type": "code",
   "execution_count": 20,
   "id": "31f46821-f4db-4700-92b7-fb89f48fc1af",
   "metadata": {
    "tags": []
   },
   "outputs": [],
   "source": [
    "# transpose full corpus\n",
    "\n",
    "#cfx_xpose_cv = corpus_cv.fit_transform(full_tokens).transpose()\n",
    "#cfx_xpose_tfidf = corpus_tfidf.fit_transform(full_tokens).transpose()"
   ]
  },
  {
   "cell_type": "code",
   "execution_count": null,
   "id": "76d56039-4af1-4b87-931a-a925ebeb8dd4",
   "metadata": {},
   "outputs": [],
   "source": []
  },
  {
   "cell_type": "code",
   "execution_count": 21,
   "id": "35930054-132e-4c7b-b0c2-95e271e00b7f",
   "metadata": {},
   "outputs": [
    {
     "data": {
      "text/plain": [
       "[(0,\n",
       "  '0.016*\"paris\" + 0.016*\"agreement\" + 0.015*\"paris agreement\" + 0.013*\"implementation\" + 0.012*\"session\" + 0.012*\"report\" + 0.012*\"capacity\" + 0.011*\"support\" + 0.010*\"building\" + 0.010*\"technical\"'),\n",
       " (1,\n",
       "  '0.069*\"director\" + 0.055*\"environment\" + 0.053*\"foreign\" + 0.029*\"international\" + 0.027*\"general\" + 0.026*\"foreign affairs\" + 0.023*\"policy\" + 0.019*\"republic\" + 0.018*\"development\" + 0.017*\"agency\"'),\n",
       " (2,\n",
       "  '0.093*\"climate\" + 0.064*\"change\" + 0.062*\"climate change\" + 0.037*\"environment\" + 0.034*\"energy\" + 0.031*\"government\" + 0.024*\"head\" + 0.019*\"development\" + 0.018*\"management\" + 0.017*\"commission\"'),\n",
       " (3,\n",
       "  '0.069*\"gender\" + 0.044*\"decision\" + 0.025*\"information\" + 0.024*\"climate\" + 0.023*\"members\" + 0.022*\"technology\" + 0.022*\"communication\" + 0.021*\"ceo\" + 0.019*\"meetings\" + 0.019*\"events\"'),\n",
       " (4,\n",
       "  '0.140*\"table\" + 0.129*\"add\" + 0.067*\"version\" + 0.067*\"department\" + 0.058*\"account\" + 0.057*\"advance\" + 0.038*\"advance version\" + 0.038*\"cancellation\" + 0.033*\"type\" + 0.021*\"cancellation account\"'),\n",
       " (5,\n",
       "  '0.017*\"including\" + 0.017*\"mitigation\" + 0.013*\"adaptation\" + 0.011*\"local\" + 0.011*\"level\" + 0.011*\"climate\" + 0.010*\"communities\" + 0.010*\"activity\" + 0.010*\"regional\" + 0.010*\"implementation\"'),\n",
       " (6,\n",
       "  '0.086*\"affairs\" + 0.042*\"climate\" + 0.041*\"department\" + 0.035*\"finance\" + 0.030*\"approved\" + 0.026*\"republic\" + 0.026*\"usd\" + 0.020*\"united\" + 0.019*\"assistant\" + 0.018*\"european\"'),\n",
       " (7,\n",
       "  '0.048*\"inf\" + 0.048*\"completed\" + 0.048*\"emissions\" + 0.035*\"period\" + 0.033*\"ghg\" + 0.030*\"party\" + 0.029*\"date\" + 0.028*\"document\" + 0.025*\"total\" + 0.021*\"pa\"'),\n",
       " (8,\n",
       "  '0.032*\"adaptation\" + 0.024*\"protocol\" + 0.020*\"fund\" + 0.018*\"kyoto protocol\" + 0.018*\"report\" + 0.017*\"project\" + 0.016*\"kyoto\" + 0.015*\"information\" + 0.014*\"funding\" + 0.013*\"activities\"'),\n",
       " (9,\n",
       "  '0.216*\"shall\" + 0.090*\"non\" + 0.084*\"reference\" + 0.068*\"account\" + 0.045*\"states\" + 0.038*\"members\" + 0.038*\"member\" + 0.034*\"report\" + 0.031*\"tables\" + 0.018*\"requirements\"')]"
      ]
     },
     "execution_count": 21,
     "metadata": {},
     "output_type": "execute_result"
    }
   ],
   "source": [
    "# find topics for corpus_cv\n",
    "\n",
    "full_corpus_cv = matutils.Sparse2Corpus(cfx_xpose_cv)\n",
    "full_id2word = dict((v,k) for k,v in corpus_cv.vocabulary_.items())\n",
    "full_lda_cv = models.LdaModel(corpus=full_corpus_cv, num_topics=10, id2word=full_id2word)\n",
    "\n",
    "full_lda_cv.print_topics()"
   ]
  },
  {
   "cell_type": "code",
   "execution_count": 22,
   "id": "4da3f7f1-7ec5-425c-87b0-9caafb5c548c",
   "metadata": {},
   "outputs": [
    {
     "data": {
      "text/plain": [
       "[(0,\n",
       "  '0.013*\"report\" + 0.012*\"information\" + 0.009*\"activities\" + 0.008*\"support\" + 0.008*\"add\" + 0.008*\"implementation\" + 0.007*\"project\" + 0.007*\"technical\" + 0.007*\"capacity\" + 0.007*\"review\"'),\n",
       " (1,\n",
       "  '0.032*\"foreign\" + 0.028*\"date\" + 0.026*\"documents\" + 0.024*\"gender\" + 0.024*\"compliance\" + 0.023*\"available\" + 0.018*\"prime\" + 0.014*\"adaptation\" + 0.013*\"accordance\" + 0.013*\"protection\"'),\n",
       " (2,\n",
       "  '0.033*\"agreement\" + 0.032*\"paris agreement\" + 0.032*\"serving\" + 0.031*\"paris\" + 0.028*\"session\" + 0.023*\"continued\" + 0.022*\"serving paris\" + 0.021*\"serving paris agreement\" + 0.021*\"recalling\" + 0.019*\"director\"'),\n",
       " (3,\n",
       "  '0.103*\"version\" + 0.083*\"advance version\" + 0.080*\"emissions\" + 0.077*\"advance\" + 0.071*\"total\" + 0.040*\"ghg\" + 0.039*\"table\" + 0.030*\"year\" + 0.029*\"ghg emissions\" + 0.027*\"base\"'),\n",
       " (4,\n",
       "  '0.448*\"inf\" + 0.089*\"document\" + 0.024*\"body\" + 0.023*\"event\" + 0.023*\"distr\" + 0.022*\"limited\" + 0.017*\"consideration\" + 0.016*\"body implementation\" + 0.014*\"relevant\" + 0.013*\"reference\"'),\n",
       " (5,\n",
       "  '0.051*\"decisions\" + 0.041*\"sites\" + 0.031*\"initial\" + 0.028*\"pages\" + 0.025*\"account\" + 0.023*\"workshop\" + 0.022*\"number\" + 0.022*\"cancellation\" + 0.022*\"procedures\" + 0.022*\"submissions\"'),\n",
       " (6,\n",
       "  '0.087*\"budget\" + 0.066*\"approved\" + 0.063*\"distr\" + 0.061*\"general\" + 0.056*\"session glasgow\" + 0.048*\"figure\" + 0.047*\"determined\" + 0.034*\"contributions\" + 0.030*\"sessions\" + 0.026*\"requests\"'),\n",
       " (7,\n",
       "  '0.283*\"pa\" + 0.241*\"kp\" + 0.056*\"september\" + 0.033*\"cent\" + 0.031*\"ireland\" + 0.031*\"endorsed\" + 0.028*\"republic\" + 0.026*\"topics\" + 0.019*\"cross\" + 0.012*\"cutting\"'),\n",
       " (8,\n",
       "  '0.272*\"decision\" + 0.042*\"party\" + 0.034*\"english\" + 0.031*\"original\" + 0.029*\"original english\" + 0.025*\"draft\" + 0.024*\"protocol\" + 0.022*\"kyoto\" + 0.022*\"kyoto protocol\" + 0.016*\"inventories\"'),\n",
       " (9,\n",
       "  '0.033*\"climate\" + 0.031*\"environment\" + 0.026*\"affairs\" + 0.022*\"united\" + 0.022*\"change\" + 0.021*\"director\" + 0.021*\"completed\" + 0.019*\"climate change\" + 0.016*\"nations\" + 0.016*\"government\"')]"
      ]
     },
     "execution_count": 22,
     "metadata": {},
     "output_type": "execute_result"
    }
   ],
   "source": [
    "# find topics for corpus_tfidf\n",
    "\n",
    "full_corpus_tfidf = matutils.Sparse2Corpus(cfx_xpose_tfidf)\n",
    "full_id2word = dict((v,k) for k,v in corpus_tfidf.vocabulary_.items())\n",
    "full_lda_tfidf = models.LdaModel(corpus=full_corpus_tfidf, num_topics=10, id2word=full_id2word)\n",
    "\n",
    "full_lda_tfidf.print_topics()"
   ]
  },
  {
   "cell_type": "code",
   "execution_count": 23,
   "id": "1b0c40ba-4bf2-490c-af46-e03348d5b111",
   "metadata": {},
   "outputs": [
    {
     "data": {
      "text/plain": [
       "LatentDirichletAllocation(random_state=0)"
      ]
     },
     "execution_count": 23,
     "metadata": {},
     "output_type": "execute_result"
    }
   ],
   "source": [
    "# assign a n_components val\n",
    "lda_n_compnents = 10\n",
    "# assign LDA\n",
    "lda = LatentDirichletAllocation(n_components=lda_n_compnents, learning_method='batch', random_state=0) # assign batch for quicker calculation\n",
    "lda.fit(cfx2)"
   ]
  },
  {
   "cell_type": "code",
   "execution_count": 24,
   "id": "7563955f-e596-451f-a611-18a32fbbde40",
   "metadata": {},
   "outputs": [],
   "source": [
    "# create the text topic matrix from the word matrix\n",
    "lda_text_topic_matrix = lda.transform(cfx2)"
   ]
  },
  {
   "cell_type": "code",
   "execution_count": 25,
   "id": "099c3911-4a31-4e49-a8ec-74a7e741d36c",
   "metadata": {},
   "outputs": [
    {
     "data": {
      "text/html": [
       "<div>\n",
       "<style scoped>\n",
       "    .dataframe tbody tr th:only-of-type {\n",
       "        vertical-align: middle;\n",
       "    }\n",
       "\n",
       "    .dataframe tbody tr th {\n",
       "        vertical-align: top;\n",
       "    }\n",
       "\n",
       "    .dataframe thead th {\n",
       "        text-align: right;\n",
       "    }\n",
       "</style>\n",
       "<table border=\"1\" class=\"dataframe\">\n",
       "  <thead>\n",
       "    <tr style=\"text-align: right;\">\n",
       "      <th></th>\n",
       "      <th>topic_0</th>\n",
       "      <th>topic_1</th>\n",
       "      <th>topic_2</th>\n",
       "      <th>topic_3</th>\n",
       "      <th>topic_4</th>\n",
       "      <th>topic_5</th>\n",
       "      <th>topic_6</th>\n",
       "      <th>topic_7</th>\n",
       "      <th>topic_8</th>\n",
       "      <th>topic_9</th>\n",
       "    </tr>\n",
       "  </thead>\n",
       "  <tbody>\n",
       "    <tr>\n",
       "      <th>access</th>\n",
       "      <td>0.284158</td>\n",
       "      <td>0.100004</td>\n",
       "      <td>25.975416</td>\n",
       "      <td>0.100000</td>\n",
       "      <td>0.100003</td>\n",
       "      <td>0.100004</td>\n",
       "      <td>0.327381</td>\n",
       "      <td>0.100001</td>\n",
       "      <td>3.778958</td>\n",
       "      <td>5.449082</td>\n",
       "    </tr>\n",
       "    <tr>\n",
       "      <th>accordance</th>\n",
       "      <td>6.138629</td>\n",
       "      <td>21.598522</td>\n",
       "      <td>1.847606</td>\n",
       "      <td>0.100001</td>\n",
       "      <td>0.100001</td>\n",
       "      <td>18.367287</td>\n",
       "      <td>0.100001</td>\n",
       "      <td>0.100005</td>\n",
       "      <td>0.631987</td>\n",
       "      <td>26.991224</td>\n",
       "    </tr>\n",
       "    <tr>\n",
       "      <th>according</th>\n",
       "      <td>0.793253</td>\n",
       "      <td>0.100043</td>\n",
       "      <td>6.104981</td>\n",
       "      <td>0.100001</td>\n",
       "      <td>0.100001</td>\n",
       "      <td>0.644535</td>\n",
       "      <td>0.100002</td>\n",
       "      <td>0.100002</td>\n",
       "      <td>5.236193</td>\n",
       "      <td>2.428539</td>\n",
       "    </tr>\n",
       "    <tr>\n",
       "      <th>account</th>\n",
       "      <td>2.508480</td>\n",
       "      <td>2.156232</td>\n",
       "      <td>3.241841</td>\n",
       "      <td>84.352282</td>\n",
       "      <td>160.670355</td>\n",
       "      <td>0.100020</td>\n",
       "      <td>21.215677</td>\n",
       "      <td>33.012486</td>\n",
       "      <td>2.086593</td>\n",
       "      <td>13.249910</td>\n",
       "    </tr>\n",
       "    <tr>\n",
       "      <th>account expiry</th>\n",
       "      <td>0.100000</td>\n",
       "      <td>0.100000</td>\n",
       "      <td>0.100000</td>\n",
       "      <td>61.606725</td>\n",
       "      <td>64.926920</td>\n",
       "      <td>0.100000</td>\n",
       "      <td>0.100000</td>\n",
       "      <td>0.100003</td>\n",
       "      <td>0.100000</td>\n",
       "      <td>0.100000</td>\n",
       "    </tr>\n",
       "  </tbody>\n",
       "</table>\n",
       "</div>"
      ],
      "text/plain": [
       "                 topic_0    topic_1    topic_2    topic_3     topic_4  \\\n",
       "access          0.284158   0.100004  25.975416   0.100000    0.100003   \n",
       "accordance      6.138629  21.598522   1.847606   0.100001    0.100001   \n",
       "according       0.793253   0.100043   6.104981   0.100001    0.100001   \n",
       "account         2.508480   2.156232   3.241841  84.352282  160.670355   \n",
       "account expiry  0.100000   0.100000   0.100000  61.606725   64.926920   \n",
       "\n",
       "                  topic_5    topic_6    topic_7   topic_8    topic_9  \n",
       "access           0.100004   0.327381   0.100001  3.778958   5.449082  \n",
       "accordance      18.367287   0.100001   0.100005  0.631987  26.991224  \n",
       "according        0.644535   0.100002   0.100002  5.236193   2.428539  \n",
       "account          0.100020  21.215677  33.012486  2.086593  13.249910  \n",
       "account expiry   0.100000   0.100000   0.100003  0.100000   0.100000  "
      ]
     },
     "execution_count": 25,
     "metadata": {},
     "output_type": "execute_result"
    }
   ],
   "source": [
    "# create a dataframe of the word topic matrix\n",
    "count_vocab = corpus_tfidf.get_feature_names_out()\n",
    "lda_word_topic_matrix_df = pd.DataFrame(lda.components_, columns=count_vocab).T.add_prefix('topic_')\n",
    "lda_word_topic_matrix_df.head()"
   ]
  },
  {
   "cell_type": "code",
   "execution_count": 26,
   "id": "ffb5b401-8640-429d-99e5-89e6f13ecc43",
   "metadata": {},
   "outputs": [
    {
     "name": "stdout",
     "output_type": "stream",
     "text": [
      "0\n",
      "[1.02130349e+02 1.06020634e-01 6.46855375e+00 1.00000514e-01\n",
      " 1.00006003e-01 1.00012587e-01 1.00014337e-01 1.00000113e-01\n",
      " 5.94287573e+00 2.32995343e+00]\n",
      "\n",
      "[97.92300727  0.10000191  4.2674594   0.10000048  0.53404805  0.10001101\n",
      "  0.10000176  0.10000006  0.10000219  3.51474218]\n",
      "\n",
      "[82.53478339  0.1001867   5.77899718  9.09256035  0.10000137  0.10012343\n",
      "  0.1000958   0.10000126  0.83333422  5.18279745]\n",
      "\n",
      "[70.69931481  6.68720479 58.51135353  0.10000249  0.10000286  0.48103118\n",
      " 18.42380355  0.10000042  3.26893978  4.84111293]\n",
      "\n",
      "[57.35959606  2.37565566  1.75569744  0.10000001  0.10000038  4.54970677\n",
      "  0.87845765  0.10000786 14.30684499  1.03080297]\n",
      "\n",
      "...................................\n",
      "1\n",
      "[5.07517818e+00 6.12449362e+02 4.99854247e+00 1.00001020e-01\n",
      " 1.36789037e+01 1.55746014e+01 1.00001805e-01 1.00003769e-01\n",
      " 1.34871953e-01 4.71767837e+01]\n",
      "\n",
      "[ 0.10000272 65.39014855  8.83649751  0.10000006 11.92482538  8.55687643\n",
      "  1.44009333  0.10000041 21.72120745 71.85267049]\n",
      "\n",
      "[ 0.10000248 63.08135085  8.79389319  0.10000006 12.25625456  5.71316389\n",
      "  0.10002745  0.10000051 15.04564453 60.81870731]\n",
      "\n",
      "[ 1.49687196 62.82719843 10.07633748  0.10000033 11.90652448  5.93096729\n",
      "  0.10009279  4.68064943 16.80682167 65.21451403]\n",
      "\n",
      "[ 0.10017475 40.89206694  0.78440517  0.10000391  0.10001075  0.10000482\n",
      "  0.10000001  0.10000001  0.10000827  8.02975792]\n",
      "\n",
      "...................................\n",
      "2\n",
      "[1.22923018e-01 1.05899288e+01 1.62182869e+02 1.00001146e-01\n",
      " 1.00010805e-01 1.58042845e+00 1.18847656e+02 1.00000506e-01\n",
      " 1.16898785e+02 5.49319683e+01]\n",
      "\n",
      "[1.50086840e+01 1.00004680e-01 1.24214173e+02 1.00003586e-01\n",
      " 1.00019929e-01 1.00002076e-01 4.02185655e+01 1.89803943e+01\n",
      " 3.16182416e+00 8.49298017e+00]\n",
      "\n",
      "[1.00001848e-01 1.00004511e-01 1.16950955e+02 1.00004195e-01\n",
      " 1.00007038e-01 1.00000022e-01 7.44942875e+00 1.00000674e-01\n",
      " 3.57530564e+00 8.05386682e+00]\n",
      "\n",
      "[1.00015403e-01 1.00004441e-01 1.11874381e+02 1.00004466e-01\n",
      " 1.00006847e-01 1.00000023e-01 5.34586747e+00 1.00000698e-01\n",
      " 1.00149770e-01 8.67737081e+00]\n",
      "\n",
      "[ 7.96446696 10.81990178 83.52817988  0.10000009  0.10000679  0.10001616\n",
      " 62.14185197  5.07755256 58.98423379 14.33555915]\n",
      "\n",
      "...................................\n",
      "3\n",
      "[1.95576388e+00 1.00001182e-01 6.42416874e-01 2.51545006e+02\n",
      " 1.00020441e-01 1.00001288e-01 1.00003978e-01 1.00001803e-01\n",
      " 1.00019415e-01 1.00052817e-01]\n",
      "\n",
      "[1.00036353e-01 1.00020108e-01 6.39126098e-01 1.85941937e+02\n",
      " 1.00006670e-01 1.61374981e+00 1.00000258e-01 1.00004647e-01\n",
      " 1.00038332e-01 5.21707100e+00]\n",
      "\n",
      "[8.63017907e+00 1.00011222e-01 2.84031594e+00 1.66900736e+02\n",
      " 1.00007576e-01 3.69283233e-01 1.00018125e-01 1.00001625e-01\n",
      " 5.61338819e+00 2.33188646e+01]\n",
      "\n",
      "[ 0.10004857  0.1000006   2.4531317  96.78754685  0.20740936  0.10015749\n",
      "  0.10002115  0.1000006   0.10011103 15.06583673]\n",
      "\n",
      "[ 0.10002853  0.1         0.10001317 89.39831525  0.10000032  0.10000011\n",
      " 23.83706425  0.10000206  0.1         0.1001197 ]\n",
      "\n",
      "...................................\n",
      "4\n",
      "[1.00001155e-01 1.00049147e-01 1.00000000e-01 2.45250406e+01\n",
      " 1.95875856e+02 1.00014347e-01 5.95220360e-01 1.00012329e-01\n",
      " 1.00010155e-01 1.00000028e-01]\n",
      "\n",
      "[1.73077818e-01 1.00187466e+00 2.33632767e-01 2.35823653e+01\n",
      " 1.94119884e+02 1.00041860e-01 4.14342922e-01 3.54538024e+01\n",
      " 1.00038471e-01 1.00067034e-01]\n",
      "\n",
      "[2.50848019e+00 2.15623183e+00 3.24184150e+00 8.43522818e+01\n",
      " 1.60670355e+02 1.00019912e-01 2.12156772e+01 3.30124864e+01\n",
      " 2.08659323e+00 1.32499098e+01]\n",
      "\n",
      "[ 0.10000445  0.10000485  0.10000001  0.1        93.68738293  0.1\n",
      "  0.10000348  0.10000039  0.10000001  0.10001102]\n",
      "\n",
      "[ 2.29378976  0.10001147  0.34336845  0.10000682 77.39233938  0.10000342\n",
      "  0.6697267   0.10000009  0.10000275 10.40176002]\n",
      "\n",
      "...................................\n"
     ]
    }
   ],
   "source": [
    "# check the top text in each topic for the model; provided by Jason Palumbo\n",
    "for num in range(0,5):\n",
    "    topic = f'topic_{num}'\n",
    "    print(num)\n",
    "    for text in top_text(lda_word_topic_matrix_df, topic, 5):\n",
    "        print(text)\n",
    "        print()\n",
    "    print(\"...................................\")"
   ]
  },
  {
   "cell_type": "code",
   "execution_count": 27,
   "id": "10323cff-374b-43b9-9cc7-37f67ad598cb",
   "metadata": {},
   "outputs": [
    {
     "data": {
      "text/html": [
       "<div>\n",
       "<style scoped>\n",
       "    .dataframe tbody tr th:only-of-type {\n",
       "        vertical-align: middle;\n",
       "    }\n",
       "\n",
       "    .dataframe tbody tr th {\n",
       "        vertical-align: top;\n",
       "    }\n",
       "\n",
       "    .dataframe thead th {\n",
       "        text-align: right;\n",
       "    }\n",
       "</style>\n",
       "<table border=\"1\" class=\"dataframe\">\n",
       "  <thead>\n",
       "    <tr style=\"text-align: right;\">\n",
       "      <th></th>\n",
       "      <th>access</th>\n",
       "      <th>accordance</th>\n",
       "      <th>according</th>\n",
       "      <th>account</th>\n",
       "      <th>account expiry</th>\n",
       "      <th>account non</th>\n",
       "      <th>account non certification</th>\n",
       "      <th>account reversal</th>\n",
       "      <th>account reversal storage</th>\n",
       "      <th>account type</th>\n",
       "      <th>...</th>\n",
       "      <th>working</th>\n",
       "      <th>working group</th>\n",
       "      <th>workplan</th>\n",
       "      <th>workshop</th>\n",
       "      <th>workshops</th>\n",
       "      <th>world</th>\n",
       "      <th>year</th>\n",
       "      <th>years</th>\n",
       "      <th>youth</th>\n",
       "      <th>zero</th>\n",
       "    </tr>\n",
       "  </thead>\n",
       "  <tbody>\n",
       "    <tr>\n",
       "      <th>0</th>\n",
       "      <td>0.0</td>\n",
       "      <td>0.0</td>\n",
       "      <td>0.0</td>\n",
       "      <td>0.0</td>\n",
       "      <td>0.0</td>\n",
       "      <td>0.0</td>\n",
       "      <td>0.0</td>\n",
       "      <td>0.0</td>\n",
       "      <td>0.0</td>\n",
       "      <td>0.0</td>\n",
       "      <td>...</td>\n",
       "      <td>0.00000</td>\n",
       "      <td>0.0</td>\n",
       "      <td>0.0</td>\n",
       "      <td>0.0</td>\n",
       "      <td>0.0</td>\n",
       "      <td>0.0</td>\n",
       "      <td>0.0</td>\n",
       "      <td>0.0</td>\n",
       "      <td>0.0</td>\n",
       "      <td>0.0</td>\n",
       "    </tr>\n",
       "    <tr>\n",
       "      <th>1</th>\n",
       "      <td>0.0</td>\n",
       "      <td>0.0</td>\n",
       "      <td>0.0</td>\n",
       "      <td>0.0</td>\n",
       "      <td>0.0</td>\n",
       "      <td>0.0</td>\n",
       "      <td>0.0</td>\n",
       "      <td>0.0</td>\n",
       "      <td>0.0</td>\n",
       "      <td>0.0</td>\n",
       "      <td>...</td>\n",
       "      <td>0.00000</td>\n",
       "      <td>0.0</td>\n",
       "      <td>0.0</td>\n",
       "      <td>0.0</td>\n",
       "      <td>0.0</td>\n",
       "      <td>0.0</td>\n",
       "      <td>0.0</td>\n",
       "      <td>0.0</td>\n",
       "      <td>0.0</td>\n",
       "      <td>0.0</td>\n",
       "    </tr>\n",
       "    <tr>\n",
       "      <th>2</th>\n",
       "      <td>0.0</td>\n",
       "      <td>0.0</td>\n",
       "      <td>0.0</td>\n",
       "      <td>0.0</td>\n",
       "      <td>0.0</td>\n",
       "      <td>0.0</td>\n",
       "      <td>0.0</td>\n",
       "      <td>0.0</td>\n",
       "      <td>0.0</td>\n",
       "      <td>0.0</td>\n",
       "      <td>...</td>\n",
       "      <td>0.00000</td>\n",
       "      <td>0.0</td>\n",
       "      <td>0.0</td>\n",
       "      <td>0.0</td>\n",
       "      <td>0.0</td>\n",
       "      <td>0.0</td>\n",
       "      <td>0.0</td>\n",
       "      <td>0.0</td>\n",
       "      <td>0.0</td>\n",
       "      <td>0.0</td>\n",
       "    </tr>\n",
       "    <tr>\n",
       "      <th>3</th>\n",
       "      <td>0.0</td>\n",
       "      <td>0.0</td>\n",
       "      <td>0.0</td>\n",
       "      <td>0.0</td>\n",
       "      <td>0.0</td>\n",
       "      <td>0.0</td>\n",
       "      <td>0.0</td>\n",
       "      <td>0.0</td>\n",
       "      <td>0.0</td>\n",
       "      <td>0.0</td>\n",
       "      <td>...</td>\n",
       "      <td>0.44084</td>\n",
       "      <td>0.0</td>\n",
       "      <td>0.0</td>\n",
       "      <td>0.0</td>\n",
       "      <td>0.0</td>\n",
       "      <td>0.0</td>\n",
       "      <td>0.0</td>\n",
       "      <td>0.0</td>\n",
       "      <td>0.0</td>\n",
       "      <td>0.0</td>\n",
       "    </tr>\n",
       "    <tr>\n",
       "      <th>4</th>\n",
       "      <td>0.0</td>\n",
       "      <td>0.0</td>\n",
       "      <td>0.0</td>\n",
       "      <td>0.0</td>\n",
       "      <td>0.0</td>\n",
       "      <td>0.0</td>\n",
       "      <td>0.0</td>\n",
       "      <td>0.0</td>\n",
       "      <td>0.0</td>\n",
       "      <td>0.0</td>\n",
       "      <td>...</td>\n",
       "      <td>0.00000</td>\n",
       "      <td>0.0</td>\n",
       "      <td>0.0</td>\n",
       "      <td>0.0</td>\n",
       "      <td>0.0</td>\n",
       "      <td>0.0</td>\n",
       "      <td>0.0</td>\n",
       "      <td>0.0</td>\n",
       "      <td>0.0</td>\n",
       "      <td>0.0</td>\n",
       "    </tr>\n",
       "  </tbody>\n",
       "</table>\n",
       "<p>5 rows × 908 columns</p>\n",
       "</div>"
      ],
      "text/plain": [
       "   access  accordance  according  account  account expiry  account non  \\\n",
       "0     0.0         0.0        0.0      0.0             0.0          0.0   \n",
       "1     0.0         0.0        0.0      0.0             0.0          0.0   \n",
       "2     0.0         0.0        0.0      0.0             0.0          0.0   \n",
       "3     0.0         0.0        0.0      0.0             0.0          0.0   \n",
       "4     0.0         0.0        0.0      0.0             0.0          0.0   \n",
       "\n",
       "   account non certification  account reversal  account reversal storage  \\\n",
       "0                        0.0               0.0                       0.0   \n",
       "1                        0.0               0.0                       0.0   \n",
       "2                        0.0               0.0                       0.0   \n",
       "3                        0.0               0.0                       0.0   \n",
       "4                        0.0               0.0                       0.0   \n",
       "\n",
       "   account type  ...  working  working group  workplan  workshop  workshops  \\\n",
       "0           0.0  ...  0.00000            0.0       0.0       0.0        0.0   \n",
       "1           0.0  ...  0.00000            0.0       0.0       0.0        0.0   \n",
       "2           0.0  ...  0.00000            0.0       0.0       0.0        0.0   \n",
       "3           0.0  ...  0.44084            0.0       0.0       0.0        0.0   \n",
       "4           0.0  ...  0.00000            0.0       0.0       0.0        0.0   \n",
       "\n",
       "   world  year  years  youth  zero  \n",
       "0    0.0   0.0    0.0    0.0   0.0  \n",
       "1    0.0   0.0    0.0    0.0   0.0  \n",
       "2    0.0   0.0    0.0    0.0   0.0  \n",
       "3    0.0   0.0    0.0    0.0   0.0  \n",
       "4    0.0   0.0    0.0    0.0   0.0  \n",
       "\n",
       "[5 rows x 908 columns]"
      ]
     },
     "execution_count": 27,
     "metadata": {},
     "output_type": "execute_result"
    }
   ],
   "source": [
    "#corpus_cvdf.head()\n",
    "corpus_tfidf_df.head()"
   ]
  },
  {
   "cell_type": "code",
   "execution_count": 28,
   "id": "f949f928-655f-461d-af63-b55b7cd00c73",
   "metadata": {},
   "outputs": [],
   "source": [
    "#top_topics = top_text(corpus_tfidf_df, climate, 5)"
   ]
  },
  {
   "cell_type": "code",
   "execution_count": 29,
   "id": "d9fda2e2-3ae4-4247-9efd-f8226217a3eb",
   "metadata": {},
   "outputs": [],
   "source": [
    "# CorEx w/ Tfidf\n",
    "\n",
    "words = corpus_tfidf.vocabulary_\n",
    "\n",
    "topic_model = ct.Corex(n_hidden=10, words=words)\n",
    "\n",
    "topic_model.fit(cfx2, words=words)\n",
    "\n",
    "unanchored_topics = topic_model.get_topics()"
   ]
  },
  {
   "cell_type": "code",
   "execution_count": 30,
   "id": "89c13139-ceb5-4629-8220-ffa90364c3d0",
   "metadata": {},
   "outputs": [
    {
     "data": {
      "text/plain": [
       "[[('area', 0.02476660245158014, 1.0),\n",
       "  ('women', 0.017982718214092593, -1.0),\n",
       "  ('island', 0.013080463424751028, 1.0),\n",
       "  ('technology', 0.012608530427207174, 1.0),\n",
       "  ('project', 0.011744849894256216, 1.0),\n",
       "  ('decided', 0.011546791382724228, 1.0),\n",
       "  ('cancellation', 0.010933543652406069, 1.0),\n",
       "  ('submitted', 0.009256381537714862, 1.0),\n",
       "  ('facilitate', 0.009104824810837362, 1.0),\n",
       "  ('glasgow', 0.00905065881386853, 1.0)],\n",
       " [('level', 0.05164694469007524, 1.0),\n",
       "  ('uk', 0.042693178156470904, 1.0),\n",
       "  ('session', 0.03724476220261733, 1.0),\n",
       "  ('statement', 0.024275016184871472, 1.0),\n",
       "  ('long term', 0.024055425751291246, 1.0),\n",
       "  ('groups', 0.021512311840455354, 1.0),\n",
       "  ('response measures', 0.020823211176494612, 1.0),\n",
       "  ('efforts', 0.013969611580984422, 1.0),\n",
       "  ('damage associated', 0.013245680827025126, 1.0),\n",
       "  ('modalities procedures', 0.012880383884527093, 1.0)],\n",
       " [('systems', 0.024508682298262637, 1.0),\n",
       "  ('build', 0.014011643206920527, 1.0),\n",
       "  ('implement', 0.010889470624474719, 1.0),\n",
       "  ('technologies', 0.009964535437452805, 1.0),\n",
       "  ('individual', 0.008867868002218034, 1.0),\n",
       "  ('association', 0.008746903467044759, 1.0),\n",
       "  ('capacity building', 0.008727985456023933, 1.0),\n",
       "  ('respective', 0.008204271651364253, 1.0),\n",
       "  ('type erus', 0.0073500187236290445, 1.0),\n",
       "  ('coordination', 0.007223948377154001, 1.0)],\n",
       " [('forward', 0.017801414613305026, 1.0),\n",
       "  ('sessions', 0.017043834508278753, 1.0),\n",
       "  ('commitment', 0.014981920179197698, 1.0),\n",
       "  ('technological', 0.01415907227356857, 1.0),\n",
       "  ('best', 0.014144653708333262, 1.0),\n",
       "  ('pa', 0.013168284304994506, 1.0),\n",
       "  ('strengthening', 0.009206440480007495, 1.0),\n",
       "  ('enhanced', 0.009145344171282965, 1.0),\n",
       "  ('institutions', 0.009132646317768627, 1.0),\n",
       "  ('ndc', 0.009115982718069465, 1.0)],\n",
       " [('naps', 0.009786636900277755, 1.0),\n",
       "  ('greenhouse', 0.007873863768894663, 1.0),\n",
       "  ('noted', 0.007815581212074528, 1.0),\n",
       "  ('climate fund', 0.007685054737200758, 1.0),\n",
       "  ('innovation', 0.005980202721809605, 1.0),\n",
       "  ('executive director', 0.005681557946170024, 1.0),\n",
       "  ('developed countries', 0.004582025368249232, 1.0),\n",
       "  ('associated', 0.004562046779901358, 1.0),\n",
       "  ('based', 0.004324112288662032, 1.0),\n",
       "  ('guidelines', 0.004258968741146175, 1.0)],\n",
       " [('damage', 0.02336094119856833, 1.0),\n",
       "  ('reversal', 0.019576244536344094, 1.0),\n",
       "  ('loss', 0.01897110684026424, 1.0),\n",
       "  ('agencies', 0.0187568171723197, 1.0),\n",
       "  ('includes', 0.017303750160400738, 1.0),\n",
       "  ('source', 0.014522570944488193, 1.0)],\n",
       " [('erus', 0.0011568402496704524, 1.0),\n",
       "  ('regard', 0.001098564132272098, 1.0),\n",
       "  ('division', 0.0008274405425642411, 1.0)],\n",
       " [],\n",
       " [],\n",
       " []]"
      ]
     },
     "execution_count": 30,
     "metadata": {},
     "output_type": "execute_result"
    }
   ],
   "source": [
    "unanchored_topics"
   ]
  },
  {
   "cell_type": "code",
   "execution_count": 31,
   "id": "93e23dec-0ea0-42fe-9e33-fdf60f062f68",
   "metadata": {},
   "outputs": [
    {
     "name": "stdout",
     "output_type": "stream",
     "text": [
      "WARNING: Anchor word not in word column labels provided to CorEx: conserve\n",
      "WARNING: Anchor word not in word column labels provided to CorEx: farm\n",
      "WARNING: Anchor word not in word column labels provided to CorEx: invest\n",
      "WARNING: Anchor word not in word column labels provided to CorEx: transportation\n",
      "WARNING: Anchor word not in word column labels provided to CorEx: ocean\n",
      "WARNING: Anchor word not in word column labels provided to CorEx: waste\n",
      "WARNING: Anchor word not in word column labels provided to CorEx: pay\n",
      "WARNING: Anchor word not in word column labels provided to CorEx: pollution\n",
      "WARNING: Anchor word not in word column labels provided to CorEx: cities\n",
      "WARNING: Anchor word not in word column labels provided to CorEx: burning\n",
      "WARNING: Anchor word not in word column labels provided to CorEx: pollute\n",
      "WARNING: Anchor word not in word column labels provided to CorEx: require\n",
      "WARNING: Anchor word not in word column labels provided to CorEx: plant-based\n"
     ]
    }
   ],
   "source": [
    "# Use anchor words from People's Climate vote\n",
    "\n",
    "anchors = ['conserve','land','forest','renewable','farm','invest','green','clean','transportation',\n",
    "           'ocean','conservation','nature','disaster','waste','food','reduce','pay','pollution',\n",
    "          'energy','planning','design','cities','burning','pollute','indigenous','women','require',\n",
    "           'plant-based']\n",
    "\n",
    "topic_model.fit(cfx2, words=words, anchors=[anchors], anchor_strength=5)\n",
    "\n",
    "anchored_topics = topic_model.get_topics()"
   ]
  },
  {
   "cell_type": "code",
   "execution_count": 32,
   "id": "59b9d083-558d-41a1-bb81-e155e322b497",
   "metadata": {},
   "outputs": [
    {
     "data": {
      "text/plain": [
       "[[('women', 0.9408841006873497, 1.0),\n",
       "  ('land', 0.0012588831402733584, -1.0),\n",
       "  ('planning', 0.00089464677323746, -1.0),\n",
       "  ('green', 0.0007487672436604373, -1.0),\n",
       "  ('renewable', 0.0005016266521051397, -1.0),\n",
       "  ('centre', 0.00022958429905673444, -1.0),\n",
       "  ('design', 0.00016437529164078484, -1.0),\n",
       "  ('forest', 0.00015842056055889638, -1.0),\n",
       "  ('indigenous', 0.0001543822384696422, -1.0),\n",
       "  ('energy', 0.00013632063749067445, -1.0)],\n",
       " [('area', 0.026780648019089772, 1.0),\n",
       "  ('technology', 0.013719564243464759, 1.0),\n",
       "  ('island', 0.013061707896559409, 1.0),\n",
       "  ('project', 0.012825703808899639, 1.0),\n",
       "  ('submitted', 0.011280194849324984, 1.0),\n",
       "  ('decided', 0.010999642757236966, 1.0),\n",
       "  ('process', 0.010624427152807732, 1.0),\n",
       "  ('cancellation', 0.010057819492287864, 1.0),\n",
       "  ('vulnerability', 0.009842418957552286, 1.0),\n",
       "  ('facilitate', 0.009649478282600876, 1.0)],\n",
       " [('agencies', 0.00795294268635285, 1.0),\n",
       "  ('includes', 0.007346160513144162, 1.0),\n",
       "  ('source', 0.006207841523003064, 1.0)],\n",
       " [('damage', 0.014755713526477655, 1.0),\n",
       "  ('reversal', 0.013495140295142285, 1.0),\n",
       "  ('loss', 0.011637194268095468, 1.0)],\n",
       " [],\n",
       " [],\n",
       " [],\n",
       " [],\n",
       " [('general', 0.017207530831310755, 1.0),\n",
       "  ('high level', 0.017207530831310755, 1.0),\n",
       "  ('small', 0.017207530831310755, 1.0),\n",
       "  ('sixth session', 0.017207530831310755, 1.0),\n",
       "  ('kyoto protocol', 0.017207530831310755, 1.0),\n",
       "  ('relevant', 0.01612841902863752, 1.0),\n",
       "  ('protocol', 0.0071469323787063934, 1.0),\n",
       "  ('groups', 0.003924417611042292, 1.0),\n",
       "  ('response measures', 0.003856670227926093, 1.0)],\n",
       " [('strengthening', 0.011146639284626355, 1.0),\n",
       "  ('institutions', 0.010958558907930072, 1.0),\n",
       "  ('technological', 0.010154129625039534, 1.0),\n",
       "  ('best', 0.01005640793545932, 1.0),\n",
       "  ('pa', 0.009464947044037572, 1.0),\n",
       "  ('ndc', 0.008908046261416046, 1.0),\n",
       "  ('account', 0.00831028414628759, 1.0),\n",
       "  ('consider', 0.008292680091156742, 1.0),\n",
       "  ('serving', 0.008264620393790128, 1.0),\n",
       "  ('tcer', 0.008199929379457443, 1.0)]]"
      ]
     },
     "execution_count": 32,
     "metadata": {},
     "output_type": "execute_result"
    }
   ],
   "source": [
    "len(anchors)\n",
    "anchored_topics"
   ]
  },
  {
   "cell_type": "code",
   "execution_count": 33,
   "id": "e04c7887-1011-4fd9-b015-b9e6f4b8a8fe",
   "metadata": {},
   "outputs": [
    {
     "name": "stderr",
     "output_type": "stream",
     "text": [
      "PdfReadWarning: Xref table not zero-indexed. ID numbers for objects will be corrected. [pdf.py:1736]\n"
     ]
    },
    {
     "name": "stdout",
     "output_type": "stream",
     "text": [
      "This document will be parsed into a list with 68 elements.\n"
     ]
    }
   ],
   "source": [
    "# I want to use scatter text to compare the text of the corpus to the People's Climate Vote directly (using Scattertext)\n",
    "\n",
    "# parse the raw text of \n",
    "\n",
    "#read in People's Climate Vote pdf\n",
    "pcv_path = '/home/mattiboi/Desktop/Data Science/Metis/Unsupervised Learning/project/UNDP-Oxford-Peoples-Climate-Vote-Results.pdf'\n",
    "\n",
    "#connect the reader to the file\n",
    "fileReader = PyPDF2.PdfFileReader(open(pcv_path, 'rb'))\n",
    "\n",
    "#initialize page counter\n",
    "count = 0\n",
    "count = fileReader.numPages - 1\n",
    "\n",
    "pcv_text = []\n",
    "\n",
    "print(f'This document will be parsed into a list with {count+1} elements.')\n",
    "#print text in the pdf\n",
    "while count >= 0:\n",
    "    count -= 1\n",
    "    pageObj = fileReader.getPage(count)\n",
    "    text = pageObj.extractText()\n",
    "    text = text.replace('\\n','')\n",
    "\n",
    "    pcv_text.append(text)\n"
   ]
  },
  {
   "cell_type": "code",
   "execution_count": 34,
   "id": "b788f955-2ad8-44fd-8d24-337af8c5228d",
   "metadata": {},
   "outputs": [],
   "source": [
    "def HLS_processor(speeches):\n",
    "    cleaned_up = []\n",
    "    \n",
    "    for i in range(len(speeches)):\n",
    "        interim = speeches[i].split('\\n \\n \\n')\n",
    "        for _ in interim:\n",
    "            cleaned_up.append(_.replace('\\n', ''))\n",
    "    \n",
    "    return cleaned_up"
   ]
  },
  {
   "cell_type": "code",
   "execution_count": 35,
   "id": "227e5b52-12f6-46c2-89d1-c172947af4e6",
   "metadata": {},
   "outputs": [],
   "source": [
    "pcv_text_clean = HLS_processor(pcv_text)"
   ]
  },
  {
   "cell_type": "code",
   "execution_count": 36,
   "id": "9700724a-13c7-4c54-ad71-baa396e0fa5f",
   "metadata": {},
   "outputs": [],
   "source": [
    "#pcv_text_clean[:5]"
   ]
  },
  {
   "cell_type": "code",
   "execution_count": 37,
   "id": "4710bcac-655c-474b-b24f-205e3560ca15",
   "metadata": {},
   "outputs": [],
   "source": [
    "st_compare = full_tokens.copy()\n",
    "st_compare = st_compare + pcv_text_clean"
   ]
  },
  {
   "cell_type": "code",
   "execution_count": 38,
   "id": "406422a1-101c-40d1-abc2-59d2aeab14ce",
   "metadata": {},
   "outputs": [
    {
     "data": {
      "text/plain": [
       "23025"
      ]
     },
     "execution_count": 38,
     "metadata": {},
     "output_type": "execute_result"
    }
   ],
   "source": [
    "len(st_compare)"
   ]
  },
  {
   "cell_type": "code",
   "execution_count": 39,
   "id": "a63b20ca-3507-4887-8877-478f0f9ef746",
   "metadata": {},
   "outputs": [
    {
     "data": {
      "text/plain": [
       "22957"
      ]
     },
     "execution_count": 39,
     "metadata": {},
     "output_type": "execute_result"
    }
   ],
   "source": [
    "len(full_tokens)"
   ]
  },
  {
   "cell_type": "code",
   "execution_count": 40,
   "id": "92049e1e-4765-4120-8819-c867d9a902e7",
   "metadata": {},
   "outputs": [
    {
     "data": {
      "text/plain": [
       "68"
      ]
     },
     "execution_count": 40,
     "metadata": {},
     "output_type": "execute_result"
    }
   ],
   "source": [
    "len(pcv_text_clean)"
   ]
  },
  {
   "cell_type": "code",
   "execution_count": 41,
   "id": "ddc5cf18-71b1-4453-9473-6a0d537e52da",
   "metadata": {},
   "outputs": [],
   "source": [
    "comparison_df = pd.DataFrame(st_compare, columns=['document'])"
   ]
  },
  {
   "cell_type": "code",
   "execution_count": 42,
   "id": "d3a12312-1c50-49f8-8ebd-131d603b041a",
   "metadata": {},
   "outputs": [
    {
     "data": {
      "text/plain": [
       "document    PACIFIC ISLANDS FORUM \n",
       "Name: 0, dtype: object"
      ]
     },
     "execution_count": 42,
     "metadata": {},
     "output_type": "execute_result"
    }
   ],
   "source": [
    "comparison_df.iloc[0]"
   ]
  },
  {
   "cell_type": "code",
   "execution_count": 43,
   "id": "d7c74dd8-eb88-4856-b89e-6b711f0c251a",
   "metadata": {},
   "outputs": [],
   "source": [
    "#comparison_df['index'] = range(len(comparison_df))\n",
    "comparison_df['source'] = ''\n",
    "\n",
    "for i in range(len(st_compare)):\n",
    "    if i < len(full_tokens):\n",
    "        comparison_df['source'].iloc[i] = 'COP26'\n",
    "    elif i >= len(full_tokens):\n",
    "        comparison_df['source'].iloc[i] = 'PCV'"
   ]
  },
  {
   "cell_type": "code",
   "execution_count": 44,
   "id": "1f334436-e2dc-4beb-8a74-4636835a7e51",
   "metadata": {},
   "outputs": [
    {
     "data": {
      "text/plain": [
       "'PACIFIC ISLANDS FORUM '"
      ]
     },
     "execution_count": 44,
     "metadata": {},
     "output_type": "execute_result"
    }
   ],
   "source": [
    "full_tokens[0]"
   ]
  },
  {
   "cell_type": "code",
   "execution_count": 45,
   "id": "72c344dc-f609-4cc9-baf7-e38c2e18132a",
   "metadata": {},
   "outputs": [
    {
     "data": {
      "text/html": [
       "<div>\n",
       "<style scoped>\n",
       "    .dataframe tbody tr th:only-of-type {\n",
       "        vertical-align: middle;\n",
       "    }\n",
       "\n",
       "    .dataframe tbody tr th {\n",
       "        vertical-align: top;\n",
       "    }\n",
       "\n",
       "    .dataframe thead th {\n",
       "        text-align: right;\n",
       "    }\n",
       "</style>\n",
       "<table border=\"1\" class=\"dataframe\">\n",
       "  <thead>\n",
       "    <tr style=\"text-align: right;\">\n",
       "      <th></th>\n",
       "      <th>document</th>\n",
       "      <th>source</th>\n",
       "    </tr>\n",
       "  </thead>\n",
       "  <tbody>\n",
       "    <tr>\n",
       "      <th>0</th>\n",
       "      <td>PACIFIC ISLANDS FORUM</td>\n",
       "      <td>COP26</td>\n",
       "    </tr>\n",
       "    <tr>\n",
       "      <th>1</th>\n",
       "      <td>UNFCCC COP 26 HIGH LEVEL SEGMENT Statement b...</td>\n",
       "      <td>COP26</td>\n",
       "    </tr>\n",
       "    <tr>\n",
       "      <th>2</th>\n",
       "      <td>Mr President,</td>\n",
       "      <td>COP26</td>\n",
       "    </tr>\n",
       "    <tr>\n",
       "      <th>3</th>\n",
       "      <td>As the Pacific Islands Forum, we are 18 count...</td>\n",
       "      <td>COP26</td>\n",
       "    </tr>\n",
       "    <tr>\n",
       "      <th>4</th>\n",
       "      <td>We are the Blue Pacific Continent. And we are ...</td>\n",
       "      <td>COP26</td>\n",
       "    </tr>\n",
       "    <tr>\n",
       "      <th>...</th>\n",
       "      <td>...</td>\n",
       "      <td>...</td>\n",
       "    </tr>\n",
       "    <tr>\n",
       "      <th>23019</th>\n",
       "      <td>5Figures Figure 1. Public Belief in the Climat...</td>\n",
       "      <td>PCV</td>\n",
       "    </tr>\n",
       "    <tr>\n",
       "      <th>23020</th>\n",
       "      <td>4Contents06 Executive Summary 10 Introduction1...</td>\n",
       "      <td>PCV</td>\n",
       "    </tr>\n",
       "    <tr>\n",
       "      <th>23021</th>\n",
       "      <td>ﬁThe survey brings the voice of the people to ...</td>\n",
       "      <td>PCV</td>\n",
       "    </tr>\n",
       "    <tr>\n",
       "      <th>23022</th>\n",
       "      <td>United Nations Development Programme (UNDP)  U...</td>\n",
       "      <td>PCV</td>\n",
       "    </tr>\n",
       "    <tr>\n",
       "      <th>23023</th>\n",
       "      <td>Peoples™ Climate VoteRESULTS</td>\n",
       "      <td>PCV</td>\n",
       "    </tr>\n",
       "  </tbody>\n",
       "</table>\n",
       "<p>23024 rows × 2 columns</p>\n",
       "</div>"
      ],
      "text/plain": [
       "                                                document source\n",
       "0                                 PACIFIC ISLANDS FORUM   COP26\n",
       "1        UNFCCC COP 26 HIGH LEVEL SEGMENT Statement b...  COP26\n",
       "2                                          Mr President,  COP26\n",
       "3       As the Pacific Islands Forum, we are 18 count...  COP26\n",
       "4      We are the Blue Pacific Continent. And we are ...  COP26\n",
       "...                                                  ...    ...\n",
       "23019  5Figures Figure 1. Public Belief in the Climat...    PCV\n",
       "23020  4Contents06 Executive Summary 10 Introduction1...    PCV\n",
       "23021  ﬁThe survey brings the voice of the people to ...    PCV\n",
       "23022  United Nations Development Programme (UNDP)  U...    PCV\n",
       "23023                       Peoples™ Climate VoteRESULTS    PCV\n",
       "\n",
       "[23024 rows x 2 columns]"
      ]
     },
     "execution_count": 45,
     "metadata": {},
     "output_type": "execute_result"
    }
   ],
   "source": [
    "comparison_df.head(-1)"
   ]
  },
  {
   "cell_type": "code",
   "execution_count": 46,
   "id": "9b247e2e-04dc-49c3-9f61-d601ee51ba3d",
   "metadata": {},
   "outputs": [
    {
     "data": {
      "text/plain": [
       "document    67Note that groups will have overlapping count...\n",
       "source                                                    PCV\n",
       "Name: 22957, dtype: object"
      ]
     },
     "execution_count": 46,
     "metadata": {},
     "output_type": "execute_result"
    }
   ],
   "source": [
    "comparison_df.iloc[-68]"
   ]
  },
  {
   "cell_type": "code",
   "execution_count": 47,
   "id": "0021f318-6df5-4003-8392-38fe01fc6f10",
   "metadata": {},
   "outputs": [
    {
     "data": {
      "text/plain": [
       "document     74  the AFB;15 general guidelines for committ...\n",
       "source                                                  COP26\n",
       "Name: 22956, dtype: object"
      ]
     },
     "execution_count": 47,
     "metadata": {},
     "output_type": "execute_result"
    }
   ],
   "source": [
    "comparison_df.iloc[-69]"
   ]
  },
  {
   "cell_type": "code",
   "execution_count": null,
   "id": "5f9e651a-5b79-4ba6-9d32-81d48549ad44",
   "metadata": {},
   "outputs": [],
   "source": []
  },
  {
   "cell_type": "code",
   "execution_count": 48,
   "id": "76dc5665-40f3-407e-8325-fc926ef86a15",
   "metadata": {},
   "outputs": [],
   "source": [
    "nlp = spacy.load('en_core_web_sm')"
   ]
  },
  {
   "cell_type": "code",
   "execution_count": 49,
   "id": "b7cad572-575a-498c-b280-8149011ec2f2",
   "metadata": {},
   "outputs": [],
   "source": [
    "#comparison_df['parsed'] = comparison_df.document.apply(nlp)"
   ]
  },
  {
   "cell_type": "code",
   "execution_count": 50,
   "id": "1fdbf2de-7bca-4fce-ae66-9518e243459d",
   "metadata": {},
   "outputs": [],
   "source": [
    "st_corpus = st.CorpusFromPandas(comparison_df, category_col='source', text_col='document').build() "
   ]
  },
  {
   "cell_type": "code",
   "execution_count": 51,
   "id": "928c4dd5-d0e9-405a-bcf7-3bdc1e3b870f",
   "metadata": {},
   "outputs": [
    {
     "data": {
      "text/plain": [
       "14485919"
      ]
     },
     "execution_count": 51,
     "metadata": {},
     "output_type": "execute_result"
    }
   ],
   "source": [
    "html_standardscale = st.produce_scattertext_explorer(st_corpus, \n",
    "                                       category='PCV', \n",
    "                                       category_name=\"People's Climate Vote\", \n",
    "                                       not_category_name='COP26', \n",
    "                                       width_in_pixels=1000,\n",
    "                                       minimum_term_frequency = 5)\n",
    "\n",
    "file_name = 'glasgow_comparison_standardscale.html'\n",
    "open(file_name, 'wb').write(html_standardscale.encode('utf-8'))"
   ]
  },
  {
   "cell_type": "code",
   "execution_count": 52,
   "id": "8d5dee98-7124-4f37-b69a-157f9f16fb9f",
   "metadata": {},
   "outputs": [
    {
     "data": {
      "text/plain": [
       "12569358"
      ]
     },
     "execution_count": 52,
     "metadata": {},
     "output_type": "execute_result"
    }
   ],
   "source": [
    "html_logscale = st.produce_scattertext_explorer(st_corpus, \n",
    "                                       category='PCV', \n",
    "                                       category_name=\"People's Climate Vote\", \n",
    "                                       not_category_name='COP26', \n",
    "                                       width_in_pixels=1000,\n",
    "                                       transform=st.Scalers.log_scale_standardize)\n",
    "\n",
    "file_name = 'glasgow_comparison_logscale.html'\n",
    "open(file_name, 'wb').write(html_logscale.encode('utf-8'))"
   ]
  },
  {
   "cell_type": "code",
   "execution_count": 53,
   "id": "fd6dfbba-f294-4998-ac7b-f060737a6110",
   "metadata": {},
   "outputs": [
    {
     "data": {
      "text/plain": [
       "12558702"
      ]
     },
     "execution_count": 53,
     "metadata": {},
     "output_type": "execute_result"
    }
   ],
   "source": [
    "html_percentile = st.produce_scattertext_explorer(st_corpus, \n",
    "                                       category='PCV', \n",
    "                                       category_name=\"People's Climate Vote\", \n",
    "                                       not_category_name='COP26', \n",
    "                                       width_in_pixels=1000,\n",
    "                                       transform=st.Scalers.percentile)\n",
    "\n",
    "file_name = 'glasgow_comparison_percentile.html'\n",
    "open(file_name, 'wb').write(html_percentile.encode('utf-8'))"
   ]
  },
  {
   "cell_type": "code",
   "execution_count": 54,
   "id": "e8dc78fd-e867-4323-9602-51a8f85fca98",
   "metadata": {},
   "outputs": [],
   "source": [
    "# PCA (n_comp = 3) on the whole UNFCCC corpus\n",
    "\n",
    "pca = PCA(n_components=3)\n",
    "pca_rotation = pca.fit_transform(corpus_tfidf_df)\n",
    "pca_df = pd.DataFrame(pca_rotation, columns=['pc1','pc2','pc3'])"
   ]
  },
  {
   "cell_type": "code",
   "execution_count": 55,
   "id": "fb84e0c6-7f68-45f4-889f-800f13f1e86d",
   "metadata": {},
   "outputs": [
    {
     "data": {
      "text/html": [
       "<div>\n",
       "<style scoped>\n",
       "    .dataframe tbody tr th:only-of-type {\n",
       "        vertical-align: middle;\n",
       "    }\n",
       "\n",
       "    .dataframe tbody tr th {\n",
       "        vertical-align: top;\n",
       "    }\n",
       "\n",
       "    .dataframe thead th {\n",
       "        text-align: right;\n",
       "    }\n",
       "</style>\n",
       "<table border=\"1\" class=\"dataframe\">\n",
       "  <thead>\n",
       "    <tr style=\"text-align: right;\">\n",
       "      <th></th>\n",
       "      <th>pc1</th>\n",
       "      <th>pc2</th>\n",
       "      <th>pc3</th>\n",
       "    </tr>\n",
       "  </thead>\n",
       "  <tbody>\n",
       "    <tr>\n",
       "      <th>0</th>\n",
       "      <td>-0.020377</td>\n",
       "      <td>-0.027592</td>\n",
       "      <td>-0.010058</td>\n",
       "    </tr>\n",
       "    <tr>\n",
       "      <th>1</th>\n",
       "      <td>-0.024620</td>\n",
       "      <td>-0.033799</td>\n",
       "      <td>-0.024636</td>\n",
       "    </tr>\n",
       "    <tr>\n",
       "      <th>2</th>\n",
       "      <td>-0.016794</td>\n",
       "      <td>-0.024333</td>\n",
       "      <td>0.001782</td>\n",
       "    </tr>\n",
       "    <tr>\n",
       "      <th>3</th>\n",
       "      <td>-0.024295</td>\n",
       "      <td>-0.031949</td>\n",
       "      <td>-0.026254</td>\n",
       "    </tr>\n",
       "    <tr>\n",
       "      <th>4</th>\n",
       "      <td>-0.043713</td>\n",
       "      <td>-0.059044</td>\n",
       "      <td>-0.133647</td>\n",
       "    </tr>\n",
       "  </tbody>\n",
       "</table>\n",
       "</div>"
      ],
      "text/plain": [
       "        pc1       pc2       pc3\n",
       "0 -0.020377 -0.027592 -0.010058\n",
       "1 -0.024620 -0.033799 -0.024636\n",
       "2 -0.016794 -0.024333  0.001782\n",
       "3 -0.024295 -0.031949 -0.026254\n",
       "4 -0.043713 -0.059044 -0.133647"
      ]
     },
     "execution_count": 55,
     "metadata": {},
     "output_type": "execute_result"
    }
   ],
   "source": [
    "pca_df.head()"
   ]
  },
  {
   "cell_type": "code",
   "execution_count": 56,
   "id": "6f21dca4-807a-4046-8b9e-265af6b0494c",
   "metadata": {},
   "outputs": [
    {
     "data": {
      "image/png": "[encoded data removed]",
      "text/plain": [
       "<Figure size 1080x720 with 1 Axes>"
      ]
     },
     "metadata": {
      "needs_background": "light"
     },
     "output_type": "display_data"
    }
   ],
   "source": [
    "fig = plt.figure(figsize = (15, 10))\n",
    "ax = plt.axes(projection =\"3d\")\n",
    "\n",
    "x = pca_df['pc1']\n",
    "y = pca_df['pc2']\n",
    "z = pca_df['pc3']\n",
    "\n",
    "ax.scatter3D(x, y, z, color = \"purple\")\n",
    "plt.title(\"COP26 w/ 3 Components\")\n",
    "\n",
    "ax.set_xlabel(\"pc1\")\n",
    "ax.set_ylabel(\"pc2\")\n",
    "ax.set_zlabel(\"pc3\")\n",
    "\n",
    "ax.scatter(x, y, z)\n",
    "\n",
    "plt.show()"
   ]
  },
  {
   "cell_type": "code",
   "execution_count": 57,
   "id": "b628bcfe-0ec1-46f3-9b1c-b4fd1cdc8102",
   "metadata": {},
   "outputs": [],
   "source": [
    "explain = pca.fit(corpus_tfidf_df).explained_variance_ratio_"
   ]
  },
  {
   "cell_type": "code",
   "execution_count": 58,
   "id": "b8156b07-1f60-459b-a8fb-e07a05df723c",
   "metadata": {},
   "outputs": [
    {
     "data": {
      "text/plain": [
       "0.11247892125653203"
      ]
     },
     "execution_count": 58,
     "metadata": {},
     "output_type": "execute_result"
    }
   ],
   "source": [
    "sum(explain)"
   ]
  },
  {
   "cell_type": "code",
   "execution_count": 59,
   "id": "be9ddf26-7aee-41fb-aac8-8f84d2e642be",
   "metadata": {},
   "outputs": [],
   "source": [
    "#comparison_df['parsed'] = comparison_df.document.apply(st.whitespace_nlp_with_sentences)\n",
    "\n",
    "#unigram_corpus = (st.CorpusFromParsedDocuments(comparison_df,\n",
    "#                                               category_col='source',\n",
    "#                                               parsed_col='parsed').build().get_stoplisted_unigram_corpus())\n",
    "\n",
    "#topic_model = st.SentencesForTopicModeling(unigram_corpus).get_topics_from_model(\n",
    "#\tPipeline([('tfidf', TfidfTransformer(sublinear_tf=True)),\n",
    "#              ('nmf', (NMF(n_components=100, alpha=.1, l1_ratio=.5, random_state=0)))]),\n",
    "#               num_terms_per_topic=20)\n",
    "  \n",
    "#topic_feature_builder = st.FeatsFromTopicModel(topic_model)\n",
    "\n",
    "#topic_corpus = st.CorpusFromParsedDocuments(comparison_df, category_col='source', parsed_col='parsed',\n",
    "#                                            feats_from_spacy_doc=topic_feature_builder).build()\n",
    "\n",
    "#st_tm = st.produce_scattertext_explorer(topic_corpus, category='PCV', category_name=\"People's Climate Vote\", not_category_name='COP26',\n",
    "#                                       width_in_pixels=1000, use_non_text_features=True, use_full_doc=True, pmi_threshold_coefficient=0,\n",
    "#                                       topic_model_term_lists=topic_feature_builder.get_top_model_term_lists(), \n",
    "#                                       topic_model_preview_size=20)\n",
    "\n",
    "#file_name = 'st_topic_modeling.html'\n",
    "#open(file_name, 'wb').write(st_tm.encode('utf-8'))"
   ]
  },
  {
   "cell_type": "code",
   "execution_count": null,
   "id": "8a0bed99-0d02-42f0-a558-2b2247054c43",
   "metadata": {},
   "outputs": [],
   "source": []
  },
  {
   "cell_type": "code",
   "execution_count": 60,
   "id": "81057cc3-9b4f-4cf4-9e59-3e46ff730017",
   "metadata": {},
   "outputs": [],
   "source": [
    "def how_many_components(num):\n",
    "\n",
    "    varex = []\n",
    "    \n",
    "    for i in range(num+1):\n",
    "        pca = PCA(n_components=i)\n",
    "        explain = pca.fit(corpus_tfidf_df).explained_variance_ratio_\n",
    "        varex.append((f'{i} components:', sum(explain)))\n",
    "        \n",
    "        if sum(explain) > 0.8:\n",
    "            break\n",
    "    \n",
    "    return varex"
   ]
  },
  {
   "cell_type": "code",
   "execution_count": 61,
   "id": "5d2acbcf-b1e3-4532-8e5b-a20886edb06f",
   "metadata": {},
   "outputs": [],
   "source": [
    "#test = how_many_components(30)"
   ]
  },
  {
   "cell_type": "code",
   "execution_count": null,
   "id": "a7b9698f-fdd1-4307-8333-a2923ca34533",
   "metadata": {},
   "outputs": [],
   "source": [
    "#test"
   ]
  },
  {
   "cell_type": "code",
   "execution_count": 118,
   "id": "bff5aeb3-d99e-4843-94db-9a083c96b6b0",
   "metadata": {},
   "outputs": [],
   "source": [
    "fig, ax = plt.subplots(figsize=(15,10))\n",
    "\n",
    "for i in range(len(test)):\n",
    "    sns.lineplot(data=test, x=i, y=test[i]"
   ]
  },
  {
   "cell_type": "code",
   "execution_count": null,
   "id": "95c1b840-a27b-4888-82f1-cde66dbc9f11",
   "metadata": {},
   "outputs": [],
   "source": [
    "corpus_tfidf_df.head()"
   ]
  },
  {
   "cell_type": "code",
   "execution_count": 68,
   "id": "c885a4de-ace7-4798-83a1-58bbc8904804",
   "metadata": {},
   "outputs": [
    {
     "name": "stderr",
     "output_type": "stream",
     "text": [
      "FutureWarning: The 'init' value, when 'init=None' and n_components is less than n_samples and n_features, will be changed from 'nndsvd' to 'nndsvda' in 1.1 (renaming of 0.26). [_nmf.py:289]\n"
     ]
    },
    {
     "name": "stdout",
     "output_type": "stream",
     "text": [
      "Topic 1 3258\n",
      "Topic 2 2108\n",
      "Topic 3 21855\n",
      "Topic 4 4880\n",
      "Topic 5 9660\n",
      "Topic 6 3939\n",
      "Topic 7 22337\n",
      "Topic 8 7904\n",
      "Topic 9 4904\n",
      "Topic 10 3339\n"
     ]
    }
   ],
   "source": [
    "# code provided by Amy Tian to explore top topics from NMF\n",
    "\n",
    "nmf = NMF(10)\n",
    "nmf_doc_topic = nmf.fit_transform(cfx2)\n",
    "\n",
    "nmf_doc_topic_df = pd.DataFrame(nmf_doc_topic.round(3), columns = [ix for ix, val in enumerate(nmf.components_)])\n",
    "nmf_doc_topic_df\n",
    "#displaying top story for each topic\n",
    "for ix, val in enumerate(nmf.components_):\n",
    "    max_story = np.argmax(nmf_doc_topic_df[ix])\n",
    "    print('Topic', ix+1, max_story)"
   ]
  },
  {
   "cell_type": "code",
   "execution_count": 87,
   "id": "d0aa9685-49e1-40ec-8f21-668edbbedc22",
   "metadata": {},
   "outputs": [
    {
     "data": {
      "text/plain": [
       "'FCCC/CP/2020/INF.1 10'"
      ]
     },
     "execution_count": 87,
     "metadata": {},
     "output_type": "execute_result"
    }
   ],
   "source": [
    "full_tokens[3258]"
   ]
  },
  {
   "cell_type": "code",
   "execution_count": 71,
   "id": "83d73b0a-289e-43a8-9319-037adb45ba40",
   "metadata": {},
   "outputs": [
    {
     "data": {
      "text/plain": [
       "' 32 See decision 4/CMP.1, annex I.'"
      ]
     },
     "execution_count": 71,
     "metadata": {},
     "output_type": "execute_result"
    }
   ],
   "source": [
    "full_tokens[2108]"
   ]
  },
  {
   "cell_type": "code",
   "execution_count": 72,
   "id": "07a4a822-221a-4387-9ac2-936de0b5de4f",
   "metadata": {},
   "outputs": [
    {
     "data": {
      "text/plain": [
       "'177 Panama H.E. Mr. Laurentino Cortizo Cohen  President  Republic of Panama  H.E. Mr. Milciades Concepción  Minister  Ministry of Environment  Ms. Ligia Castro de Doens  Climate Change Director  Climate Change Directorate  Ministry of Environment  H.E. Ms. Erika Alexandra Mouynes Brenes  Minister of Foreign Affairs  Ministry of Foreign Affairs  H.E. Mr. Iván Xavier Eskildsen Alfaro  Minister of Tourism  Panama Tourism Authority  Mr. Juan Carlos Monterrey Gomez  Markets Coordinator  Climate Change Directorate  Ministry of Environment  H.E. Mr. Augusto Valderrama  Minister of Agriculture  Ministry of Agriculture  Ms. Yoisy Belén Castillo  Mitigation Department Head, a.i.  Climate Change Directorate  Ministry of Environment of Panama  Ms. Nicole Francisco  Climate Change Adaptation Analyst  Climate Change Directorate  Ministry of Environment  Ms. Mari Helena Castillo Mariscal  Climate Action Analyst  Climate Change Directorate  Ministry of Environment  Ms. Ana Inés Cerrud  Strategic Communication Advisor  Office of the Minister  Ministry of Foreign Affairs  Ms. Ana Laura Calderón  Climate Diplomacy Advisor  Office of the Minister  Ministry of Foreign Affairs  Ms. Natalia Royo de Hagerman  Ambassador to the United Kingdom  Ministry of Foreign Affairs  Ms. Anays Berrocal Corro  Alternate Permanent Representative of Panama to the IMO  Permanent Mission of Panama to the IMO  Sra. Shirley Habiba Binder Zbeda  Director of Protected Areas and Biodiversity  Protected Areas and Biodiversity Directorate  Ministry of Environment  Mr. José Julio Casas Maldonado  Director of Coasts and Seas  Coasts and Seas Directorate  Ministry of Environment  Mr. Victor Francisco Cadavid Caballero  Forestry Director  Forestry Directorate  Ministry of Environment  Ms. Yelena Rodríguez  Communications Director  Office of Public Relations  Ministry of Environment of Panama  Mr. Gustavo Leonardo Padilla Corro  International Cooperation Head  International Cooperation Office  Ministry of Environment  Mr. Iniquilipi Gracilio Chiari Lombardo  Indigenous Affairs Department Head  Ministry of Environment  Mr. Rene Lopez Arguelles  National Communications Coordinator  Climate Change Directorate  Ministry of Environment  Mr. Juan Manuel Lucero Acosta  Climate Transparency Coordinator  Climate Change Directorate  Ministry of Environment  Mr. Roberto De La Cruz  NDC Facilitator  Climate Change Directorate  Ministry of Environment  Mr. Alexis Rodriguez  Environmental Protection Specialist  Environment Division  Panama Canal Authority  Mr. Luis Eduardo Pabon Chevalier  Attaché  Embassy of Panama in the United Kingdom  Ms. Ana Estrada  Assistant to the President  Republic of Panama  Mr. Andres Laguna  Assistant to the Minister  Office of the Minister  Ministry of Foreign Affairs  Ms. Yaneth Laffaurie  Climate Action Analyst  Climate Change Directorate  Ministry of Environment  Ms. Carol Simon  Climate Action Analyst  Climate Change Directorate  Ministry of Environment  Ms. Katherine Martínez  Adaptation Analyst  Climate Change Directorate  Ministry of Environment  Ms. Maribel Pinto  Climate Change Adaptation Analyst  Climate Change Directorate  Ministry of Environment  Ms. Enilda Medina  Climate Change Adaptation Analyst  Climate Change Directorate  Ministry of Environment  Ms. Belén Guevara  Climate Change Adaptation Analyst  Climate Change Directorate  Ministry of Environment  Ms. Mabel Zúñiga  Climate Change Adaptation Analyst  Climate Change Directorate  Ministry of Environment  Ms. Melani Acosta  Climate Change Mitigation Analyst  Climate Change Directorate  Ministry of Environment  '"
      ]
     },
     "execution_count": 72,
     "metadata": {},
     "output_type": "execute_result"
    }
   ],
   "source": [
    "full_tokens[21855]"
   ]
  },
  {
   "cell_type": "code",
   "execution_count": 73,
   "id": "b4e510a1-1a68-4dfb-af9c-c67c1bd84dba",
   "metadata": {},
   "outputs": [
    {
     "data": {
      "text/plain": [
       "'Voluntary cancellation account NO NO NO NO NO NO Cancellation account for remaining units after carry-over NO NO NO NO NO NO Article 3.1 ter and quater ambition increase cancellation account NO'"
      ]
     },
     "execution_count": 73,
     "metadata": {},
     "output_type": "execute_result"
    }
   ],
   "source": [
    "full_tokens[4880]"
   ]
  },
  {
   "cell_type": "code",
   "execution_count": 74,
   "id": "b774464d-d639-462a-85af-5768e7e38ed9",
   "metadata": {},
   "outputs": [
    {
     "data": {
      "text/plain": [
       "'FCCC/PA/CMA/2021/6 14'"
      ]
     },
     "execution_count": 74,
     "metadata": {},
     "output_type": "execute_result"
    }
   ],
   "source": [
    "full_tokens[9660]"
   ]
  },
  {
   "cell_type": "code",
   "execution_count": 75,
   "id": "76e9a29d-881a-4201-a947-614f46eecec8",
   "metadata": {},
   "outputs": [
    {
     "data": {
      "text/plain": [
       "'FCCC/KP/CMP/2021/1/Add.1 2'"
      ]
     },
     "execution_count": 75,
     "metadata": {},
     "output_type": "execute_result"
    }
   ],
   "source": [
    "full_tokens[3939]"
   ]
  },
  {
   "cell_type": "code",
   "execution_count": 76,
   "id": "fcd19461-bf1e-4f9d-8719-05608f02b762",
   "metadata": {},
   "outputs": [
    {
     "data": {
      "text/plain": [
       "'3 13. Report of the committee to facilitate implementation and promote compliance referred to in Article 15, paragraph 2, of the Paris Agreement (for 2020 and 2021). 14. Stocktake on financial support and means of implementation for alternative policy approaches such as joint mitigation and adaptation approaches for the integral and sustainable management of forests. 15. Special needs and special circumstances of Africa. 16. Matters relating to adaptation: (a) Reports of the Adaptation Committee (2019, 2020 and 2021, and review of the Adaptation Committee); (b) The global goals on adaptation; (c) Recognition of adaptation efforts of developing country Parties; (d) Enhancing the implementation of adaptation action taking into account the adaptation communication referred to in Article 7, paragraph 10; (e) The adequacy and effectiveness of adaptation and support provided for adaptation. 17. Reporting and review pursuant to Article 13 of the Paris Agreement: provision of financial and capacity-building support to developing countries. 18. Administrative, financial and institutional matters: (a) Audit report and financial statements for 2019 and 2020; (b) Budget performance for the bienniums 20182019 and 20202021; (c) Programme budget for the biennium 20222023. 19. High-level segment: (a) Statements by Parties; (b) Statements by observer organizations. 20. Other matters. 21. Conclusion of the session: (a) Adoption of the draft report of the Conference of the Parties serving as the meeting of the Parties to the Paris Agreement on its third session; (b) Closure of the session. III. Annotations 17. Reporting and review pursuant to Article 13 of the Paris Agreement: provision of financial and capacity-building support to developing countries 3. Background: A proposal was received from Switzerland on behalf of the Environmental Integrity Group on 21 October 2021 to include this matter in the provisional agenda for this session. In accordance with rule 12 of the draft rules of procedure being applied, this item has been included in the provisional agenda. 4. Action: The CMA will be invited to consider this matter and to take any action it deems appropriate. Further information https://unfccc.int/documents/307620'"
      ]
     },
     "execution_count": 76,
     "metadata": {},
     "output_type": "execute_result"
    }
   ],
   "source": [
    "full_tokens[22337]"
   ]
  },
  {
   "cell_type": "code",
   "execution_count": 77,
   "id": "bc6f14fb-2bf7-4d3f-a119-1bf1d3119e70",
   "metadata": {},
   "outputs": [
    {
     "data": {
      "text/plain": [
       "'Transaction type AAUs ERUs RMUs CERs tCERs lCERs Total transactions NO NO NO NO NO NO Subtractions Internal transactions NO NO NO NO NO NO External transactions NO NO NO NO NO NO Total transactions NO NO NO NO NO NO XII. European Union 27. The EU met all the eligibility criteria and became eligible to participate in all the flexibility mechanisms under the Kyoto Protocol on 18 April 2008. 28. Tables 47initial accounting parameters for the second commitment period under the Kyoto Protocol, its GHG emissions and removals, the holdings of Kyoto Protocol units by account type and transactions of Kyoto Protocol units. Table 47 Key initial accounting parameters under the Kyoto Protocol for the European Union Parameter Value Unit Total base-year emissionsa 5 875 692 700 t CO2 eq Quantified emission limitation or reduction commitment inscribed in the third column of Annex B in the Doha Amendment to the Kyoto Protocol or in accordance with Article 4 of the Kyoto Protocol 80 per cent Assigned amount pursuant to Article 3, paragraphs 7 bis, 8 and 8 bis, in the Doha Amendment for the second commitment periodb 15 813 089 338 t CO2 eq Difference between the assigned amount for the second commitment period and the average annual emissions for the first three years of the first commitment period, multiplied by eight 1 063 645 030 t CO2 eq  Limitation on the additions to the assigned amount of the EU resulting from forest management under Article 3, paragraph 4, of the Kyoto Protocol 1 643 637 017 t CO2 eq a   '"
      ]
     },
     "execution_count": 77,
     "metadata": {},
     "output_type": "execute_result"
    }
   ],
   "source": [
    "full_tokens[7904]"
   ]
  },
  {
   "cell_type": "code",
   "execution_count": 79,
   "id": "621bb094-9f5b-4f9e-b582-782f7728f586",
   "metadata": {},
   "outputs": [
    {
     "data": {
      "text/plain": [
       "'NO tCER replacement account for expiry NO NO NO NO NO'"
      ]
     },
     "execution_count": 79,
     "metadata": {},
     "output_type": "execute_result"
    }
   ],
   "source": [
    "full_tokens[4904]"
   ]
  },
  {
   "cell_type": "code",
   "execution_count": 80,
   "id": "d7e749ed-b0bf-436a-a17b-72648e62ab8e",
   "metadata": {},
   "outputs": [
    {
     "data": {
      "text/plain": [
       "' United Nations FCCC/CP/2021/L.6'"
      ]
     },
     "execution_count": 80,
     "metadata": {},
     "output_type": "execute_result"
    }
   ],
   "source": [
    "full_tokens[3339]"
   ]
  },
  {
   "cell_type": "code",
   "execution_count": null,
   "id": "e3af19c1-f88a-44a0-bcc9-c8df7932c333",
   "metadata": {},
   "outputs": [],
   "source": []
  }
 ],
 "metadata": {
  "kernelspec": {
   "display_name": "Python 3 (ipykernel)",
   "language": "python",
   "name": "python3"
  },
  "language_info": {
   "codemirror_mode": {
    "name": "ipython",
    "version": 3
   },
   "file_extension": ".py",
   "mimetype": "text/x-python",
   "name": "python",
   "nbconvert_exporter": "python",
   "pygments_lexer": "ipython3",
   "version": "3.8.11"
  }
 },
 "nbformat": 4,
 "nbformat_minor": 5
}
