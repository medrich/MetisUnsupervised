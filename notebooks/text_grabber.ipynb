{
 "cells": [
  {
   "cell_type": "code",
   "execution_count": 1,
   "id": "6921cfab-6277-4765-b9e3-eea3d73d4892",
   "metadata": {},
   "outputs": [],
   "source": [
    "#imports\n",
    "\n",
    "import PyPDF2\n",
    "import re\n",
    "import glob\n",
    "import pandas as pd\n",
    "from sklearn.feature_extraction.text import TfidfVectorizer, CountVectorizer\n",
    "from nltk.tokenize import word_tokenize\n",
    "import pickle"
   ]
  },
  {
   "cell_type": "code",
   "execution_count": 4,
   "id": "c590d3c9-6f72-48c0-9e4c-1337739ab676",
   "metadata": {},
   "outputs": [],
   "source": [
    "pdf_root = '/home/mattiboi/Desktop/Data Science/Metis/Unsupervised Learning/project/glasgow_documents/pdfs'\n",
    "pdf_paths = []\n",
    "\n",
    "for file in glob.glob(pdf_root + '/*.pdf'):\n",
    "    pdf_paths.append(file)"
   ]
  },
  {
   "cell_type": "code",
   "execution_count": 306,
   "id": "5ff05204-f4e4-4314-a7dd-97dd29244438",
   "metadata": {},
   "outputs": [
    {
     "data": {
      "text/plain": [
       "['/home/mattiboi/Desktop/Data Science/Metis/Unsupervised Learning/project/glasgow_documents/pdfs/Pacific_Islands_Forum_Secretariat_cop26cmp16cma3_HLS.pdf',\n",
       " '/home/mattiboi/Desktop/Data Science/Metis/Unsupervised Learning/project/glasgow_documents/pdfs/COP_Event-Map_A1_V12.pdf',\n",
       " '/home/mattiboi/Desktop/Data Science/Metis/Unsupervised Learning/project/glasgow_documents/pdfs/UNITED_ARAB_EMIRATES_cop26cmp16cma3_HLS_EN.pdf',\n",
       " '/home/mattiboi/Desktop/Data Science/Metis/Unsupervised Learning/project/glasgow_documents/pdfs/cmp2020_01E.pdf',\n",
       " '/home/mattiboi/Desktop/Data Science/Metis/Unsupervised Learning/project/glasgow_documents/pdfs/FINLAND_cop26cmp16cma3_HLS_EN.pdf']"
      ]
     },
     "execution_count": 306,
     "metadata": {},
     "output_type": "execute_result"
    }
   ],
   "source": [
    "pdf_paths[:5]"
   ]
  },
  {
   "cell_type": "code",
   "execution_count": null,
   "id": "495bff97-6da3-4f9a-9219-06a92d8960d4",
   "metadata": {},
   "outputs": [],
   "source": [
    "#testing the reading of a single pdf\n",
    "test_path = pdf_paths[15]\n",
    "\n",
    "#connect the reader to the file\n",
    "fileReader = PyPDF2.PdfFileReader(open(test_path, 'rb'))\n",
    "\n",
    "#initialize page counter\n",
    "count = 0\n",
    "count = fileReader.numPages - 1\n",
    "\n",
    "doc_text = []\n",
    "\n",
    "print(f'This document will be parsed into a list with {count+1} elements.')\n",
    "#print text in the pdf\n",
    "while count >= 0:\n",
    "    count -= 1\n",
    "    pageObj = fileReader.getPage(count)\n",
    "    text = pageObj.extractText()\n",
    "    text = text.replace('\\n','')\n",
    "    #text = text.replace('     ', ' ')\n",
    "\n",
    "    #for i in range(len(text)-1):\n",
    "    #    if text[i] == '\\n' and text[i+1].isalnum():\n",
    "    #        text[i].replace('\\n','')\n",
    "\n",
    "    doc_text.append(text)\n",
    "#num = re.findall(r'[0-9]+', text)\n",
    "#print(num)\n",
    "#print(doc_text)"
   ]
  },
  {
   "cell_type": "code",
   "execution_count": null,
   "id": "0cd4a8ef-6c62-404f-81b7-3da6060d61c5",
   "metadata": {},
   "outputs": [],
   "source": [
    "#print(doc_text[0].split())"
   ]
  },
  {
   "cell_type": "code",
   "execution_count": null,
   "id": "31ae2a0c-8173-4ed2-8998-683a94eaeb69",
   "metadata": {},
   "outputs": [],
   "source": [
    "#print(doc_text[1].split())"
   ]
  },
  {
   "cell_type": "code",
   "execution_count": null,
   "id": "cdb05434-b01d-46aa-b9a2-b79b705c8823",
   "metadata": {},
   "outputs": [],
   "source": [
    "#print(doc_text[2].split())"
   ]
  },
  {
   "cell_type": "code",
   "execution_count": 2,
   "id": "21a2abc6-f523-4f17-8816-9e3ba7fa5751",
   "metadata": {},
   "outputs": [],
   "source": [
    "pdf_root = '/home/mattiboi/Desktop/Data Science/Metis/Unsupervised Learning/project/glasgow_documents/pdfs'\n",
    "pdf_paths = []\n",
    "\n",
    "for file in glob.glob(pdf_root + '/*.pdf'):\n",
    "    pdf_paths.append(file)\n",
    "\n",
    "def text_collector_raw(pdfs):\n",
    "        path = ''\n",
    "        speech_corpus = []\n",
    "        report_corpus = []\n",
    "        report_ids = ['WIM','tp','TM-FM','Submission','sbsta','SBSTA','SBI','sbi','SB','sb','RM','PACMA','CTF','CP','cp','COP','cop','cmp','CMA','cma','decision']\n",
    "        total_pages = 0\n",
    "        \n",
    "        for file in pdfs:\n",
    "            doc_text = []\n",
    "            path = file\n",
    "            \n",
    "            #connect the reader to the file\n",
    "            fileReader = PyPDF2.PdfFileReader(open(path, 'rb'))\n",
    "\n",
    "            #initialize page counter\n",
    "            count = 0\n",
    "            count = fileReader.numPages - 1\n",
    "            \n",
    "            print(f'Parsing a document with {count+1} elements.')\n",
    "            total_pages += count  \n",
    "\n",
    "            #parse text in the pdf, and put it into the appropriate list\n",
    "            if any(word in file for word in report_ids) and 'HLS' not in file:\n",
    "                try:\n",
    "                    while count >= 0:\n",
    "                        count -= 1\n",
    "                        pageObj = fileReader.getPage(count)\n",
    "                        text = pageObj.extractText()\n",
    "                        #text = text.replace('\\n','')\n",
    "                        doc_text.append(text)\n",
    "            \n",
    "                    report_corpus.append(doc_text)\n",
    "            \n",
    "                except:\n",
    "                    continue\n",
    "            \n",
    "            elif 'HLS' in file:\n",
    "                try:\n",
    "                    while count >= 0:\n",
    "                        count -= 1\n",
    "                        pageObj = fileReader.getPage(count)\n",
    "                        text = pageObj.extractText()\n",
    "                        #text = text.replace('\\n','')\n",
    "                        doc_text.append(text)\n",
    "            \n",
    "                    speech_corpus.append(doc_text)\n",
    "            \n",
    "                except:\n",
    "                    continue\n",
    "        \n",
    "        print(f'Parsing complete. Corpus currently contains {total_pages} pages.')\n",
    "        print('This function returns a tuple of lists. tuple[0] = report_corpus; tuple[1] = speech_corpus.')\n",
    "        return (report_corpus, speech_corpus)"
   ]
  },
  {
   "cell_type": "code",
   "execution_count": 3,
   "id": "29566c4e-f601-4139-95a0-bab2b3f78b55",
   "metadata": {},
   "outputs": [],
   "source": [
    "def text_collector_remove_breaks(pdfs):\n",
    "        path = ''\n",
    "        speech_corpus = []\n",
    "        report_corpus = []\n",
    "        report_ids = ['WIM','tp','TM-FM','Submission','sbsta','SBSTA','SBI','sbi','SB','sb','RM','PACMA','CTF','CP','cp','COP','cop','cmp','CMA','cma','decision']\n",
    "        total_pages = 0\n",
    "        \n",
    "        for file in pdfs:\n",
    "            doc_text = []\n",
    "            path = file\n",
    "            \n",
    "            #connect the reader to the file\n",
    "            fileReader = PyPDF2.PdfFileReader(open(path, 'rb'))\n",
    "\n",
    "            #initialize page counter\n",
    "            count = 0\n",
    "            count = fileReader.numPages - 1\n",
    "            \n",
    "            print(f'Parsing a document with {count+1} elements.')\n",
    "            total_pages += count  \n",
    "\n",
    "            #parse text in the pdf, and put it into the appropriate list\n",
    "            if any(word in file for word in report_ids) and 'HLS' not in file:\n",
    "                try:\n",
    "                    while count >= 0:\n",
    "                        count -= 1\n",
    "                        pageObj = fileReader.getPage(count)\n",
    "                        text = pageObj.extractText()\n",
    "                        text = text.replace('\\n','')\n",
    "                        doc_text.append(text)\n",
    "            \n",
    "                    report_corpus.append(doc_text)\n",
    "            \n",
    "                except:\n",
    "                    continue\n",
    "            \n",
    "            elif 'HLS' in file:\n",
    "                try:\n",
    "                    while count >= 0:\n",
    "                        count -= 1\n",
    "                        pageObj = fileReader.getPage(count)\n",
    "                        text = pageObj.extractText()\n",
    "                        text = text.replace('\\n','')\n",
    "                        doc_text.append(text)\n",
    "            \n",
    "                    speech_corpus.append(doc_text)\n",
    "            \n",
    "                except:\n",
    "                    continue\n",
    "        \n",
    "        print(f'Parsing complete. Corpus currently contains {total_pages} pages.')\n",
    "        print('This function returns a tuple of lists. tuple[0] = report_corpus; tuple[1] = speech_corpus.')\n",
    "        return (report_corpus, speech_corpus)"
   ]
  },
  {
   "cell_type": "code",
   "execution_count": 4,
   "id": "f4ff4757-0515-4c79-a18b-e2485bb0c608",
   "metadata": {},
   "outputs": [
    {
     "name": "stdout",
     "output_type": "stream",
     "text": [
      "Parsing a document with 2 elements.\n",
      "Parsing a document with 1 elements.\n",
      "Parsing a document with 3 elements.\n",
      "Parsing a document with 31 elements.\n",
      "Parsing a document with 2 elements.\n",
      "Parsing a document with 6 elements.\n",
      "Parsing a document with 2 elements.\n",
      "Parsing a document with 7 elements.\n",
      "Parsing a document with 71 elements.\n",
      "Parsing a document with 5 elements.\n",
      "Parsing a document with 8 elements.\n",
      "Parsing a document with 11 elements.\n",
      "Parsing a document with 4 elements.\n",
      "Parsing a document with 7 elements.\n",
      "Parsing a document with 2 elements.\n",
      "Parsing a document with 3 elements.\n",
      "Parsing a document with 2 elements.\n",
      "Parsing a document with 5 elements.\n",
      "Parsing a document with 4 elements.\n",
      "Parsing a document with 2 elements.\n"
     ]
    },
    {
     "name": "stderr",
     "output_type": "stream",
     "text": [
      "PdfReadWarning: Superfluous whitespace found in object header b'1' b'0' [pdf.py:1665]\n",
      "PdfReadWarning: Superfluous whitespace found in object header b'2' b'0' [pdf.py:1665]\n",
      "PdfReadWarning: Superfluous whitespace found in object header b'3' b'0' [pdf.py:1665]\n",
      "PdfReadWarning: Superfluous whitespace found in object header b'18' b'0' [pdf.py:1665]\n",
      "PdfReadWarning: Superfluous whitespace found in object header b'16' b'0' [pdf.py:1665]\n",
      "PdfReadWarning: Superfluous whitespace found in object header b'19' b'0' [pdf.py:1665]\n"
     ]
    },
    {
     "name": "stdout",
     "output_type": "stream",
     "text": [
      "Parsing a document with 3 elements.\n",
      "Parsing a document with 2 elements.\n",
      "Parsing a document with 1 elements.\n",
      "Parsing a document with 4 elements.\n",
      "Parsing a document with 13 elements.\n",
      "Parsing a document with 33 elements.\n",
      "Parsing a document with 2 elements.\n",
      "Parsing a document with 2 elements.\n",
      "Parsing a document with 4 elements.\n",
      "Parsing a document with 12 elements.\n",
      "Parsing a document with 2 elements.\n",
      "Parsing a document with 28 elements.\n",
      "Parsing a document with 13 elements.\n",
      "Parsing a document with 2 elements.\n",
      "Parsing a document with 35 elements.\n",
      "Parsing a document with 3 elements.\n",
      "Parsing a document with 3 elements.\n",
      "Parsing a document with 3 elements.\n",
      "Parsing a document with 27 elements.\n",
      "Parsing a document with 4 elements.\n",
      "Parsing a document with 2 elements.\n",
      "Parsing a document with 2 elements.\n",
      "Parsing a document with 2 elements.\n",
      "Parsing a document with 5 elements.\n",
      "Parsing a document with 3 elements.\n",
      "Parsing a document with 5 elements.\n",
      "Parsing a document with 2 elements.\n",
      "Parsing a document with 1 elements.\n",
      "Parsing a document with 1 elements.\n",
      "Parsing a document with 2 elements.\n",
      "Parsing a document with 13 elements.\n",
      "Parsing a document with 3 elements.\n",
      "Parsing a document with 1 elements.\n",
      "Parsing a document with 23 elements.\n",
      "Parsing a document with 4 elements.\n",
      "Parsing a document with 13 elements.\n",
      "Parsing a document with 42 elements.\n",
      "Parsing a document with 2 elements.\n",
      "Parsing a document with 9 elements.\n",
      "Parsing a document with 2 elements.\n",
      "Parsing a document with 1 elements.\n",
      "Parsing a document with 7 elements.\n",
      "Parsing a document with 35 elements.\n",
      "Parsing a document with 9 elements.\n",
      "Parsing a document with 2 elements.\n",
      "Parsing a document with 4 elements.\n",
      "Parsing a document with 2 elements.\n",
      "Parsing a document with 93 elements.\n",
      "Parsing a document with 1 elements.\n",
      "Parsing a document with 24 elements.\n",
      "Parsing a document with 2 elements.\n",
      "Parsing a document with 23 elements.\n",
      "Parsing a document with 9 elements.\n",
      "Parsing a document with 4 elements.\n",
      "Parsing a document with 3 elements.\n",
      "Parsing a document with 5 elements.\n",
      "Parsing a document with 4 elements.\n",
      "Parsing a document with 5 elements.\n",
      "Parsing a document with 2 elements.\n",
      "Parsing a document with 2 elements.\n",
      "Parsing a document with 2 elements.\n",
      "Parsing a document with 16 elements.\n",
      "Parsing a document with 3 elements.\n",
      "Parsing a document with 2 elements.\n",
      "Parsing a document with 8 elements.\n",
      "Parsing a document with 6 elements.\n",
      "Parsing a document with 14 elements.\n",
      "Parsing a document with 2 elements.\n",
      "Parsing a document with 10 elements.\n",
      "Parsing a document with 1 elements.\n",
      "Parsing a document with 3 elements.\n",
      "Parsing a document with 5 elements.\n",
      "Parsing a document with 15 elements.\n",
      "Parsing a document with 9 elements.\n",
      "Parsing a document with 1 elements.\n",
      "Parsing a document with 242 elements.\n",
      "Parsing a document with 7 elements.\n",
      "Parsing a document with 56 elements.\n",
      "Parsing a document with 2 elements.\n",
      "Parsing a document with 2 elements.\n",
      "Parsing a document with 1 elements.\n",
      "Parsing a document with 7 elements.\n",
      "Parsing a document with 2 elements.\n",
      "Parsing a document with 4 elements.\n",
      "Parsing a document with 4 elements.\n",
      "Parsing a document with 4 elements.\n",
      "Parsing a document with 4 elements.\n",
      "Parsing a document with 6 elements.\n",
      "Parsing a document with 6 elements.\n",
      "Parsing a document with 2 elements.\n",
      "Parsing a document with 10 elements.\n",
      "Parsing a document with 2 elements.\n",
      "Parsing a document with 36 elements.\n",
      "Parsing a document with 3 elements.\n",
      "Parsing a document with 7 elements.\n",
      "Parsing a document with 6 elements.\n",
      "Parsing a document with 6 elements.\n",
      "Parsing a document with 3 elements.\n",
      "Parsing a document with 2 elements.\n",
      "Parsing a document with 4 elements.\n",
      "Parsing a document with 9 elements.\n",
      "Parsing a document with 2 elements.\n",
      "Parsing a document with 5 elements.\n",
      "Parsing a document with 3 elements.\n",
      "Parsing a document with 4 elements.\n",
      "Parsing a document with 80 elements.\n",
      "Parsing a document with 1 elements.\n",
      "Parsing a document with 7 elements.\n",
      "Parsing a document with 1 elements.\n",
      "Parsing a document with 4 elements.\n",
      "Parsing a document with 22 elements.\n",
      "Parsing a document with 11 elements.\n",
      "Parsing a document with 3 elements.\n",
      "Parsing a document with 17 elements.\n",
      "Parsing a document with 5 elements.\n",
      "Parsing a document with 1 elements.\n",
      "Parsing a document with 36 elements.\n",
      "Parsing a document with 1 elements.\n",
      "Parsing a document with 16 elements.\n",
      "Parsing a document with 15 elements.\n",
      "Parsing a document with 2 elements.\n",
      "Parsing a document with 16 elements.\n",
      "Parsing a document with 1 elements.\n",
      "Parsing a document with 28 elements.\n",
      "Parsing a document with 7 elements.\n",
      "Parsing a document with 2 elements.\n",
      "Parsing a document with 4 elements.\n",
      "Parsing a document with 153 elements.\n",
      "Parsing a document with 27 elements.\n",
      "Parsing a document with 2 elements.\n",
      "Parsing a document with 1 elements.\n",
      "Parsing a document with 6 elements.\n",
      "Parsing a document with 15 elements.\n",
      "Parsing a document with 1 elements.\n",
      "Parsing a document with 11 elements.\n",
      "Parsing a document with 2 elements.\n",
      "Parsing a document with 2 elements.\n",
      "Parsing a document with 15 elements.\n",
      "Parsing a document with 4 elements.\n",
      "Parsing a document with 7 elements.\n",
      "Parsing a document with 3 elements.\n",
      "Parsing a document with 11 elements.\n",
      "Parsing a document with 11 elements.\n",
      "Parsing a document with 2 elements.\n",
      "Parsing a document with 3 elements.\n",
      "Parsing a document with 7 elements.\n",
      "Parsing a document with 4 elements.\n",
      "Parsing a document with 12 elements.\n",
      "Parsing a document with 1 elements.\n",
      "Parsing a document with 15 elements.\n",
      "Parsing a document with 3 elements.\n",
      "Parsing a document with 1 elements.\n",
      "Parsing a document with 1 elements.\n",
      "Parsing a document with 5 elements.\n",
      "Parsing a document with 5 elements.\n",
      "Parsing a document with 3 elements.\n",
      "Parsing a document with 2 elements.\n",
      "Parsing a document with 13 elements.\n",
      "Parsing a document with 8 elements.\n",
      "Parsing a document with 3 elements.\n",
      "Parsing a document with 3 elements.\n",
      "Parsing a document with 3 elements.\n"
     ]
    },
    {
     "name": "stderr",
     "output_type": "stream",
     "text": [
      "PdfReadWarning: Superfluous whitespace found in object header b'38' b'0' [pdf.py:1665]\n",
      "PdfReadWarning: Superfluous whitespace found in object header b'49' b'0' [pdf.py:1665]\n"
     ]
    },
    {
     "name": "stdout",
     "output_type": "stream",
     "text": [
      "Parsing a document with 12 elements.\n",
      "Parsing a document with 10 elements.\n",
      "Parsing a document with 4 elements.\n",
      "Parsing a document with 3 elements.\n",
      "Parsing a document with 10 elements.\n",
      "Parsing a document with 2 elements.\n",
      "Parsing a document with 10 elements.\n",
      "Parsing a document with 8 elements.\n",
      "Parsing a document with 6 elements.\n",
      "Parsing a document with 5 elements.\n",
      "Parsing a document with 4 elements.\n",
      "Parsing a document with 5 elements.\n",
      "Parsing a document with 2 elements.\n",
      "Parsing a document with 1 elements.\n",
      "Parsing a document with 22 elements.\n",
      "Parsing a document with 12 elements.\n",
      "Parsing a document with 3 elements.\n",
      "Parsing a document with 3 elements.\n",
      "Parsing a document with 18 elements.\n",
      "Parsing a document with 5 elements.\n",
      "Parsing a document with 4 elements.\n",
      "Parsing a document with 4 elements.\n",
      "Parsing a document with 4 elements.\n",
      "Parsing a document with 20 elements.\n",
      "Parsing a document with 1 elements.\n",
      "Parsing a document with 3 elements.\n",
      "Parsing a document with 10 elements.\n",
      "Parsing a document with 4 elements.\n",
      "Parsing a document with 179 elements.\n",
      "Parsing a document with 4 elements.\n",
      "Parsing a document with 3 elements.\n",
      "Parsing a document with 2 elements.\n",
      "Parsing a document with 2 elements.\n",
      "Parsing a document with 10 elements.\n",
      "Parsing a document with 3 elements.\n",
      "Parsing a document with 4 elements.\n",
      "Parsing a document with 28 elements.\n",
      "Parsing a document with 8 elements.\n",
      "Parsing a document with 17 elements.\n",
      "Parsing a document with 3 elements.\n",
      "Parsing a document with 20 elements.\n",
      "Parsing a document with 2 elements.\n",
      "Parsing a document with 2 elements.\n",
      "Parsing a document with 3 elements.\n",
      "Parsing a document with 15 elements.\n",
      "Parsing a document with 2 elements.\n",
      "Parsing a document with 3 elements.\n",
      "Parsing a document with 3 elements.\n",
      "Parsing a document with 22 elements.\n",
      "Parsing a document with 1 elements.\n",
      "Parsing a document with 20 elements.\n",
      "Parsing a document with 3 elements.\n",
      "Parsing a document with 1 elements.\n",
      "Parsing a document with 1 elements.\n",
      "Parsing a document with 1 elements.\n",
      "Parsing a document with 2 elements.\n",
      "Parsing a document with 3 elements.\n",
      "Parsing a document with 2 elements.\n",
      "Parsing a document with 2 elements.\n",
      "Parsing a document with 4 elements.\n",
      "Parsing a document with 1 elements.\n",
      "Parsing a document with 22 elements.\n"
     ]
    },
    {
     "name": "stderr",
     "output_type": "stream",
     "text": [
      "PdfReadWarning: Xref table not zero-indexed. ID numbers for objects will be corrected. [pdf.py:1736]\n"
     ]
    },
    {
     "name": "stdout",
     "output_type": "stream",
     "text": [
      "Parsing a document with 1 elements.\n",
      "Parsing a document with 6 elements.\n",
      "Parsing a document with 4 elements.\n",
      "Parsing a document with 1 elements.\n",
      "Parsing a document with 3 elements.\n",
      "Parsing a document with 3 elements.\n",
      "Parsing a document with 2 elements.\n",
      "Parsing a document with 1 elements.\n",
      "Parsing a document with 6 elements.\n",
      "Parsing a document with 3 elements.\n",
      "Parsing a document with 10 elements.\n",
      "Parsing a document with 3 elements.\n",
      "Parsing a document with 5 elements.\n",
      "Parsing a document with 2 elements.\n",
      "Parsing a document with 10 elements.\n",
      "Parsing a document with 1 elements.\n",
      "Parsing a document with 5 elements.\n",
      "Parsing a document with 1 elements.\n",
      "Parsing a document with 2 elements.\n",
      "Parsing a document with 12 elements.\n",
      "Parsing a document with 5 elements.\n",
      "Parsing a document with 4 elements.\n",
      "Parsing a document with 8 elements.\n",
      "Parsing a document with 3 elements.\n",
      "Parsing a document with 30 elements.\n",
      "Parsing a document with 4 elements.\n",
      "Parsing a document with 9 elements.\n",
      "Parsing a document with 1 elements.\n",
      "Parsing a document with 4 elements.\n",
      "Parsing a document with 3 elements.\n",
      "Parsing a document with 16 elements.\n",
      "Parsing a document with 10 elements.\n",
      "Parsing a document with 16 elements.\n",
      "Parsing a document with 3 elements.\n",
      "Parsing a document with 3 elements.\n",
      "Parsing a document with 1 elements.\n",
      "Parsing a document with 3 elements.\n",
      "Parsing a document with 3 elements.\n",
      "Parsing a document with 2 elements.\n",
      "Parsing a document with 6 elements.\n"
     ]
    },
    {
     "name": "stderr",
     "output_type": "stream",
     "text": [
      "PdfReadWarning: Superfluous whitespace found in object header b'30' b'0' [pdf.py:1665]\n",
      "PdfReadWarning: Superfluous whitespace found in object header b'33' b'0' [pdf.py:1665]\n",
      "PdfReadWarning: Superfluous whitespace found in object header b'36' b'0' [pdf.py:1665]\n",
      "PdfReadWarning: Superfluous whitespace found in object header b'39' b'0' [pdf.py:1665]\n",
      "PdfReadWarning: Superfluous whitespace found in object header b'42' b'0' [pdf.py:1665]\n",
      "PdfReadWarning: Superfluous whitespace found in object header b'40' b'0' [pdf.py:1665]\n",
      "PdfReadWarning: Superfluous whitespace found in object header b'37' b'0' [pdf.py:1665]\n",
      "PdfReadWarning: Superfluous whitespace found in object header b'34' b'0' [pdf.py:1665]\n",
      "PdfReadWarning: Superfluous whitespace found in object header b'31' b'0' [pdf.py:1665]\n",
      "PdfReadWarning: Superfluous whitespace found in object header b'28' b'0' [pdf.py:1665]\n",
      "PdfReadWarning: Superfluous whitespace found in object header b'43' b'0' [pdf.py:1665]\n"
     ]
    },
    {
     "name": "stdout",
     "output_type": "stream",
     "text": [
      "Parsing a document with 32 elements.\n",
      "Parsing a document with 12 elements.\n",
      "Parsing a document with 4 elements.\n",
      "Parsing a document with 1 elements.\n",
      "Parsing a document with 4 elements.\n",
      "Parsing a document with 2 elements.\n",
      "Parsing a document with 10 elements.\n",
      "Parsing a document with 8 elements.\n",
      "Parsing a document with 2 elements.\n",
      "Parsing a document with 2 elements.\n",
      "Parsing a document with 1 elements.\n",
      "Parsing a document with 2 elements.\n",
      "Parsing a document with 23 elements.\n",
      "Parsing a document with 1 elements.\n",
      "Parsing a document with 35 elements.\n",
      "Parsing a document with 105 elements.\n",
      "Parsing a document with 5 elements.\n",
      "Parsing a document with 17 elements.\n",
      "Parsing a document with 2 elements.\n",
      "Parsing a document with 5 elements.\n",
      "Parsing a document with 3 elements.\n",
      "Parsing a document with 2 elements.\n",
      "Parsing a document with 4 elements.\n",
      "Parsing a document with 1 elements.\n",
      "Parsing a document with 2 elements.\n",
      "Parsing a document with 1 elements.\n",
      "Parsing a document with 1 elements.\n",
      "Parsing a document with 24 elements.\n",
      "Parsing a document with 3 elements.\n",
      "Parsing a document with 13 elements.\n",
      "Parsing a document with 6 elements.\n",
      "Parsing a document with 3 elements.\n",
      "Parsing a document with 2 elements.\n",
      "Parsing a document with 3 elements.\n",
      "Parsing a document with 69 elements.\n",
      "Parsing a document with 38 elements.\n",
      "Parsing a document with 24 elements.\n",
      "Parsing a document with 4 elements.\n",
      "Parsing a document with 3 elements.\n",
      "Parsing a document with 10 elements.\n",
      "Parsing a document with 2 elements.\n",
      "Parsing a document with 12 elements.\n",
      "Parsing a document with 3 elements.\n",
      "Parsing a document with 3 elements.\n",
      "Parsing a document with 14 elements.\n",
      "Parsing a document with 3 elements.\n",
      "Parsing a document with 5 elements.\n",
      "Parsing a document with 2 elements.\n",
      "Parsing a document with 21 elements.\n",
      "Parsing a document with 4 elements.\n",
      "Parsing a document with 2 elements.\n",
      "Parsing a document with 1 elements.\n",
      "Parsing a document with 7 elements.\n",
      "Parsing a document with 42 elements.\n",
      "Parsing a document with 7 elements.\n",
      "Parsing a document with 4 elements.\n",
      "Parsing a document with 3 elements.\n",
      "Parsing a document with 3 elements.\n",
      "Parsing a document with 4 elements.\n",
      "Parsing a document with 5 elements.\n",
      "Parsing a document with 32 elements.\n",
      "Parsing a document with 8 elements.\n",
      "Parsing a document with 3 elements.\n",
      "Parsing a document with 2 elements.\n",
      "Parsing a document with 2 elements.\n",
      "Parsing a document with 7 elements.\n",
      "Parsing a document with 7 elements.\n",
      "Parsing a document with 7 elements.\n",
      "Parsing a document with 3 elements.\n",
      "Parsing a document with 1 elements.\n",
      "Parsing a document with 2 elements.\n",
      "Parsing a document with 19 elements.\n",
      "Parsing a document with 1 elements.\n",
      "Parsing a document with 3 elements.\n",
      "Parsing a document with 2 elements.\n",
      "Parsing a document with 1 elements.\n",
      "Parsing a document with 2 elements.\n",
      "Parsing a document with 13 elements.\n",
      "Parsing a document with 5 elements.\n",
      "Parsing a document with 5 elements.\n",
      "Parsing a document with 10 elements.\n",
      "Parsing a document with 14 elements.\n",
      "Parsing a document with 131 elements.\n",
      "Parsing a document with 3 elements.\n",
      "Parsing a document with 2 elements.\n",
      "Parsing a document with 1 elements.\n",
      "Parsing a document with 1 elements.\n",
      "Parsing a document with 1 elements.\n",
      "Parsing a document with 1 elements.\n",
      "Parsing a document with 3 elements.\n",
      "Parsing a document with 1 elements.\n",
      "Parsing a document with 2 elements.\n",
      "Parsing a document with 12 elements.\n",
      "Parsing a document with 9 elements.\n",
      "Parsing a document with 2 elements.\n",
      "Parsing a document with 5 elements.\n",
      "Parsing a document with 14 elements.\n",
      "Parsing a document with 82 elements.\n",
      "Parsing a document with 15 elements.\n",
      "Parsing a document with 1 elements.\n",
      "Parsing a document with 24 elements.\n",
      "Parsing a document with 3 elements.\n",
      "Parsing a document with 19 elements.\n",
      "Parsing a document with 17 elements.\n",
      "Parsing a document with 14 elements.\n",
      "Parsing a document with 256 elements.\n",
      "Parsing a document with 3 elements.\n",
      "Parsing a document with 1 elements.\n",
      "Parsing a document with 1 elements.\n",
      "Parsing a document with 2 elements.\n",
      "Parsing a document with 10 elements.\n",
      "Parsing a document with 1 elements.\n",
      "Parsing a document with 37 elements.\n",
      "Parsing a document with 3 elements.\n",
      "Parsing a document with 2 elements.\n",
      "Parsing a document with 3 elements.\n",
      "Parsing a document with 4 elements.\n",
      "Parsing a document with 9 elements.\n",
      "Parsing a document with 1 elements.\n",
      "Parsing a document with 2 elements.\n",
      "Parsing a document with 9 elements.\n",
      "Parsing a document with 1 elements.\n",
      "Parsing a document with 21 elements.\n",
      "Parsing a document with 12 elements.\n",
      "Parsing a document with 2 elements.\n",
      "Parsing a document with 19 elements.\n",
      "Parsing a document with 22 elements.\n",
      "Parsing a document with 74 elements.\n",
      "Parsing complete. Corpus currently contains 3980 pages.\n",
      "This function returns a tuple of lists. tuple[0] = report_corpus; tuple[1] = speech_corpus.\n"
     ]
    }
   ],
   "source": [
    "corpus_no_replacement = text_collector_raw(pdf_paths)"
   ]
  },
  {
   "cell_type": "code",
   "execution_count": 5,
   "id": "41f62c1f-2700-48e2-81fc-02c58eb58a93",
   "metadata": {},
   "outputs": [
    {
     "name": "stdout",
     "output_type": "stream",
     "text": [
      "Parsing a document with 2 elements.\n",
      "Parsing a document with 1 elements.\n",
      "Parsing a document with 3 elements.\n",
      "Parsing a document with 31 elements.\n",
      "Parsing a document with 2 elements.\n",
      "Parsing a document with 6 elements.\n",
      "Parsing a document with 2 elements.\n",
      "Parsing a document with 7 elements.\n",
      "Parsing a document with 71 elements.\n",
      "Parsing a document with 5 elements.\n",
      "Parsing a document with 8 elements.\n",
      "Parsing a document with 11 elements.\n",
      "Parsing a document with 4 elements.\n",
      "Parsing a document with 7 elements.\n",
      "Parsing a document with 2 elements.\n",
      "Parsing a document with 3 elements.\n",
      "Parsing a document with 2 elements.\n",
      "Parsing a document with 5 elements.\n",
      "Parsing a document with 4 elements.\n",
      "Parsing a document with 2 elements.\n",
      "Parsing a document with 3 elements.\n",
      "Parsing a document with 2 elements.\n",
      "Parsing a document with 1 elements.\n",
      "Parsing a document with 4 elements.\n",
      "Parsing a document with 13 elements.\n",
      "Parsing a document with 33 elements.\n",
      "Parsing a document with 2 elements.\n",
      "Parsing a document with 2 elements.\n",
      "Parsing a document with 4 elements.\n",
      "Parsing a document with 12 elements.\n",
      "Parsing a document with 2 elements.\n",
      "Parsing a document with 28 elements.\n",
      "Parsing a document with 13 elements.\n",
      "Parsing a document with 2 elements.\n",
      "Parsing a document with 35 elements.\n",
      "Parsing a document with 3 elements.\n",
      "Parsing a document with 3 elements.\n",
      "Parsing a document with 3 elements.\n",
      "Parsing a document with 27 elements.\n",
      "Parsing a document with 4 elements.\n",
      "Parsing a document with 2 elements.\n",
      "Parsing a document with 2 elements.\n",
      "Parsing a document with 2 elements.\n",
      "Parsing a document with 5 elements.\n",
      "Parsing a document with 3 elements.\n",
      "Parsing a document with 5 elements.\n",
      "Parsing a document with 2 elements.\n",
      "Parsing a document with 1 elements.\n",
      "Parsing a document with 1 elements.\n",
      "Parsing a document with 2 elements.\n",
      "Parsing a document with 13 elements.\n",
      "Parsing a document with 3 elements.\n",
      "Parsing a document with 1 elements.\n",
      "Parsing a document with 23 elements.\n",
      "Parsing a document with 4 elements.\n",
      "Parsing a document with 13 elements.\n",
      "Parsing a document with 42 elements.\n",
      "Parsing a document with 2 elements.\n",
      "Parsing a document with 9 elements.\n",
      "Parsing a document with 2 elements.\n",
      "Parsing a document with 1 elements.\n",
      "Parsing a document with 7 elements.\n",
      "Parsing a document with 35 elements.\n",
      "Parsing a document with 9 elements.\n",
      "Parsing a document with 2 elements.\n",
      "Parsing a document with 4 elements.\n",
      "Parsing a document with 2 elements.\n",
      "Parsing a document with 93 elements.\n",
      "Parsing a document with 1 elements.\n",
      "Parsing a document with 24 elements.\n",
      "Parsing a document with 2 elements.\n",
      "Parsing a document with 23 elements.\n",
      "Parsing a document with 9 elements.\n",
      "Parsing a document with 4 elements.\n",
      "Parsing a document with 3 elements.\n",
      "Parsing a document with 5 elements.\n",
      "Parsing a document with 4 elements.\n",
      "Parsing a document with 5 elements.\n",
      "Parsing a document with 2 elements.\n",
      "Parsing a document with 2 elements.\n",
      "Parsing a document with 2 elements.\n",
      "Parsing a document with 16 elements.\n",
      "Parsing a document with 3 elements.\n",
      "Parsing a document with 2 elements.\n",
      "Parsing a document with 8 elements.\n",
      "Parsing a document with 6 elements.\n",
      "Parsing a document with 14 elements.\n",
      "Parsing a document with 2 elements.\n",
      "Parsing a document with 10 elements.\n",
      "Parsing a document with 1 elements.\n",
      "Parsing a document with 3 elements.\n",
      "Parsing a document with 5 elements.\n",
      "Parsing a document with 15 elements.\n",
      "Parsing a document with 9 elements.\n",
      "Parsing a document with 1 elements.\n",
      "Parsing a document with 242 elements.\n",
      "Parsing a document with 7 elements.\n",
      "Parsing a document with 56 elements.\n",
      "Parsing a document with 2 elements.\n",
      "Parsing a document with 2 elements.\n",
      "Parsing a document with 1 elements.\n",
      "Parsing a document with 7 elements.\n",
      "Parsing a document with 2 elements.\n",
      "Parsing a document with 4 elements.\n",
      "Parsing a document with 4 elements.\n",
      "Parsing a document with 4 elements.\n",
      "Parsing a document with 4 elements.\n",
      "Parsing a document with 6 elements.\n",
      "Parsing a document with 6 elements.\n",
      "Parsing a document with 2 elements.\n",
      "Parsing a document with 10 elements.\n",
      "Parsing a document with 2 elements.\n",
      "Parsing a document with 36 elements.\n",
      "Parsing a document with 3 elements.\n",
      "Parsing a document with 7 elements.\n",
      "Parsing a document with 6 elements.\n",
      "Parsing a document with 6 elements.\n",
      "Parsing a document with 3 elements.\n",
      "Parsing a document with 2 elements.\n",
      "Parsing a document with 4 elements.\n",
      "Parsing a document with 9 elements.\n",
      "Parsing a document with 2 elements.\n",
      "Parsing a document with 5 elements.\n",
      "Parsing a document with 3 elements.\n",
      "Parsing a document with 4 elements.\n",
      "Parsing a document with 80 elements.\n",
      "Parsing a document with 1 elements.\n",
      "Parsing a document with 7 elements.\n",
      "Parsing a document with 1 elements.\n",
      "Parsing a document with 4 elements.\n",
      "Parsing a document with 22 elements.\n",
      "Parsing a document with 11 elements.\n",
      "Parsing a document with 3 elements.\n",
      "Parsing a document with 17 elements.\n",
      "Parsing a document with 5 elements.\n",
      "Parsing a document with 1 elements.\n",
      "Parsing a document with 36 elements.\n",
      "Parsing a document with 1 elements.\n",
      "Parsing a document with 16 elements.\n",
      "Parsing a document with 15 elements.\n",
      "Parsing a document with 2 elements.\n",
      "Parsing a document with 16 elements.\n",
      "Parsing a document with 1 elements.\n",
      "Parsing a document with 28 elements.\n",
      "Parsing a document with 7 elements.\n",
      "Parsing a document with 2 elements.\n",
      "Parsing a document with 4 elements.\n",
      "Parsing a document with 153 elements.\n",
      "Parsing a document with 27 elements.\n",
      "Parsing a document with 2 elements.\n",
      "Parsing a document with 1 elements.\n",
      "Parsing a document with 6 elements.\n",
      "Parsing a document with 15 elements.\n",
      "Parsing a document with 1 elements.\n",
      "Parsing a document with 11 elements.\n",
      "Parsing a document with 2 elements.\n",
      "Parsing a document with 2 elements.\n",
      "Parsing a document with 15 elements.\n",
      "Parsing a document with 4 elements.\n",
      "Parsing a document with 7 elements.\n",
      "Parsing a document with 3 elements.\n",
      "Parsing a document with 11 elements.\n",
      "Parsing a document with 11 elements.\n",
      "Parsing a document with 2 elements.\n",
      "Parsing a document with 3 elements.\n",
      "Parsing a document with 7 elements.\n",
      "Parsing a document with 4 elements.\n",
      "Parsing a document with 12 elements.\n",
      "Parsing a document with 1 elements.\n",
      "Parsing a document with 15 elements.\n",
      "Parsing a document with 3 elements.\n",
      "Parsing a document with 1 elements.\n",
      "Parsing a document with 1 elements.\n",
      "Parsing a document with 5 elements.\n",
      "Parsing a document with 5 elements.\n",
      "Parsing a document with 3 elements.\n",
      "Parsing a document with 2 elements.\n",
      "Parsing a document with 13 elements.\n",
      "Parsing a document with 8 elements.\n",
      "Parsing a document with 3 elements.\n",
      "Parsing a document with 3 elements.\n",
      "Parsing a document with 3 elements.\n",
      "Parsing a document with 12 elements.\n",
      "Parsing a document with 10 elements.\n",
      "Parsing a document with 4 elements.\n",
      "Parsing a document with 3 elements.\n",
      "Parsing a document with 10 elements.\n",
      "Parsing a document with 2 elements.\n",
      "Parsing a document with 10 elements.\n",
      "Parsing a document with 8 elements.\n",
      "Parsing a document with 6 elements.\n",
      "Parsing a document with 5 elements.\n",
      "Parsing a document with 4 elements.\n",
      "Parsing a document with 5 elements.\n",
      "Parsing a document with 2 elements.\n",
      "Parsing a document with 1 elements.\n",
      "Parsing a document with 22 elements.\n",
      "Parsing a document with 12 elements.\n",
      "Parsing a document with 3 elements.\n",
      "Parsing a document with 3 elements.\n",
      "Parsing a document with 18 elements.\n",
      "Parsing a document with 5 elements.\n",
      "Parsing a document with 4 elements.\n",
      "Parsing a document with 4 elements.\n",
      "Parsing a document with 4 elements.\n",
      "Parsing a document with 20 elements.\n",
      "Parsing a document with 1 elements.\n",
      "Parsing a document with 3 elements.\n",
      "Parsing a document with 10 elements.\n",
      "Parsing a document with 4 elements.\n",
      "Parsing a document with 179 elements.\n",
      "Parsing a document with 4 elements.\n",
      "Parsing a document with 3 elements.\n",
      "Parsing a document with 2 elements.\n",
      "Parsing a document with 2 elements.\n",
      "Parsing a document with 10 elements.\n",
      "Parsing a document with 3 elements.\n",
      "Parsing a document with 4 elements.\n",
      "Parsing a document with 28 elements.\n",
      "Parsing a document with 8 elements.\n",
      "Parsing a document with 17 elements.\n",
      "Parsing a document with 3 elements.\n",
      "Parsing a document with 20 elements.\n",
      "Parsing a document with 2 elements.\n",
      "Parsing a document with 2 elements.\n",
      "Parsing a document with 3 elements.\n",
      "Parsing a document with 15 elements.\n",
      "Parsing a document with 2 elements.\n",
      "Parsing a document with 3 elements.\n",
      "Parsing a document with 3 elements.\n",
      "Parsing a document with 22 elements.\n",
      "Parsing a document with 1 elements.\n",
      "Parsing a document with 20 elements.\n",
      "Parsing a document with 3 elements.\n",
      "Parsing a document with 1 elements.\n",
      "Parsing a document with 1 elements.\n",
      "Parsing a document with 1 elements.\n",
      "Parsing a document with 2 elements.\n",
      "Parsing a document with 3 elements.\n",
      "Parsing a document with 2 elements.\n",
      "Parsing a document with 2 elements.\n",
      "Parsing a document with 4 elements.\n",
      "Parsing a document with 1 elements.\n",
      "Parsing a document with 22 elements.\n",
      "Parsing a document with 1 elements.\n",
      "Parsing a document with 6 elements.\n",
      "Parsing a document with 4 elements.\n",
      "Parsing a document with 1 elements.\n",
      "Parsing a document with 3 elements.\n",
      "Parsing a document with 3 elements.\n",
      "Parsing a document with 2 elements.\n",
      "Parsing a document with 1 elements.\n",
      "Parsing a document with 6 elements.\n",
      "Parsing a document with 3 elements.\n",
      "Parsing a document with 10 elements.\n",
      "Parsing a document with 3 elements.\n",
      "Parsing a document with 5 elements.\n",
      "Parsing a document with 2 elements.\n",
      "Parsing a document with 10 elements.\n",
      "Parsing a document with 1 elements.\n",
      "Parsing a document with 5 elements.\n",
      "Parsing a document with 1 elements.\n",
      "Parsing a document with 2 elements.\n",
      "Parsing a document with 12 elements.\n",
      "Parsing a document with 5 elements.\n",
      "Parsing a document with 4 elements.\n",
      "Parsing a document with 8 elements.\n",
      "Parsing a document with 3 elements.\n",
      "Parsing a document with 30 elements.\n",
      "Parsing a document with 4 elements.\n",
      "Parsing a document with 9 elements.\n",
      "Parsing a document with 1 elements.\n",
      "Parsing a document with 4 elements.\n",
      "Parsing a document with 3 elements.\n",
      "Parsing a document with 16 elements.\n",
      "Parsing a document with 10 elements.\n",
      "Parsing a document with 16 elements.\n",
      "Parsing a document with 3 elements.\n",
      "Parsing a document with 3 elements.\n",
      "Parsing a document with 1 elements.\n",
      "Parsing a document with 3 elements.\n",
      "Parsing a document with 3 elements.\n",
      "Parsing a document with 2 elements.\n",
      "Parsing a document with 6 elements.\n",
      "Parsing a document with 32 elements.\n",
      "Parsing a document with 12 elements.\n",
      "Parsing a document with 4 elements.\n",
      "Parsing a document with 1 elements.\n",
      "Parsing a document with 4 elements.\n",
      "Parsing a document with 2 elements.\n",
      "Parsing a document with 10 elements.\n",
      "Parsing a document with 8 elements.\n",
      "Parsing a document with 2 elements.\n",
      "Parsing a document with 2 elements.\n",
      "Parsing a document with 1 elements.\n",
      "Parsing a document with 2 elements.\n",
      "Parsing a document with 23 elements.\n",
      "Parsing a document with 1 elements.\n",
      "Parsing a document with 35 elements.\n",
      "Parsing a document with 105 elements.\n",
      "Parsing a document with 5 elements.\n",
      "Parsing a document with 17 elements.\n",
      "Parsing a document with 2 elements.\n",
      "Parsing a document with 5 elements.\n",
      "Parsing a document with 3 elements.\n",
      "Parsing a document with 2 elements.\n",
      "Parsing a document with 4 elements.\n",
      "Parsing a document with 1 elements.\n",
      "Parsing a document with 2 elements.\n",
      "Parsing a document with 1 elements.\n",
      "Parsing a document with 1 elements.\n",
      "Parsing a document with 24 elements.\n",
      "Parsing a document with 3 elements.\n",
      "Parsing a document with 13 elements.\n",
      "Parsing a document with 6 elements.\n",
      "Parsing a document with 3 elements.\n",
      "Parsing a document with 2 elements.\n",
      "Parsing a document with 3 elements.\n",
      "Parsing a document with 69 elements.\n",
      "Parsing a document with 38 elements.\n",
      "Parsing a document with 24 elements.\n",
      "Parsing a document with 4 elements.\n",
      "Parsing a document with 3 elements.\n",
      "Parsing a document with 10 elements.\n",
      "Parsing a document with 2 elements.\n",
      "Parsing a document with 12 elements.\n",
      "Parsing a document with 3 elements.\n",
      "Parsing a document with 3 elements.\n",
      "Parsing a document with 14 elements.\n",
      "Parsing a document with 3 elements.\n",
      "Parsing a document with 5 elements.\n",
      "Parsing a document with 2 elements.\n",
      "Parsing a document with 21 elements.\n",
      "Parsing a document with 4 elements.\n",
      "Parsing a document with 2 elements.\n",
      "Parsing a document with 1 elements.\n",
      "Parsing a document with 7 elements.\n",
      "Parsing a document with 42 elements.\n",
      "Parsing a document with 7 elements.\n",
      "Parsing a document with 4 elements.\n",
      "Parsing a document with 3 elements.\n",
      "Parsing a document with 3 elements.\n",
      "Parsing a document with 4 elements.\n",
      "Parsing a document with 5 elements.\n",
      "Parsing a document with 32 elements.\n",
      "Parsing a document with 8 elements.\n",
      "Parsing a document with 3 elements.\n",
      "Parsing a document with 2 elements.\n",
      "Parsing a document with 2 elements.\n",
      "Parsing a document with 7 elements.\n",
      "Parsing a document with 7 elements.\n",
      "Parsing a document with 7 elements.\n",
      "Parsing a document with 3 elements.\n",
      "Parsing a document with 1 elements.\n",
      "Parsing a document with 2 elements.\n",
      "Parsing a document with 19 elements.\n",
      "Parsing a document with 1 elements.\n",
      "Parsing a document with 3 elements.\n",
      "Parsing a document with 2 elements.\n",
      "Parsing a document with 1 elements.\n",
      "Parsing a document with 2 elements.\n",
      "Parsing a document with 13 elements.\n",
      "Parsing a document with 5 elements.\n",
      "Parsing a document with 5 elements.\n",
      "Parsing a document with 10 elements.\n",
      "Parsing a document with 14 elements.\n",
      "Parsing a document with 131 elements.\n",
      "Parsing a document with 3 elements.\n",
      "Parsing a document with 2 elements.\n",
      "Parsing a document with 1 elements.\n",
      "Parsing a document with 1 elements.\n",
      "Parsing a document with 1 elements.\n",
      "Parsing a document with 1 elements.\n",
      "Parsing a document with 3 elements.\n",
      "Parsing a document with 1 elements.\n",
      "Parsing a document with 2 elements.\n",
      "Parsing a document with 12 elements.\n",
      "Parsing a document with 9 elements.\n",
      "Parsing a document with 2 elements.\n",
      "Parsing a document with 5 elements.\n",
      "Parsing a document with 14 elements.\n",
      "Parsing a document with 82 elements.\n",
      "Parsing a document with 15 elements.\n",
      "Parsing a document with 1 elements.\n",
      "Parsing a document with 24 elements.\n",
      "Parsing a document with 3 elements.\n",
      "Parsing a document with 19 elements.\n",
      "Parsing a document with 17 elements.\n",
      "Parsing a document with 14 elements.\n",
      "Parsing a document with 256 elements.\n",
      "Parsing a document with 3 elements.\n",
      "Parsing a document with 1 elements.\n",
      "Parsing a document with 1 elements.\n",
      "Parsing a document with 2 elements.\n",
      "Parsing a document with 10 elements.\n",
      "Parsing a document with 1 elements.\n",
      "Parsing a document with 37 elements.\n",
      "Parsing a document with 3 elements.\n",
      "Parsing a document with 2 elements.\n",
      "Parsing a document with 3 elements.\n",
      "Parsing a document with 4 elements.\n",
      "Parsing a document with 9 elements.\n",
      "Parsing a document with 1 elements.\n",
      "Parsing a document with 2 elements.\n",
      "Parsing a document with 9 elements.\n",
      "Parsing a document with 1 elements.\n",
      "Parsing a document with 21 elements.\n",
      "Parsing a document with 12 elements.\n",
      "Parsing a document with 2 elements.\n",
      "Parsing a document with 19 elements.\n",
      "Parsing a document with 22 elements.\n",
      "Parsing a document with 74 elements.\n",
      "Parsing complete. Corpus currently contains 3980 pages.\n",
      "This function returns a tuple of lists. tuple[0] = report_corpus; tuple[1] = speech_corpus.\n"
     ]
    }
   ],
   "source": [
    "corpus_with_replacement = text_collector_remove_breaks(pdf_paths)"
   ]
  },
  {
   "cell_type": "code",
   "execution_count": 6,
   "id": "b6417c4a-a870-44a2-9966-569c3c1f83c5",
   "metadata": {},
   "outputs": [
    {
     "data": {
      "text/plain": [
       "(232, 120)"
      ]
     },
     "execution_count": 6,
     "metadata": {},
     "output_type": "execute_result"
    }
   ],
   "source": [
    "len(corpus_no_replacement[0]), len(corpus_no_replacement[1])"
   ]
  },
  {
   "cell_type": "code",
   "execution_count": 7,
   "id": "72a220d8-120f-445e-a062-515d5640df8a",
   "metadata": {},
   "outputs": [
    {
     "data": {
      "text/plain": [
       "(232, 120)"
      ]
     },
     "execution_count": 7,
     "metadata": {},
     "output_type": "execute_result"
    }
   ],
   "source": [
    "len(corpus_with_replacement[0]), len(corpus_with_replacement[1])"
   ]
  },
  {
   "cell_type": "code",
   "execution_count": 8,
   "id": "6670dfda-2196-4a76-b49b-42131c0eaa63",
   "metadata": {},
   "outputs": [],
   "source": [
    "raw_speeches = corpus_no_replacement[1]\n",
    "raw_reports = corpus_no_replacement[0]\n",
    "\n",
    "readable_speeches = corpus_with_replacement[1]\n",
    "readable_reports = corpus_with_replacement[0]"
   ]
  },
  {
   "cell_type": "code",
   "execution_count": 9,
   "id": "3d75392e-80bc-428b-87e4-5cccc7c3c4a8",
   "metadata": {},
   "outputs": [
    {
     "data": {
      "text/plain": [
       "['PACIFIC ISLANDS FORUM \\n \\n \\n \\n \\nUNFCCC COP 26 HIGH LEVEL SEGMENT\\n \\nStatement by the Secretary General of the Pacific Islands Forum\\n \\nMr Henry Puna\\n \\n10 \\nNovember 2021\\n \\n \\n \\nMr\\n \\nPresident,\\n \\n \\n \\nAs the \\nPacific Islands Forum\\n, we are 18 countries \\nworking \\nfor \\na peaceful, \\ninclusive and prosperous region.\\n \\n \\nWe are the Blue Pacific Continent. \\nAnd w\\ne are the frontlines of the climate \\nchange crisis. \\n \\n \\nO\\nur islands, our ocean\\n, our people\\n \\nalready face\\n \\nthe devastating impacts of climate \\nchange\\n \\nincluding\\n \\nrising seas, king tides and ravaging cyclones.\\n \\n \\nAnd \\nso \\nwe c\\no\\nme \\nhere \\nto Glasgow with\\n \\na\\n \\ncritical goal in mind. \\n \\n \\nTo limit global warming to 1.5 degrees. \\nThis is our survival roadmap. \\n \\n \\nP\\nacific \\nI\\nsland \\nF\\norum \\nL\\neaders \\nre\\ncognise\\n \\nclimate change as the single greatest \\nthreat to our region. \\n \\n \\nThat is why \\naction at this \\nCOP 26 is so critical. \\n \\n \\nWhile there has been progress in the negotiations, more needs to be achieved. \\n \\n \\nCOP26 must\\n \\nkeep 1.5 degrees within reach\\n, \\nconclude the Paris Rulebook\\n, \\nand \\ndeliver scaled up \\nclimate finance\\n.\\n \\n \\nCOP26 \\nmust \\nalso \\naccelerate work on Loss and Damage\\n \\nand\\n \\non oceans\\n. \\n \\n \\nMr President\\n, \\nPacific \\nLeaders \\nare leading\\n \\non \\nclimate action\\n \\ndespite contributing \\nnegligibly to the crisis\\n. \\n \\n \\n',\n",
       " 'Pacific \\nLeaders \\nhave endorsed a\\n \\nDeclaration \\non Preserving M\\naritime \\nZ\\nones in the \\nface of \\nC\\nlimate\\n \\nC\\nhange\\n-\\nrelated \\nS\\nea\\n-\\nlevel \\nR\\nise\\n \\nand a \\nPacific Resilience Facility\\n,\\n \\nto\\n \\nbuild resilient communities. \\n \\n \\n \\nMr President, o\\nur future \\n\\n \\nas oceanic peoples living on a sea of islands\\n \\n-\\n \\nis in the \\nhands of this multilateral process. \\n \\n \\nL\\net me\\n \\nimplore all countries\\n \\n-\\n \\nespecially the big emitters \\n-\\n \\nto act with ambition.  \\nTo act now. \\n \\n \\nWe cannot delay. \\n \\n \\nThank you. \\n \\n \\n \\n \\n']"
      ]
     },
     "execution_count": 9,
     "metadata": {},
     "output_type": "execute_result"
    }
   ],
   "source": [
    "raw_speeches[0]"
   ]
  },
  {
   "cell_type": "code",
   "execution_count": 10,
   "id": "65e31680-e3a5-4e32-918b-8ef0c6522669",
   "metadata": {},
   "outputs": [],
   "source": [
    "test_split = raw_speeches[0][0].split('\\n \\n \\n')\n",
    "test_replace = []\n",
    "\n",
    "for _ in test_split:\n",
    "    test_replace.append(_.replace('\\n', ''))"
   ]
  },
  {
   "cell_type": "code",
   "execution_count": 11,
   "id": "63a311fa-7f71-485d-8094-ea7ea42de6d0",
   "metadata": {},
   "outputs": [
    {
     "data": {
      "text/plain": [
       "['PACIFIC ISLANDS FORUM ',\n",
       " '  UNFCCC COP 26 HIGH LEVEL SEGMENT Statement by the Secretary General of the Pacific Islands Forum Mr Henry Puna 10 November 2021',\n",
       " ' Mr President,',\n",
       " ' As the Pacific Islands Forum, we are 18 countries working for a peaceful, inclusive and prosperous region.',\n",
       " 'We are the Blue Pacific Continent. And we are the frontlines of the climate change crisis. ',\n",
       " 'Our islands, our ocean, our people already face the devastating impacts of climate change including rising seas, king tides and ravaging cyclones.',\n",
       " 'And so we come here to Glasgow with a critical goal in mind. ',\n",
       " 'To limit global warming to 1.5 degrees. This is our survival roadmap. ',\n",
       " 'Pacific Island Forum Leaders recognise climate change as the single greatest threat to our region. ',\n",
       " 'That is why action at this COP 26 is so critical. ',\n",
       " 'While there has been progress in the negotiations, more needs to be achieved. ',\n",
       " 'COP26 must keep 1.5 degrees within reach, conclude the Paris Rulebook, and deliver scaled up climate finance.',\n",
       " 'COP26 must also accelerate work on Loss and Damage and on oceans. ',\n",
       " 'Mr President, Pacific Leaders are leading on climate action despite contributing negligibly to the crisis. ',\n",
       " '']"
      ]
     },
     "execution_count": 11,
     "metadata": {},
     "output_type": "execute_result"
    }
   ],
   "source": [
    "test_replace"
   ]
  },
  {
   "cell_type": "code",
   "execution_count": 159,
   "id": "036498fa-0a41-4053-9097-f4517d77b94c",
   "metadata": {},
   "outputs": [],
   "source": [
    "#readable_speeches[0]"
   ]
  },
  {
   "cell_type": "code",
   "execution_count": 158,
   "id": "437ea31c-0667-427b-a14c-bc0c884cb9f1",
   "metadata": {},
   "outputs": [],
   "source": [
    "#raw_reports[185]"
   ]
  },
  {
   "cell_type": "code",
   "execution_count": 160,
   "id": "19fb5820-271d-4be3-afd4-0ee6a1399a62",
   "metadata": {},
   "outputs": [],
   "source": [
    "#readable_reports[185]"
   ]
  },
  {
   "cell_type": "code",
   "execution_count": 153,
   "id": "9eac07a4-b813-4d32-8542-5f8cc359ae7d",
   "metadata": {},
   "outputs": [
    {
     "data": {
      "text/plain": [
       "list"
      ]
     },
     "execution_count": 153,
     "metadata": {},
     "output_type": "execute_result"
    }
   ],
   "source": [
    "type(raw_reports[0])"
   ]
  },
  {
   "cell_type": "code",
   "execution_count": 40,
   "id": "ec70aa6c-ba08-4882-8753-3bf92e62e704",
   "metadata": {},
   "outputs": [],
   "source": [
    "roman = ['I.','II.','III.','IV.','V.','VI.','VII.','VIII.','IX.','X.','XI.','XII.','XIII.','XIV.','XV.','XVI.','XVII.','XVIII.','XIX.','XX.','XXI.','XXII.','XXIII.','XXIV.','XXV.','XXVI.','XXVII.','XXVIII.','XXIX.','XXX.']\n",
    "subtopics_dot = []\n",
    "subtopics = []\n",
    "\n",
    "for i in range(101):\n",
    "    subtopics_dot.append(str(i)+'.')\n",
    "    subtopics.append(str(i))"
   ]
  },
  {
   "cell_type": "code",
   "execution_count": 162,
   "id": "ee2c96f6-ca16-48ff-8288-eaebdc2b8f23",
   "metadata": {},
   "outputs": [],
   "source": [
    "#raw_reports[1][1:2]"
   ]
  },
  {
   "cell_type": "code",
   "execution_count": 226,
   "id": "a2546eb6-dbf1-4696-b2f1-156be4c81570",
   "metadata": {},
   "outputs": [],
   "source": [
    "test_split2 = []\n",
    "\n",
    "for i in raw_reports[1]:\n",
    "    for j in i.split():\n",
    "        #print(j)\n",
    "        if j in roman:\n",
    "            test_split2.append(i.split(j))\n",
    "    else:\n",
    "        test_split2.append(j)\n",
    "        \n",
    "test_split3 = []\n",
    "for _ in test_split2:\n",
    "    for __ in _:\n",
    "        test_split3.append(__.split('\\n \\n \\n'))\n",
    "\n",
    "test_split4 = []\n",
    "for i in test_split3:\n",
    "    for j in i:\n",
    "        j = j.replace('\\n','')\n",
    "        test_split4.append(j)"
   ]
  },
  {
   "cell_type": "code",
   "execution_count": 276,
   "id": "253b40d3-d36a-4504-8b11-6fc8fcc572f7",
   "metadata": {
    "tags": []
   },
   "outputs": [],
   "source": [
    "#test_split4"
   ]
  },
  {
   "cell_type": "code",
   "execution_count": 161,
   "id": "530626db-c887-4f87-a96c-81abd4d14d0d",
   "metadata": {},
   "outputs": [],
   "source": [
    "#raw_reports[1]"
   ]
  },
  {
   "cell_type": "code",
   "execution_count": 42,
   "id": "e62eccbc-600e-44ca-beb6-2154de8c3a7e",
   "metadata": {},
   "outputs": [],
   "source": [
    "# getting ahead of myself!\n",
    "\n",
    "#cv = CountVectorizer(stop_words='english', min_df = .03, max_df = .97)\n",
    "#text_cv = cv.fit_transform(flat_corpus)\n",
    "#text_from_cv = pd.DataFrame(text_cv.toarray(), columns=cv.get_feature_names())\n",
    "\n",
    "#tfidf = TfidfVectorizer()\n",
    "#text_tfidf = tfidf.fit_transform(flat_corpus)\n",
    "#text_from_tfidf = pd.DataFrame(text_tfidf.toarray(), columns=tfidf.get_feature_names())"
   ]
  },
  {
   "cell_type": "code",
   "execution_count": 43,
   "id": "6103ffbc-2e16-4e51-ab29-b373f59542ac",
   "metadata": {},
   "outputs": [],
   "source": [
    "#text_from_cv.to_csv('text_cv.csv')\n",
    "#text_from_tfidf.to_csv('text_tfidf.csv')"
   ]
  },
  {
   "cell_type": "markdown",
   "id": "db29cdec-087a-4599-9dd2-f0a0abe6a538",
   "metadata": {},
   "source": [
    "### Pre-Modeling Work:\n",
    "\n",
    "- [x] Create raw text corpus\n",
    "- [x] Create corpus with \\n's removed\n",
    "- [ ] Convert both corpi into dataframes\n",
    "- [x] Tokenize documents on paragraphs\n",
    "  - [x] 3+ \\n's for speeches? seems pretty good!\n",
    "  - [x] roman numerals and numbers for reports? I think I've got it where I want it for now...\n",
    "- [ ] Preprocess corpi:\n",
    "  - [ ] remove stop words\n",
    "  - [ ] lemmatize\n",
    "  - [ ] min_df value?\n",
    "  - [ ] max_df value?\n",
    "- [ ] CountVectorize both corpi\n",
    "- [ ] TfidfVectorize both corpi\n",
    "- [ ] Named Entity Recognition?"
   ]
  },
  {
   "cell_type": "code",
   "execution_count": 44,
   "id": "e8838e08-1766-44fb-b78c-611d2111be46",
   "metadata": {},
   "outputs": [],
   "source": [
    "#corpus_no_replacement[0]"
   ]
  },
  {
   "cell_type": "code",
   "execution_count": 45,
   "id": "384535a2-4101-4789-a02b-da32037311aa",
   "metadata": {},
   "outputs": [],
   "source": [
    "#corpus_with_replacement[0]"
   ]
  },
  {
   "cell_type": "code",
   "execution_count": 47,
   "id": "2b259d94-2984-469d-bbc4-9ba5be8dd856",
   "metadata": {},
   "outputs": [],
   "source": [
    "#corpus_no_replacement[0][0]"
   ]
  },
  {
   "cell_type": "code",
   "execution_count": 240,
   "id": "9854dfe0-2104-4ee8-b837-86d39e5d5643",
   "metadata": {},
   "outputs": [
    {
     "data": {
      "text/plain": [
       "232"
      ]
     },
     "execution_count": 240,
     "metadata": {},
     "output_type": "execute_result"
    }
   ],
   "source": [
    "len(raw_reports)"
   ]
  },
  {
   "cell_type": "code",
   "execution_count": 123,
   "id": "fe3871ab-1fea-47f3-a1f0-3d9e9fd03e22",
   "metadata": {},
   "outputs": [],
   "source": [
    "speeches = []\n",
    "reports = []\n",
    "\n",
    "for doc in raw_speeches:\n",
    "    for page in doc:\n",
    "        speeches.append(page)\n",
    "\n",
    "for doc in raw_reports:\n",
    "    for page in doc:\n",
    "        reports.append(page)"
   ]
  },
  {
   "cell_type": "code",
   "execution_count": 124,
   "id": "b930fc3d-c8d8-400b-bab5-2af85435f019",
   "metadata": {},
   "outputs": [
    {
     "data": {
      "text/plain": [
       "'PACIFIC ISLANDS FORUM \\n \\n \\n \\n \\nUNFCCC COP 26 HIGH LEVEL SEGMENT\\n \\nStatement by the Secretary General of the Pacific Islands Forum\\n \\nMr Henry Puna\\n \\n10 \\nNovember 2021\\n \\n \\n \\nMr\\n \\nPresident,\\n \\n \\n \\nAs the \\nPacific Islands Forum\\n, we are 18 countries \\nworking \\nfor \\na peaceful, \\ninclusive and prosperous region.\\n \\n \\nWe are the Blue Pacific Continent. \\nAnd w\\ne are the frontlines of the climate \\nchange crisis. \\n \\n \\nO\\nur islands, our ocean\\n, our people\\n \\nalready face\\n \\nthe devastating impacts of climate \\nchange\\n \\nincluding\\n \\nrising seas, king tides and ravaging cyclones.\\n \\n \\nAnd \\nso \\nwe c\\no\\nme \\nhere \\nto Glasgow with\\n \\na\\n \\ncritical goal in mind. \\n \\n \\nTo limit global warming to 1.5 degrees. \\nThis is our survival roadmap. \\n \\n \\nP\\nacific \\nI\\nsland \\nF\\norum \\nL\\neaders \\nre\\ncognise\\n \\nclimate change as the single greatest \\nthreat to our region. \\n \\n \\nThat is why \\naction at this \\nCOP 26 is so critical. \\n \\n \\nWhile there has been progress in the negotiations, more needs to be achieved. \\n \\n \\nCOP26 must\\n \\nkeep 1.5 degrees within reach\\n, \\nconclude the Paris Rulebook\\n, \\nand \\ndeliver scaled up \\nclimate finance\\n.\\n \\n \\nCOP26 \\nmust \\nalso \\naccelerate work on Loss and Damage\\n \\nand\\n \\non oceans\\n. \\n \\n \\nMr President\\n, \\nPacific \\nLeaders \\nare leading\\n \\non \\nclimate action\\n \\ndespite contributing \\nnegligibly to the crisis\\n. \\n \\n \\n'"
      ]
     },
     "execution_count": 124,
     "metadata": {},
     "output_type": "execute_result"
    }
   ],
   "source": [
    "speeches[0]"
   ]
  },
  {
   "cell_type": "code",
   "execution_count": 125,
   "id": "e763a38e-1382-4a09-81f3-e597b3f5ff39",
   "metadata": {},
   "outputs": [
    {
     "data": {
      "text/plain": [
       "'RIVER CLYDE\\nMAIN &MINISTERIAL\\nENTRANCEEXIT TO\\nTRAINSMAIN EXIT TO \\nSHUTTLE SERVICES \\n& GREEN ZONE\\nBRIDGESITE MAP  Entrance \\nSecurityRegistration\\nNursing Room\\nCloakroom\\n  \\nDelegations™ Pavilions \\nPress Conference Room\\n Ł Durdle Door\\nSide Event Room \\n Ł Loch Lomond\\nSide Event Studios\\n Ł Skomer\\n Ł South Downs\\nSide Events & Exhibits\\n Co-ordination Team\\nCapacity Building Hub\\nMeeting Rooms 22-24\\n\\nNatWest Bank\\nMeditation Room\\nNursing Room\\nCatering\\n Clydebuilt Bar & Kitchen, \\n Conwy Restaurant, \\n Deli, Lagan Restaurant, \\n \\n Action Zone\\n Ł Action Hub\\n Ł Action Rooms 1 & 2\\n Ł \\n Ł \\nHydro Club\\n Ł Broadcast Studios\\nDettol Hygiene Counter\\nSSE Recharge Lounge\\nComputer Centre\\nServices Counters\\n Ł Information\\nŁ Lost & Found\\nŁ Consignment\\n Ł Accommodation\\n Ł Commercial Catering\\n Ł Commercial Interpretation\\n Ł Commercial Transport\\nCatering\\n Fish & Chips, The Grill, \\n \\nGrab & Go\\n \\n\\nUN Heads of Agencies\\n Media Centre\\nMedia Information\\nPress Conference Room\\n Ł Giant™s Causeway\\n   Side Event Rooms \\n Ł Derwentwater\\n Ł Strangford Lough\\nSide Event Studio\\nŁ \\nSide Events and Exhibits \\n Co-ordination Team\\nMeeting Rooms 1-21\\nMeeting Room Assignment\\nCatering\\n Trent Kitchen\\n Grab & Go\\nComputer Centre\\nMeeting Rooms 22-24 & Capacity Building Hub (located in Zone D)\\n                                      Plenaries  Ł Cairn Gorm Ł \\nBroadcast Stand-Up Positions\\nBroadcast Studios\\nKEY Toilets\\n  Accessible Toilets\\n   \\n(all locations)\\n \\n   \\n(all locations)\\n Changing Place Baby Change\\n Nursing Room\\n Cloakroom\\n Information\\n Catering\\n \\n Computer Centre\\n Meditation Rooms\\n Smoking Area\\n  ATM\\n Shuttle Trains\\n First Aid\\n'"
      ]
     },
     "execution_count": 125,
     "metadata": {},
     "output_type": "execute_result"
    }
   ],
   "source": [
    "reports[0]"
   ]
  },
  {
   "cell_type": "code",
   "execution_count": 129,
   "id": "1b705fb6-56d7-4e75-82ad-46830b5f84cd",
   "metadata": {},
   "outputs": [],
   "source": [
    "def HLS_processor(speeches):\n",
    "    cleaned_up = []\n",
    "    \n",
    "    for i in range(len(speeches)):\n",
    "        interim = speeches[i].split('\\n \\n \\n')\n",
    "        for _ in interim:\n",
    "            cleaned_up.append(_.replace('\\n', ''))\n",
    "    \n",
    "    return cleaned_up"
   ]
  },
  {
   "cell_type": "code",
   "execution_count": 130,
   "id": "3a3ca5ae-5ce5-4644-a189-53100909e327",
   "metadata": {},
   "outputs": [],
   "source": [
    "speech_tokens = HLS_processor(speeches)"
   ]
  },
  {
   "cell_type": "code",
   "execution_count": 131,
   "id": "a53bb2c0-59e0-4581-81b2-83c3d2753eb6",
   "metadata": {},
   "outputs": [
    {
     "data": {
      "text/plain": [
       "2050"
      ]
     },
     "execution_count": 131,
     "metadata": {},
     "output_type": "execute_result"
    }
   ],
   "source": [
    "len(speech_tokens)"
   ]
  },
  {
   "cell_type": "code",
   "execution_count": 135,
   "id": "31e645d3-ff2e-416f-a829-d4a64770c632",
   "metadata": {},
   "outputs": [
    {
     "data": {
      "text/plain": [
       "('PACIFIC ISLANDS FORUM ',\n",
       " '  UNFCCC COP 26 HIGH LEVEL SEGMENT Statement by the Secretary General of the Pacific Islands Forum Mr Henry Puna 10 November 2021',\n",
       " ' Mr President,',\n",
       " ' As the Pacific Islands Forum, we are 18 countries working for a peaceful, inclusive and prosperous region.',\n",
       " 'We are the Blue Pacific Continent. And we are the frontlines of the climate change crisis. ')"
      ]
     },
     "execution_count": 135,
     "metadata": {},
     "output_type": "execute_result"
    }
   ],
   "source": [
    "speech_tokens[0], speech_tokens[1], speech_tokens[2], speech_tokens[3], speech_tokens[4]"
   ]
  },
  {
   "cell_type": "code",
   "execution_count": 181,
   "id": "df8e70f1-e6c2-4d6e-8081-b0ba8bd950d6",
   "metadata": {},
   "outputs": [],
   "source": [
    "#test_split4"
   ]
  },
  {
   "cell_type": "code",
   "execution_count": 278,
   "id": "a597b514-fac3-4f71-8c5d-4a7a8b54a634",
   "metadata": {},
   "outputs": [],
   "source": [
    "def report_processor(reports):\n",
    "    interim1 = []\n",
    "    interim2 = []\n",
    "    output = []\n",
    "    \n",
    "    for i in reports:\n",
    "        #print(i)\n",
    "        if i in roman:\n",
    "            interim1.append(reports.split(i))\n",
    "        else:\n",
    "            interim1.append(i)\n",
    "    #return interim1\n",
    "    \n",
    "    for a in interim1:\n",
    "        for b in a:\n",
    "            interim2.append(b.split('\\n \\n \\n'))\n",
    "    \n",
    "    #return interim2\n",
    "    \n",
    "    for x in interim2:\n",
    "        for y in x:\n",
    "            z = y.replace('\\n','')\n",
    "            output.append(z)\n",
    "            \n",
    "    return output"
   ]
  },
  {
   "cell_type": "code",
   "execution_count": 279,
   "id": "3185a955-d8a8-4cad-b23f-21b2a1ad1598",
   "metadata": {},
   "outputs": [],
   "source": [
    "test = report_processor(raw_reports[1])"
   ]
  },
  {
   "cell_type": "code",
   "execution_count": 280,
   "id": "ae3be6ce-30e6-4e4b-b89e-4ca7dbe6b81d",
   "metadata": {},
   "outputs": [],
   "source": [
    "#test"
   ]
  },
  {
   "cell_type": "code",
   "execution_count": 281,
   "id": "585b6da0-758b-45be-9edc-664b2a122922",
   "metadata": {},
   "outputs": [],
   "source": [
    "report_tokens = report_processor(raw_reports)"
   ]
  },
  {
   "cell_type": "code",
   "execution_count": 288,
   "id": "d446c722-a02d-45a0-96b7-60ccdc58c083",
   "metadata": {},
   "outputs": [
    {
     "data": {
      "text/plain": [
       "'Decision(s) Paragraph(s)/activity  Mandate Further information and links composition of the relevant body United Nations climate change conferences, available at https://unfccc.int/process-and-meetings/bodies/election-and-membership 3/CP.23 annex, table 5, activity E.4 Encourage knowledge exchange activities among secretariat staff across all thematic areas to update on work related to gender Ongoing. The secretariat is undertaking knowledge exchange activities, including in the context of capacity-building for constituted bodies, organizing events and preparing documents. Awareness-raising and capacity-building within the secretariat resulted in, among other things, an initiative spearheaded by the observer liaison team to strengthen the criteria for side event applicants by including a commitment to gender-balanced panels at the time of application 3/CP.25 15(a) Maintain the position of senior gender focal point to retain relevant expertise and support and monitor implementation of the enhanced LWPG and its gender action plan The secretariat has maintained the senior position as external and internal gender focal point, supported by a team, to continue implementation of the enhanced LWPG and its gender action plan 3/CP.25 15(c) Provide capacity-building support to constituted bodies and secretariat staff in integrating a gender perspective into their respective areas of work in collaboration with relevant organizations, as appropriate Capacity-building has been provided to the KCI and its technical team, and an overview of practices for the inclusion of gender-related issues within other constituted bodies has been provided to the PAICC The secretariat organized a virtual knowledge exchange event to provide secretariat staff supporting constituted bodies with a space to share lessons learned and best practices as well as possible challenges The secretariat prepared thematic briefs on gender for the AC, the AFB, the CDM, the CGE, the CTCN, the FWG, the KCI, the LEG, the PCCB, the SCF, the TEC and the WIM Executive Committee. The briefs include general context, reference to relevant decisions, information on gender under the UNFCCC, specific activities under the LWPG gender action plan, gender terminology, illustrative examples related to gender and climate change, relevant work on gender for each constituted body, background information on previous engagement, gender balance data, and resources and networks The secretariat is preparing a dedicated web page for information on gender and climate change for all constituted bodies, including the names and contact details of gender focal point, relevant documents and link to resources '"
      ]
     },
     "execution_count": 288,
     "metadata": {},
     "output_type": "execute_result"
    }
   ],
   "source": [
    "report_tokens[2000]"
   ]
  },
  {
   "cell_type": "code",
   "execution_count": 294,
   "id": "ddf00d9c-5ed2-4fd4-bfe0-942a9b56e946",
   "metadata": {},
   "outputs": [],
   "source": [
    "speeches_df = pd.DataFrame(speech_tokens)\n",
    "reports_df = pd.DataFrame(report_tokens)"
   ]
  },
  {
   "cell_type": "code",
   "execution_count": 293,
   "id": "a78f951f-6fcf-49ff-9c44-36a5e4e0fb09",
   "metadata": {},
   "outputs": [
    {
     "name": "stdout",
     "output_type": "stream",
     "text": [
      "<class 'pandas.core.frame.DataFrame'>\n",
      "RangeIndex: 2050 entries, 0 to 2049\n",
      "Data columns (total 1 columns):\n",
      " #   Column  Non-Null Count  Dtype \n",
      "---  ------  --------------  ----- \n",
      " 0   0       2050 non-null   object\n",
      "dtypes: object(1)\n",
      "memory usage: 16.1+ KB\n"
     ]
    }
   ],
   "source": [
    "speeches_df.info()"
   ]
  },
  {
   "cell_type": "code",
   "execution_count": 295,
   "id": "46f38a51-9c66-4263-b9e9-605a4472978b",
   "metadata": {},
   "outputs": [
    {
     "name": "stdout",
     "output_type": "stream",
     "text": [
      "<class 'pandas.core.frame.DataFrame'>\n",
      "RangeIndex: 20907 entries, 0 to 20906\n",
      "Data columns (total 1 columns):\n",
      " #   Column  Non-Null Count  Dtype \n",
      "---  ------  --------------  ----- \n",
      " 0   0       20907 non-null  object\n",
      "dtypes: object(1)\n",
      "memory usage: 163.5+ KB\n"
     ]
    }
   ],
   "source": [
    "reports_df.info()"
   ]
  },
  {
   "cell_type": "code",
   "execution_count": 307,
   "id": "ed804bb2-044d-4fd0-b749-cd19e35dedc4",
   "metadata": {},
   "outputs": [
    {
     "data": {
      "text/plain": [
       "20907"
      ]
     },
     "execution_count": 307,
     "metadata": {},
     "output_type": "execute_result"
    }
   ],
   "source": [
    "len(report_tokens)"
   ]
  },
  {
   "cell_type": "code",
   "execution_count": 297,
   "id": "37fc12d7-4afd-41b5-b9ad-1f40cdc87678",
   "metadata": {},
   "outputs": [],
   "source": [
    "speeches_df.to_csv('speeches.csv')"
   ]
  },
  {
   "cell_type": "code",
   "execution_count": 298,
   "id": "bb616d65-a43e-49f8-88e6-8c09e4428280",
   "metadata": {},
   "outputs": [],
   "source": [
    "reports_df.to_csv('reports.csv')"
   ]
  },
  {
   "cell_type": "code",
   "execution_count": 302,
   "id": "57129d1e-5769-4a30-8599-0db145adc4e5",
   "metadata": {},
   "outputs": [],
   "source": [
    "tt_speech = sum([len(d.split(' ')) for d in speech_tokens])\n",
    "tt_report = sum([len(d.split(' ')) for d in report_tokens])"
   ]
  },
  {
   "cell_type": "code",
   "execution_count": 311,
   "id": "e4196689-bc8c-4a44-b1e6-f4a1a226f844",
   "metadata": {},
   "outputs": [
    {
     "name": "stdout",
     "output_type": "stream",
     "text": [
      "Total non-unique terms in speeches: 68530\n",
      "Total non-unique terms in reports: 1205336\n",
      "Total documents: 22957\n"
     ]
    }
   ],
   "source": [
    "print(f'Total non-unique terms in speeches: {tt_speech}')\n",
    "print(f'Total non-unique terms in reports: {tt_report}')\n",
    "print(f'Total documents: {len(report_tokens) + len(speech_tokens)}')"
   ]
  },
  {
   "cell_type": "code",
   "execution_count": 309,
   "id": "f8e0c72b-db9b-446a-b51d-7cc145fe0ea9",
   "metadata": {},
   "outputs": [],
   "source": [
    "with open('speech_tokens.txt', 'wb') as fh:\n",
    "    pickle.dump(speech_tokens, fh)"
   ]
  },
  {
   "cell_type": "code",
   "execution_count": 310,
   "id": "45354bb5-f47e-4660-a70a-ec930f83aed4",
   "metadata": {},
   "outputs": [],
   "source": [
    "with open('report_tokens.txt', 'wb') as fh:\n",
    "    pickle.dump(report_tokens, fh)"
   ]
  },
  {
   "cell_type": "code",
   "execution_count": 5,
   "id": "f9c312d5-c665-41df-999e-2d6615e5bd3e",
   "metadata": {},
   "outputs": [],
   "source": [
    "unpickle_speeches = open(\"speech_tokens.txt\", \"rb\")\n",
    "spickle = pickle.load(unpickle_speeches)\n",
    "\n",
    "unpickle_reports = open(\"report_tokens.txt\", \"rb\")\n",
    "rickle = pickle.load(unpickle_reports)\n",
    "\n",
    "#print(spickle)\n",
    "#print(rickle)"
   ]
  },
  {
   "cell_type": "code",
   "execution_count": 6,
   "id": "88a6bbaf-108e-4fc0-8e3c-1470fd4e3b48",
   "metadata": {},
   "outputs": [
    {
     "data": {
      "text/plain": [
       "2050"
      ]
     },
     "execution_count": 6,
     "metadata": {},
     "output_type": "execute_result"
    }
   ],
   "source": [
    "len(spickle)"
   ]
  },
  {
   "cell_type": "code",
   "execution_count": 7,
   "id": "5827881b-ebc8-4b80-90a8-2c1a781e9f03",
   "metadata": {},
   "outputs": [
    {
     "data": {
      "text/plain": [
       "20907"
      ]
     },
     "execution_count": 7,
     "metadata": {},
     "output_type": "execute_result"
    }
   ],
   "source": [
    "len(rickle)"
   ]
  },
  {
   "cell_type": "code",
   "execution_count": null,
   "id": "eb418732-56da-43dd-bc2b-be3ff30d465a",
   "metadata": {},
   "outputs": [],
   "source": []
  }
 ],
 "metadata": {
  "kernelspec": {
   "display_name": "Python 3 (ipykernel)",
   "language": "python",
   "name": "python3"
  },
  "language_info": {
   "codemirror_mode": {
    "name": "ipython",
    "version": 3
   },
   "file_extension": ".py",
   "mimetype": "text/x-python",
   "name": "python",
   "nbconvert_exporter": "python",
   "pygments_lexer": "ipython3",
   "version": "3.8.11"
  }
 },
 "nbformat": 4,
 "nbformat_minor": 5
}
